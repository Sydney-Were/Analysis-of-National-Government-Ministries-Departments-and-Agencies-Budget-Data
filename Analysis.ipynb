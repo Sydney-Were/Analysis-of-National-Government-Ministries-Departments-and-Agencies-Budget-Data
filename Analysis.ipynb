{
 "cells": [
  {
   "cell_type": "markdown",
   "id": "3514470f",
   "metadata": {},
   "source": [
    "# Business Understanding"
   ]
  },
  {
   "cell_type": "markdown",
   "id": "f4ca9a6d",
   "metadata": {},
   "source": []
  }
 ],
 "metadata": {
  "kernelspec": {
   "display_name": "learn-env",
   "language": "python",
   "name": "python3"
  },
  "language_info": {
   "name": "python",
   "version": "3.8.15"
  }
 },
 "nbformat": 4,
 "nbformat_minor": 5
}
