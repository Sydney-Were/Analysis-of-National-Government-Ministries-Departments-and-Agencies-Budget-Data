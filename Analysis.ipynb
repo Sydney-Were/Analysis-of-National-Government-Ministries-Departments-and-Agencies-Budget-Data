{
 "cells": [
  {
   "cell_type": "markdown",
   "id": "3514470f",
   "metadata": {},
   "source": [
    "# Analysis of National Government Ministries , Departments and Agencies Budget Data."
   ]
  },
  {
   "cell_type": "markdown",
   "id": "0e9c13ae",
   "metadata": {},
   "source": [
    "## Business Understanding\n",
    "\n",
    "### Business Problem:\n",
    "\n",
    "This project investigates how funds have been allocated and spent across Kenya’s national government ministries, departments, and agencies (MDAs) over the past three financial years (2021/2022, 2022/2023, 2023/2024). The aim is to determine whether recurring discrepancies between approved budgets and actual expenditures exist, and if so, whether these discrepancies indicate inefficiencies, weak budget execution, or potential audit concerns.\n",
    "\n",
    "### Introduction — Real-world problem the project aims to solve:\n",
    "\n",
    "Kenya’s public funds must be allocated and utilized transparently to ensure accountability, efficiency, and value for money. While single-year audits provide snapshots, they often miss patterns such as persistent underspending, overspending, or repeated audit concerns. By consolidating data from three consecutive Auditor-General reports, this project will uncover long-term trends in budget allocation and execution, highlight systemic inefficiencies, and flag potential risks for audit and governance review.\n",
    "\n",
    "### Stakeholders:\n",
    "\n",
    "1. Auditor-General / Audit Offices: Prioritize follow-up audits on entities with repeated large variances or recurring findings.\n",
    "\n",
    "2. Controller of Budget: Identify ministries with poor budget execution or recurring irregularities to guide hearings and budget sanctions.\n",
    "\n",
    "3. Policy analysts & Ministry finance teams: Target reforms (procurement, budgeting discipline, capacity building) where execution gaps are persistent.\n",
    "\n",
    "4. NGOs & advocacy groups: Create evidence-based transparency reports and campaigns.\n",
    "\n",
    "5. Investigative journalists & researchers: Produce data-driven stories on spending patterns and accountability failures.\n",
    "\n",
    "### Implications for the real world and stakeholders:\n",
    "\n",
    "A structured, longitudinal analysis enables detection of recurring inefficiencies and systematic audit concerns that single-year reviews miss. Findings can guide targeted audits, improve budget discipline (by showing where approved budgets routinely diverge from expenditures), and inform policy reforms (e.g., strengthening procurement controls, rolling budget ceilings, or capacity support). For civil society and media, the dataset supplies evidence for public accountability campaigns. Overall, the project strengthens governance by turning Auditor-General PDFs into persistent, actionable intelligence."
   ]
  },
  {
   "cell_type": "markdown",
   "id": "4a297049",
   "metadata": {},
   "source": [
    "## Data Understanding"
   ]
  },
  {
   "cell_type": "markdown",
   "id": "aa8cb3ab",
   "metadata": {},
   "source": [
    "### Data sources and why they are suitable:\n",
    "This project draws on official Auditor-General reports, which provide the authoritative record of Kenya’s national government budgets, expenditures, and audit observations. \n",
    "\n",
    "### Core sources\n",
    "\n",
    "1. Auditor-General Reports (FY2020/21, FY2022/23, FY2023/24)- \n",
    "Authoritative, legally mandated audits with: (i) budget vs actuals, (ii) opinion types, (iii) control/governance findings, (iv) recurrent queries and pending bills. The 2023/24 MDAs report will anchor the latest year’s audited actuals and narrative risk signals (opinions; budget execution notes; control weaknesses). \n",
    "\n",
    "2. National Government Budget “Blue Book” (FY2021/22) - \n",
    "Official approved estimates at vote/program level—your baseline for “approved_budget” across MDAs.\n",
    "\n",
    "3. Kenya_National_Govt_Budget_2021_2024.csv - \n",
    "Your structured, machine-readable compilation for FY2021/22–FY2023/24 that accelerates descriptive stats, joins, and sanity checks across years (vote/MDA, approved vs actual, etc.).\n",
    "\n",
    "4. National-Government-MinistriesDepartments-And-Agencies-2023-2024.pdf - \n",
    "The latest Auditor-General MDAs report—brings detailed, vote-level audit opinions and “Statement of Comparison of Budget and Actual Amounts,” plus systemic issues (e.g., pending bills, late releases, control weaknesses) to contextualize execution gaps.\n",
    "These datasets are the official, publicly available reports that include approved budgets, actual expenditures, and audit observations for ministries, departments, and agencies (MDAs). They are suitable because they are government-issued, comprehensive, and structured around the exact problem of interest: budget allocation and execution.\n",
    "\n",
    "### Planned extraction and structuring of the data:\n",
    "\n",
    "Use Python PDF extraction tools (pdfplumber) to pull out the “Statement of Comparison of Budget and Actual Amounts,” “Summary Statement of Appropriation,” and “Budgetary Control and Performance” sections from the PDFs.\n",
    "\n",
    "Normalize MDA names across years (to account for mergers, renaming, or restructuring).\n",
    "\n",
    "Build a unified dataset with the following features:\n",
    "\n",
    "* MDA_name\n",
    "\n",
    "* financial_year\n",
    "\n",
    "* approved_budget\n",
    "\n",
    "* actual_expenditure\n",
    "\n",
    "* variance (approved – actual)\n",
    "\n",
    "* pct_variance (variance as % of approved)\n",
    "\n",
    "* audit_observations (structured tags or extracted text)\n",
    "\n",
    "* Dataset size: number of MDAs × 3 years (expected several hundred rows, depending on how many MDAs are listed per year).\n",
    "\n",
    "### Descriptive statistics to compute:\n",
    "\n",
    "* For approved and actual expenditures: count, total, mean, median, min, max, standard deviation.\n",
    "\n",
    "* For variances: total variance, average % under/overspending, distribution of % variances across MDAs.\n",
    "\n",
    "* Frequency of MDAs with significant underspending (>5%), overspending (>0%), or within tolerance (±5%).\n",
    "\n",
    "* Audit observations summarized by category (e.g., procurement irregularities, unsupported expenditures, late disbursements).\n",
    "\n",
    "### Justification for chosen features:\n",
    "\n",
    "* MDA_name and financial_year are necessary identifiers for longitudinal analysis.\n",
    "\n",
    "* Approved_budget and actual_expenditure form the basis of budget execution analysis.\n",
    "\n",
    "* Variance and pct_variance allow comparisons across MDAs regardless of size.\n",
    "\n",
    "* Audit_observations provide explanatory context for discrepancies and help flag recurring governance issues.\n",
    "\n",
    "### Limitations of the data and implications:\n",
    "\n",
    "* Format inconsistency: reports are published as PDFs with mixed tables and text, requiring a hybrid extraction strategy and some manual cleaning.\n",
    "\n",
    "* Naming inconsistencies: some MDAs change names or merge, which complicates longitudinal tracking.\n",
    "\n",
    "* Accounting basis differences: reporting conventions may differ slightly year to year, affecting comparability.\n",
    "\n",
    "* Granularity limits: Blue Books and Audit Reports provide institution-level data but not always project-level detail, limiting root-cause analysis.\n",
    "\n",
    "* Audit text variability: audit observations are qualitative and may require natural language processing or manual tagging to be comparable across years.\n",
    "\n",
    "### Mitigation strategies:\n",
    "\n",
    "* Combine automated extraction with manual review for problematic entries.\n",
    "\n",
    "* Maintain a canonical MDA name mapping across years.\n",
    "\n",
    "* Clearly document assumptions and cleaning steps in the notebook.\n",
    "\n",
    "* Include a confidence flag for parsed figures (high when numbers are extracted from tables, lower when parsed from narrative text)."
   ]
  },
  {
   "cell_type": "code",
   "execution_count": 1,
   "id": "dc5eb88d",
   "metadata": {},
   "outputs": [],
   "source": [
    "#IMPORT NECESSARY LIBRARIES\n",
    "import pandas as pd\n",
    "import numpy as np\n",
    "import re"
   ]
  },
  {
   "cell_type": "markdown",
   "id": "1dd4fed8",
   "metadata": {},
   "source": [
    "## Data Cleaning\n",
    "\n",
    "Step 1: Load and Inspect the Raw Data"
   ]
  },
  {
   "cell_type": "code",

   "execution_count": 2,

   "id": "f6fafea8",
   "metadata": {},
   "outputs": [
    {
     "name": "stdout",
     "output_type": "stream",
     "text": [
      "<class 'pandas.core.frame.DataFrame'>\n",
      "RangeIndex: 561 entries, 0 to 560\n",
      "Data columns (total 5 columns):\n",
      " #   Column                      Non-Null Count  Dtype  \n",
      "---  ------                      --------------  -----  \n",
      " 0   Ministry/Department/Agency  561 non-null    object \n",
      " 1   Financial Year              561 non-null    object \n",
      " 2   Approved Budget             561 non-null    float64\n",
      " 3   Actual Expenditure          561 non-null    float64\n",
      " 4   Variance                    561 non-null    float64\n",
      "dtypes: float64(3), object(2)\n",
      "memory usage: 22.0+ KB\n"
     ]
    }
   ],
   "source": [
    "\n",
    "# Load the compiled CSV\n",
    "df = pd.read_csv(\"Data\\Kenya_National_Govt_Budget_2021_2024.csv\")\n",
    "\n",
    "df.head()\n",
    "df.info()\n"
   ]
  },
  {
   "cell_type": "code",

   "execution_count": 3,

   "id": "a39f2abf",
   "metadata": {},
   "outputs": [
    {
     "name": "stdout",
     "output_type": "stream",
     "text": [
      "Index(['MDA_name', 'Financial Year', 'Approved Budget', 'Actual Expenditure',\n",
      "       'Variance'],\n",
      "      dtype='object')\n"
     ]
    }
   ],
   "source": [
    "# renaming MDA column\n",
    "df = df.rename(columns={\"Ministry/Department/Agency\": \"MDA_name\"})\n",
    "print(df.columns)\n"
   ]
  },
  {
   "cell_type": "markdown",
   "id": "1e55b38f",
   "metadata": {},
   "source": [
    "Step 2. Clean Ministry Names\n",
    "\n",
    "Issues: leading numbers, trailing digits/fragments, generic \"noise\" rows."
   ]
  },
  {
   "cell_type": "code",

   "execution_count": 4,

   "id": "734581ec",
   "metadata": {},
   "outputs": [],
   "source": [
    "# Ministry name cleaning\n",
    "\n",
    "def clean_mda_name(name):\n",
    "    \"\"\"Clean a single MDA name string.\"\"\"\n",
    "    if pd.isna(name):\n",
    "        return None\n",
    "    \n",
    "    name = str(name).strip()\n",
    "\n",
    "    # Remove leading numbers and dots (\"4 Coast Water…\" → \"Coast Water…\")\n",
    "    name = re.sub(r'^\\d+\\s*', '', name)\n",
    "\n",
    "    # Remove trailing digits / fragments (\"Arror Dam 91,852,267 -\" → \"Arror Dam\")\n",
    "    name = re.sub(r'\\d.*$', '', name).strip()\n",
    "\n",
    "    # Remove unwanted tokens\n",
    "    noise_words = [\n",
    "        \"TOTAL\", \"REFERENCE\", \"COMPENSATION OF\", \"COMPENSATION\",\n",
    "        \"GRAND TOTAL\", \"BALANCE\", \"BANK\", \"CASH\", \"EQUIVALENT\",\n",
    "        \"NOTE\", \"RECEIVED\", \"CORPORATION\", \"SETTLEMENT\", \"BURNER\"\n",
    "    ]\n",
    "    for word in noise_words:\n",
    "        if word in name.upper():\n",
    "            return None\n",
    "\n",
    "    # Final cleanup: remove stray characters\n",
    "    name = re.sub(r\"[^A-Za-z0-9\\s&\\-]\", \"\", name).strip()\n",
    "\n",
    "    # Return None if still too short\n",
    "    if not name or (len(name) < 4 and not name.isupper()):\n",
    "        return None\n",
    "    \n",
    "    return name\n",
    "\n",
    "\n",
    "# ---- Apply to DataFrame ----\n",
    "# Drop empty or blank values first\n",
    "df = df.dropna(subset=[\"MDA_name\"])\n",
    "df = df[df[\"MDA_name\"].str.strip() != \"\"]\n",
    "\n",
    "# Apply cleaning function\n",
    "df[\"MDA_name\"] = df[\"MDA_name\"].apply(clean_mda_name)\n",
    "\n",
    "# Drop rows where cleaning returned None\n",
    "df = df.dropna(subset=[\"MDA_name\"])\n",
    "\n",
    "# Remove rows that look like fragments (extra filter pass)\n",
    "bad_patterns = r\"disclosed|statement of|financial assets|in october|of kshs|prescribed|regulations|treatment\"\n",
    "df = df[~df[\"MDA_name\"].str.lower().str.contains(bad_patterns, na=False)]\n",
    "\n",
    "# Strip whitespace again just in case\n",
    "df[\"MDA_name\"] = df[\"MDA_name\"].str.strip()\n"
   ]
  },
  {
   "cell_type": "markdown",
   "id": "5fcf115c",
   "metadata": {},
   "source": [
    "Step 3. Clean Numeric Columns\n",
    "\n",
    "Budgets often come with spaces, commas, or text."
   ]
  },
  {
   "cell_type": "code",

    
   "execution_count": 5,

    
   "id": "66c5de64",
   "metadata": {},
   "outputs": [],
   "source": [
    "def clean_budget(value):\n",
    "    if pd.isna(value):\n",
    "        return None\n",
    "    # Remove commas and spaces inside numbers\n",
    "    value = str(value).replace(\",\", \"\").replace(\" \", \"\")\n",
    "    # Keep only digits\n",
    "    value = re.sub(r\"[^\\d]\", \"\", value)\n",
    "    return int(value) if value.isdigit() else None\n",
    "\n",
    "for col in [\"Approved Budget\", \"Actual Expenditure\"]:\n",
    "     df.loc[:, col] = df[col].apply(clean_budget)\n",
    "\n",
    "     \n",
    "\n"
   ]
  },
  {
   "cell_type": "markdown",
   "id": "19373411",
   "metadata": {},
   "source": [
    "Step 4. Handle Impossible Budgets\n",
    "\n",
    "Drop rows with budgets that are small (<1000 unless verified)."
   ]
  },
  {
   "cell_type": "code",

    
   "execution_count": 6,

    
   "id": "22065ee7",
   "metadata": {},
   "outputs": [],
   "source": [
    "df = df[(df[\"Approved Budget\"] >= 1000) & (df[\"Actual Expenditure\"] >= 1000)]\n"
   ]
  },
  {
   "cell_type": "markdown",
   "id": "47f6a3d1",
   "metadata": {},
   "source": [
    "Step 5. Aggregate duplicates instead of dropping\n",
    "\n",
    "If a ministry appears multiple times in one year, you’ll get one row per ministry/year with aggregated totals — no data lost."
   ]
  },
  {
   "cell_type": "code",

    
   "execution_count": 7,

    
   "id": "88b4a0a8",
   "metadata": {},
   "outputs": [
    {
     "data": {
      "application/vnd.microsoft.datawrangler.viewer.v0+json": {
       "columns": [
        {
         "name": "index",
         "rawType": "int64",
         "type": "integer"
        },
        {
         "name": "MDA_name",
         "rawType": "object",
         "type": "string"
        },
        {
         "name": "Financial Year",
         "rawType": "object",
         "type": "string"
        },
        {
         "name": "Approved Budget",
         "rawType": "int64",
         "type": "integer"
        },
        {
         "name": "Actual Expenditure",
         "rawType": "int64",
         "type": "integer"
        }
       ],

        
       "ref": "e9c962de-ab26-4fc2-9457-5925ff601a62",

        
       "rows": [
        [
         "0",
         "AIA",
         "2020/2021",
         "198535694030",
         "155293985890"
        ],
        [
         "1",
         "ASDSP II",
         "2021/2022",
         "8300000",
         "2563200"
        ],
        [
         "2",
         "Account Payable - Deposits",
         "2020/2021",
         "4529100210",
         "15488034310"
        ],
        [
         "3",
         "Account Payables",
         "2021/2022",
         "1399977930",
         "6107770090"
        ],
        [
         "4",
         "Accounts",
         "2020/2021",
         "158689062850",
         "4643433390"
        ],
        [
         "5",
         "Acquisition of Assets",
         "2020/2021",
         "2603723680",
         "1931824430"
        ],
        [
         "6",
         "Acquisition of Assets",
         "2021/2022",
         "1137124700",
         "1581610480"
        ],
        [
         "7",
         "Acquisition of Land",
         "2022/2023",
         "1320960560",
         "1225609480"
        ],
        [
         "8",
         "Adjustment during the year",
         "2020/2021",
         "6262310",
         "4840628180"
        ],
        [
         "9",
         "Agro-Chemical and Food",
         "2020/2021",
         "28468840000",
         "29418840000"
        ],
        [
         "10",
         "Application Fees",
         "2022/2023",
         "55696400",
         "55816140"
        ],
        [
         "11",
         "Application for docking Facility USD",
         "2023/2024",
         "5020",
         "645860"
        ],
        [
         "12",
         "April",
         "2020/2021",
         "20210",
         "6440240"
        ],
        [
         "13",
         "April",
         "2021/2022",
         "20210",
         "10632770"
        ],
        [
         "14",
         "April",
         "2022/2023",
         "369136920",
         "297447150"
        ],
        [
         "15",
         "Arror",
         "2023/2024",
         "918522670",
         "918522670"
        ],
        [
         "16",
         "Arror Dam",
         "2020/2021",
         "61595780",
         "61595780"
        ],
        [
         "17",
         "Arror Dam",
         "2021/2022",
         "918522670",
         "31965910"
        ],
        [
         "18",
         "Arror Dam",
         "2022/2023",
         "918522670",
         "31965910"
        ],
        [
         "19",
         "Athi Water Services Board",
         "2021/2022",
         "471816774430",
         "447803101720"
        ],
        [
         "20",
         "August",
         "2022/2023",
         "375599770",
         "395497610"
        ],
        [
         "21",
         "Authentication of Certificate USD-",
         "2023/2024",
         "5050",
         "649740"
        ],
        [
         "22",
         "B Frame",
         "2020/2021",
         "8540000",
         "20491000"
        ],
        [
         "23",
         "Basic Wages",
         "2020/2021",
         "4818860560",
         "3322773030"
        ],
        [
         "24",
         "Berlin recurrent",
         "2023/2024",
         "1420",
         "41276490"
        ],
        [
         "25",
         "Betting Control and Licensing",
         "2023/2024",
         "1370525680",
         "1370517680"
        ],
        [
         "26",
         "Bomet Mulot Water",
         "2022/2023",
         "20685825360",
         "3566521610"
        ],
        [
         "27",
         "Bomet Mulot Water Supply",
         "2021/2022",
         "20685825360",
         "3566521610"
        ],
        [
         "28",
         "Bunyala DCCs",
         "2023/2024",
         "470000000",
         "300000000"
        ],
        [
         "29",
         "Bunyonge",
         "2020/2021",
         "100000",
         "1500000"
        ],
        [
         "30",
         "Busia",
         "2023/2024",
         "645546550",
         "645446550"
        ],
        [
         "31",
         "Busia Sugar Company",
         "2022/2023",
         "14856750",
         "297135000"
        ],
        [
         "32",
         "Business Registration Services",
         "2022/2023",
         "11481010230",
         "11481009760"
        ],
        [
         "33",
         "Business Registration Services",
         "2023/2024",
         "23552820920",
         "23557325420"
        ],
        [
         "34",
         "CADREP",
         "2021/2022",
         "72058310",
         "99562630"
        ],
        [
         "35",
         "CBK-Deposits",
         "2020/2021",
         "1470659030",
         "1369963150"
        ],
        [
         "36",
         "CBK-Recurrent",
         "2020/2021",
         "2737105780",
         "15855200"
        ],
        [
         "37",
         "Capital Grants to Other",
         "2023/2024",
         "18274303780",
         "18365814160"
        ],
        [
         "38",
         "Catering Levy TrusteeKenya",
         "2020/2021",
         "1220000000",
         "1221250280"
        ],
        [
         "39",
         "Central Rift Valley Water Works",
         "2022/2023",
         "6708750000",
         "6497810940"
        ],
        [
         "40",
         "Cheparareira",
         "2022/2023",
         "2170962020",
         "1769276550"
        ],
        [
         "41",
         "Cheparareira Sewerage",
         "2021/2022",
         "2170962020",
         "1008828600"
        ],
        [
         "42",
         "Civil Registration Department",
         "2022/2023",
         "398939070",
         "398939070"
        ],
        [
         "43",
         "Civil Registration Department",
         "2023/2024",
         "684222600",
         "720055260"
        ],
        [
         "44",
         "Co-operative State Department of",
         "2020/2021",
         "11416967315000",
         "501174790"
        ],
        [
         "45",
         "Coast Water Service Board",
         "2020/2021",
         "262715892900",
         "126121065310"
        ],
        [
         "46",
         "Coast Water Service Board",
         "2021/2022",
         "158395468040",
         "128659231450"
        ],
        [
         "47",
         "Coast Water Works Development",
         "2022/2023",
         "6914779360",
         "5700194760"
        ],
        [
         "48",
         "Construction of Roads",
         "2020/2021",
         "949499990",
         "906708500"
        ],
        [
         "49",
         "Conveyance Fees",
         "2020/2021",
         "88862860",
         "75707400"
        ]
       ],
       "shape": {
        "columns": 4,

         
        "rows": 283

         
       }
      },
      "text/html": [
       "<div>\n",
       "<style scoped>\n",
       "    .dataframe tbody tr th:only-of-type {\n",
       "        vertical-align: middle;\n",
       "    }\n",
       "\n",
       "    .dataframe tbody tr th {\n",
       "        vertical-align: top;\n",
       "    }\n",
       "\n",
       "    .dataframe thead th {\n",
       "        text-align: right;\n",
       "    }\n",
       "</style>\n",
       "<table border=\"1\" class=\"dataframe\">\n",
       "  <thead>\n",
       "    <tr style=\"text-align: right;\">\n",
       "      <th></th>\n",
       "      <th>MDA_name</th>\n",
       "      <th>Financial Year</th>\n",
       "      <th>Approved Budget</th>\n",
       "      <th>Actual Expenditure</th>\n",
       "    </tr>\n",
       "  </thead>\n",
       "  <tbody>\n",
       "    <tr>\n",
       "      <th>0</th>\n",
       "      <td>AIA</td>\n",
       "      <td>2020/2021</td>\n",
       "      <td>198535694030</td>\n",
       "      <td>155293985890</td>\n",
       "    </tr>\n",
       "    <tr>\n",
       "      <th>1</th>\n",
       "      <td>ASDSP II</td>\n",
       "      <td>2021/2022</td>\n",
       "      <td>8300000</td>\n",
       "      <td>2563200</td>\n",
       "    </tr>\n",
       "    <tr>\n",
       "      <th>2</th>\n",
       "      <td>Account Payable - Deposits</td>\n",
       "      <td>2020/2021</td>\n",
       "      <td>4529100210</td>\n",
       "      <td>15488034310</td>\n",
       "    </tr>\n",
       "    <tr>\n",
       "      <th>3</th>\n",
       "      <td>Account Payables</td>\n",
       "      <td>2021/2022</td>\n",
       "      <td>1399977930</td>\n",
       "      <td>6107770090</td>\n",
       "    </tr>\n",
       "    <tr>\n",
       "      <th>4</th>\n",
       "      <td>Accounts</td>\n",
       "      <td>2020/2021</td>\n",
       "      <td>158689062850</td>\n",
       "      <td>4643433390</td>\n",
       "    </tr>\n",
       "    <tr>\n",
       "      <th>...</th>\n",
       "      <td>...</td>\n",
       "      <td>...</td>\n",
       "      <td>...</td>\n",
       "      <td>...</td>\n",
       "    </tr>\n",
       "    <tr>\n",

        
       "      <th>278</th>\n",

        
       "      <td>Water Supply</td>\n",
       "      <td>2020/2021</td>\n",
       "      <td>40360</td>\n",
       "      <td>40380</td>\n",
       "    </tr>\n",
       "    <tr>\n",

        
       "      <th>279</th>\n",

        
       "      <td>a vi Emergency payments made in</td>\n",
       "      <td>2023/2024</td>\n",
       "      <td>59488100</td>\n",
       "      <td>52000000</td>\n",
       "    </tr>\n",
       "    <tr>\n",

        
       "      <th>280</th>\n",

        
       "      <td>bii Registration of Households in</td>\n",
       "      <td>2023/2024</td>\n",
       "      <td>5000000</td>\n",
       "      <td>43000000</td>\n",
       "    </tr>\n",
       "    <tr>\n",

       "      <th>281</th>\n",

       "      <td>previously forfeited for the years</td>\n",
       "      <td>2023/2024</td>\n",
       "      <td>20110</td>\n",
       "      <td>20120</td>\n",
       "    </tr>\n",
       "    <tr>\n",

       "      <th>282</th>\n",

       "      <td>since the financial years ended</td>\n",
       "      <td>2022/2023</td>\n",
       "      <td>20170</td>\n",
       "      <td>20180</td>\n",
       "    </tr>\n",
       "  </tbody>\n",
       "</table>\n",

       "<p>283 rows × 4 columns</p>\n",

       "</div>"
      ],
      "text/plain": [
       "                               MDA_name Financial Year  Approved Budget  \\\n",
       "0                                   AIA      2020/2021     198535694030   \n",
       "1                              ASDSP II      2021/2022          8300000   \n",
       "2            Account Payable - Deposits      2020/2021       4529100210   \n",
       "3                      Account Payables      2021/2022       1399977930   \n",
       "4                              Accounts      2020/2021     158689062850   \n",
       "..                                  ...            ...              ...   \n",

       "278                        Water Supply      2020/2021            40360   \n",
       "279     a vi Emergency payments made in      2023/2024         59488100   \n",
       "280   bii Registration of Households in      2023/2024          5000000   \n",
       "281  previously forfeited for the years      2023/2024            20110   \n",
       "282     since the financial years ended      2022/2023            20170   \n",

       "\n",
       "     Actual Expenditure  \n",
       "0          155293985890  \n",
       "1               2563200  \n",
       "2           15488034310  \n",
       "3            6107770090  \n",
       "4            4643433390  \n",
       "..                  ...  \n",

       "278               40380  \n",
       "279            52000000  \n",
       "280            43000000  \n",
       "281               20120  \n",
       "282               20180  \n",
       "\n",
       "[283 rows x 4 columns]"
      ]
     },
     "execution_count": 7,

     "metadata": {},
     "output_type": "execute_result"
    }
   ],
   "source": [
    "df = df.groupby([\"MDA_name\", \"Financial Year\"], as_index=False).agg({\n",
    "    \"Approved Budget\": \"sum\",\n",
    "    \"Actual Expenditure\": \"sum\"\n",
    "})\n",
    "df"
   ]
  },
  {
   "cell_type": "markdown",
   "id": "31deab20",
   "metadata": {},
   "source": [
    "Step 6. Create Variance Features\n",
    "\n"
   ]
  },
  {
   "cell_type": "code",

   "execution_count": 8,

   "id": "a93feb42",
   "metadata": {},
   "outputs": [],
   "source": [
    "df[\"variance\"] = df[\"Approved Budget\"] - df[\"Actual Expenditure\"]\n",
    "df[\"pct_variance\"] = (df[\"variance\"] / df[\"Approved Budget\"]) * 100\n"
   ]
  },
  {
   "cell_type": "code",

   "execution_count": 9,

   "id": "1f69ed8c",
   "metadata": {},
   "outputs": [
    {
     "data": {
      "application/vnd.microsoft.datawrangler.viewer.v0+json": {
       "columns": [
        {
         "name": "index",
         "rawType": "int64",
         "type": "integer"
        },
        {
         "name": "MDA_name",
         "rawType": "object",
         "type": "string"
        },
        {
         "name": "Financial Year",
         "rawType": "object",
         "type": "string"
        },
        {
         "name": "Approved Budget",
         "rawType": "int64",
         "type": "integer"
        },
        {
         "name": "Actual Expenditure",
         "rawType": "int64",
         "type": "integer"
        },
        {
         "name": "variance",
         "rawType": "int64",
         "type": "integer"
        },
        {
         "name": "pct_variance",
         "rawType": "float64",
         "type": "float"
        }
       ],

       "ref": "d5a09b88-56ce-4ca6-afdf-2bfccab4880d",
       "rows": [
        [
         "263",

         "Turkana",
         "2023/2024",
         "375008960",
         "353695950",
         "21313010",
         "5.683333539550628"
        ],
        [

         "264",

         "Ukwala -",
         "2020/2021",
         "20190",
         "20190",
         "0",
         "0.0"
        ],
        [

         "265",

         "UngunjaSega Ukwala",
         "2022/2023",
         "10530184450",
         "7944676170",
         "2585508280",
         "24.553304761912315"
        ],
        [

         "266",

         "Unique project",
         "2021/2022",
         "800000",
         "1670000",
         "-870000",
         "-108.74999999999999"
        ],
        [

         "267",

         "Upper Tana Catchment Natural",
         "2022/2023",
         "5094826880",
         "4694826880",
         "400000000",
         "7.8511009190561545"
        ],
        [

         "268",

         "Use of Goods and",
         "2020/2021",
         "4542008250",
         "4543313780",
         "-1305530",
         "-0.028743452854802717"
        ],
        [

         "269",

         "Use of Goods and Services",
         "2020/2021",
         "6492379220",
         "6122848540",
         "369530680",
         "5.691760562316629"
        ],
        [

         "270",

         "Use of Goods and Services",
         "2021/2022",
         "34527000",
         "11246003830",
         "-11211476830",
         "-32471.621716337937"
        ],
        [

         "271",

         "Utilities Supplies and Services",
         "2020/2021",
         "61352550",
         "4489080",
         "56863470",
         "92.68314030957148"
        ],
        [

         "272",

         "Vehicles and Other Transport",
         "2020/2021",
         "869430390",
         "776200000",
         "93230390",
         "10.723157491653817"
        ],
        [

         "273",

         "Wajir",
         "2021/2022",
         "400000000",
         "342758610",
         "57241390",
         "14.3103475"
        ],
        [

          
         "274",

          
         "Wajir",
         "2022/2023",
         "400000000",
         "342758610",
         "57241390",
         "14.3103475"
        ],
        [

          
         "275",

          
         "Washington",
         "2020/2021",
         "449080",
         "33537100",
         "-33088020",
         "-7367.956711499065"
        ],
        [

          
         "276",

          
         "Water Resource Management",
         "2020/2021",
         "13973412430",
         "3626123000",
         "10347289430",
         "74.04983916301681"
        ],
        [

          
         "277",

          
         "Water Resource Management",
         "2021/2022",
         "13973412430",
         "3626123000",
         "10347289430",
         "74.04983916301681"
        ],
        [

         "278",
       
         "Water Supply",
         "2020/2021",
         "40360",
         "40380",
         "-20",
         "-0.049554013875123884"
        ],
        [

         "279",

         "a vi Emergency payments made in",
         "2023/2024",
         "59488100",
         "52000000",
         "7488100",
         "12.587559528712466"
        ],
        [

         "280",

         "bii Registration of Households in",
         "2023/2024",
         "5000000",
         "43000000",
         "-38000000",
         "-760.0"
        ],
        [

         "281",

         "previously forfeited for the years",
         "2023/2024",
         "20110",
         "20120",
         "-10",
         "-0.04972650422675286"
        ],
        [

         "282",

         "since the financial years ended",
         "2022/2023",
         "20170",
         "20180",
         "-10",
         "-0.04957858205255329"
        ]
       ],
       "shape": {
        "columns": 6,
        "rows": 20
       }
      },
      "text/html": [
       "<div>\n",
       "<style scoped>\n",
       "    .dataframe tbody tr th:only-of-type {\n",
       "        vertical-align: middle;\n",
       "    }\n",
       "\n",
       "    .dataframe tbody tr th {\n",
       "        vertical-align: top;\n",
       "    }\n",
       "\n",
       "    .dataframe thead th {\n",
       "        text-align: right;\n",
       "    }\n",
       "</style>\n",
       "<table border=\"1\" class=\"dataframe\">\n",
       "  <thead>\n",
       "    <tr style=\"text-align: right;\">\n",
       "      <th></th>\n",
       "      <th>MDA_name</th>\n",
       "      <th>Financial Year</th>\n",
       "      <th>Approved Budget</th>\n",
       "      <th>Actual Expenditure</th>\n",
       "      <th>variance</th>\n",
       "      <th>pct_variance</th>\n",
       "    </tr>\n",
       "  </thead>\n",
       "  <tbody>\n",
       "    <tr>\n",

       "      <th>263</th>\n",

       "      <td>Turkana</td>\n",
       "      <td>2023/2024</td>\n",
       "      <td>375008960</td>\n",
       "      <td>353695950</td>\n",
       "      <td>21313010</td>\n",
       "      <td>5.683334</td>\n",
       "    </tr>\n",
       "    <tr>\n",

       "      <th>264</th>\n",

       "      <td>Ukwala -</td>\n",
       "      <td>2020/2021</td>\n",
       "      <td>20190</td>\n",
       "      <td>20190</td>\n",
       "      <td>0</td>\n",
       "      <td>0.000000</td>\n",
       "    </tr>\n",
       "    <tr>\n",

       "      <th>265</th>\n",

       "      <td>UngunjaSega Ukwala</td>\n",
       "      <td>2022/2023</td>\n",
       "      <td>10530184450</td>\n",
       "      <td>7944676170</td>\n",
       "      <td>2585508280</td>\n",
       "      <td>24.553305</td>\n",
       "    </tr>\n",
       "    <tr>\n",

       "      <th>266</th>\n",

       "      <td>Unique project</td>\n",
       "      <td>2021/2022</td>\n",
       "      <td>800000</td>\n",
       "      <td>1670000</td>\n",
       "      <td>-870000</td>\n",
       "      <td>-108.750000</td>\n",
       "    </tr>\n",
       "    <tr>\n",

       "      <th>267</th>\n",

       "      <td>Upper Tana Catchment Natural</td>\n",
       "      <td>2022/2023</td>\n",
       "      <td>5094826880</td>\n",
       "      <td>4694826880</td>\n",
       "      <td>400000000</td>\n",
       "      <td>7.851101</td>\n",
       "    </tr>\n",
       "    <tr>\n",

       "      <th>268</th>\n",

       "      <td>Use of Goods and</td>\n",
       "      <td>2020/2021</td>\n",
       "      <td>4542008250</td>\n",
       "      <td>4543313780</td>\n",
       "      <td>-1305530</td>\n",
       "      <td>-0.028743</td>\n",
       "    </tr>\n",
       "    <tr>\n",

       "      <th>269</th>\n",

       "      <td>Use of Goods and Services</td>\n",
       "      <td>2020/2021</td>\n",
       "      <td>6492379220</td>\n",
       "      <td>6122848540</td>\n",
       "      <td>369530680</td>\n",
       "      <td>5.691761</td>\n",
       "    </tr>\n",
       "    <tr>\n",

       "      <th>270</th>\n",

       "      <td>Use of Goods and Services</td>\n",
       "      <td>2021/2022</td>\n",
       "      <td>34527000</td>\n",
       "      <td>11246003830</td>\n",
       "      <td>-11211476830</td>\n",
       "      <td>-32471.621716</td>\n",
       "    </tr>\n",
       "    <tr>\n",

       "      <th>271</th>\n",

       "      <td>Utilities Supplies and Services</td>\n",
       "      <td>2020/2021</td>\n",
       "      <td>61352550</td>\n",
       "      <td>4489080</td>\n",
       "      <td>56863470</td>\n",
       "      <td>92.683140</td>\n",
       "    </tr>\n",
       "    <tr>\n",

       "      <th>272</th>\n",

       "      <td>Vehicles and Other Transport</td>\n",
       "      <td>2020/2021</td>\n",
       "      <td>869430390</td>\n",
       "      <td>776200000</td>\n",
       "      <td>93230390</td>\n",
       "      <td>10.723157</td>\n",
       "    </tr>\n",
       "    <tr>\n",

       "      <th>273</th>\n",

       "      <td>Wajir</td>\n",
       "      <td>2021/2022</td>\n",
       "      <td>400000000</td>\n",
       "      <td>342758610</td>\n",
       "      <td>57241390</td>\n",
       "      <td>14.310348</td>\n",
       "    </tr>\n",
       "    <tr>\n",

       "      <th>274</th>\n",

       "      <td>Wajir</td>\n",
       "      <td>2022/2023</td>\n",
       "      <td>400000000</td>\n",
       "      <td>342758610</td>\n",
       "      <td>57241390</td>\n",
       "      <td>14.310348</td>\n",
       "    </tr>\n",
       "    <tr>\n",

       "      <th>275</th>\n",

       "      <td>Washington</td>\n",
       "      <td>2020/2021</td>\n",
       "      <td>449080</td>\n",
       "      <td>33537100</td>\n",
       "      <td>-33088020</td>\n",
       "      <td>-7367.956711</td>\n",
       "    </tr>\n",
       "    <tr>\n",

       "      <th>276</th>\n",

       "      <td>Water Resource Management</td>\n",
       "      <td>2020/2021</td>\n",
       "      <td>13973412430</td>\n",
       "      <td>3626123000</td>\n",
       "      <td>10347289430</td>\n",
       "      <td>74.049839</td>\n",
       "    </tr>\n",
       "    <tr>\n",

       "      <th>277</th>\n",

       "      <td>Water Resource Management</td>\n",
       "      <td>2021/2022</td>\n",
       "      <td>13973412430</td>\n",
       "      <td>3626123000</td>\n",
       "      <td>10347289430</td>\n",
       "      <td>74.049839</td>\n",
       "    </tr>\n",
       "    <tr>\n",

       "      <th>278</th>\n",

       "      <td>Water Supply</td>\n",
       "      <td>2020/2021</td>\n",
       "      <td>40360</td>\n",
       "      <td>40380</td>\n",
       "      <td>-20</td>\n",
       "      <td>-0.049554</td>\n",
       "    </tr>\n",
       "    <tr>\n",

       "      <th>279</th>\n",

       "      <td>a vi Emergency payments made in</td>\n",
       "      <td>2023/2024</td>\n",
       "      <td>59488100</td>\n",
       "      <td>52000000</td>\n",
       "      <td>7488100</td>\n",
       "      <td>12.587560</td>\n",
       "    </tr>\n",
       "    <tr>\n",

       "      <th>280</th>\n",

       "      <td>bii Registration of Households in</td>\n",
       "      <td>2023/2024</td>\n",
       "      <td>5000000</td>\n",
       "      <td>43000000</td>\n",
       "      <td>-38000000</td>\n",
       "      <td>-760.000000</td>\n",
       "    </tr>\n",
       "    <tr>\n",

       "      <th>281</th>\n",

       "      <td>previously forfeited for the years</td>\n",
       "      <td>2023/2024</td>\n",
       "      <td>20110</td>\n",
       "      <td>20120</td>\n",
       "      <td>-10</td>\n",
       "      <td>-0.049727</td>\n",
       "    </tr>\n",
       "    <tr>\n",

       "      <th>282</th>\n",

       "      <td>since the financial years ended</td>\n",
       "      <td>2022/2023</td>\n",
       "      <td>20170</td>\n",
       "      <td>20180</td>\n",
       "      <td>-10</td>\n",
       "      <td>-0.049579</td>\n",
       "    </tr>\n",
       "  </tbody>\n",
       "</table>\n",
       "</div>"
      ],
      "text/plain": [
       "                               MDA_name Financial Year  Approved Budget  \\\n",

       "263                             Turkana      2023/2024        375008960   \n",
       "264                            Ukwala -      2020/2021            20190   \n",
       "265                  UngunjaSega Ukwala      2022/2023      10530184450   \n",
       "266                      Unique project      2021/2022           800000   \n",
       "267        Upper Tana Catchment Natural      2022/2023       5094826880   \n",
       "268                    Use of Goods and      2020/2021       4542008250   \n",
       "269           Use of Goods and Services      2020/2021       6492379220   \n",
       "270           Use of Goods and Services      2021/2022         34527000   \n",
       "271     Utilities Supplies and Services      2020/2021         61352550   \n",
       "272        Vehicles and Other Transport      2020/2021        869430390   \n",
       "273                               Wajir      2021/2022        400000000   \n",
       "274                               Wajir      2022/2023        400000000   \n",
       "275                          Washington      2020/2021           449080   \n",
       "276           Water Resource Management      2020/2021      13973412430   \n",
       "277           Water Resource Management      2021/2022      13973412430   \n",
       "278                        Water Supply      2020/2021            40360   \n",
       "279     a vi Emergency payments made in      2023/2024         59488100   \n",
       "280   bii Registration of Households in      2023/2024          5000000   \n",
       "281  previously forfeited for the years      2023/2024            20110   \n",
       "282     since the financial years ended      2022/2023            20170   \n",
       "\n",
       "     Actual Expenditure     variance  pct_variance  \n",
       "263           353695950     21313010      5.683334  \n",
       "264               20190            0      0.000000  \n",
       "265          7944676170   2585508280     24.553305  \n",
       "266             1670000      -870000   -108.750000  \n",
       "267          4694826880    400000000      7.851101  \n",
       "268          4543313780     -1305530     -0.028743  \n",
       "269          6122848540    369530680      5.691761  \n",
       "270         11246003830 -11211476830 -32471.621716  \n",
       "271             4489080     56863470     92.683140  \n",
       "272           776200000     93230390     10.723157  \n",
       "273           342758610     57241390     14.310348  \n",
       "274           342758610     57241390     14.310348  \n",
       "275            33537100    -33088020  -7367.956711  \n",
       "276          3626123000  10347289430     74.049839  \n",
       "277          3626123000  10347289430     74.049839  \n",
       "278               40380          -20     -0.049554  \n",
       "279            52000000      7488100     12.587560  \n",
       "280            43000000    -38000000   -760.000000  \n",
       "281               20120          -10     -0.049727  \n",
       "282               20180          -10     -0.049579  "
      ]
     },
     "execution_count": 9,

     "metadata": {},
     "output_type": "execute_result"
    }
   ],
   "source": [
    "df.tail(20)"
   ]
  },
  {
   "cell_type": "markdown",
   "id": "cfce6369",
   "metadata": {},
   "source": [
    "7. Deal with noice that was missed"
   ]
  },
  {
   "cell_type": "code",

   "execution_count": 10,

   "id": "e0196c5e",
   "metadata": {},
   "outputs": [],
   "source": [
    "more_noise = r\"forfeited|reported|representatives|since the|some$\"\n",
    "df = df[~df[\"MDA_name\"].str.lower().str.contains(more_noise, na=False)]\n"
   ]
  },
  {
   "cell_type": "code",

   "execution_count": 11,

   "id": "03a5c400",
   "metadata": {},
   "outputs": [
    {
     "data": {
      "application/vnd.microsoft.datawrangler.viewer.v0+json": {
       "columns": [
        {
         "name": "index",
         "rawType": "int64",
         "type": "integer"
        },
        {
         "name": "MDA_name",
         "rawType": "object",
         "type": "string"
        },
        {
         "name": "Financial Year",
         "rawType": "object",
         "type": "string"
        },
        {
         "name": "Approved Budget",
         "rawType": "int64",
         "type": "integer"
        },
        {
         "name": "Actual Expenditure",
         "rawType": "int64",
         "type": "integer"
        },
        {
         "name": "variance",
         "rawType": "int64",
         "type": "integer"
        },
        {
         "name": "pct_variance",
         "rawType": "float64",
         "type": "float"
        }
       ],

       "ref": "5c63294b-4cfc-4b00-b756-ecc5132d04cb",

       "rows": [
        [
         "0",
         "AIA",
         "2020/2021",
         "198535694030",
         "155293985890",
         "43241708140",
         "21.78031932810324"
        ],
        [
         "1",
         "ASDSP II",
         "2021/2022",
         "8300000",
         "2563200",
         "5736800",
         "69.11807228915663"
        ],
        [
         "2",
         "Account Payable - Deposits",
         "2020/2021",
         "4529100210",
         "15488034310",
         "-10958934100",
         "-241.96713677925"
        ],
        [
         "3",
         "Account Payables",
         "2021/2022",
         "1399977930",
         "6107770090",
         "-4707792160",
         "-336.276169725047"
        ],
        [
         "4",
         "Accounts",
         "2020/2021",
         "158689062850",
         "4643433390",
         "154045629460",
         "97.07387937983528"
        ],
        [
         "5",
         "Acquisition of Assets",
         "2020/2021",
         "2603723680",
         "1931824430",
         "671899250",
         "25.80532086261934"
        ],
        [
         "6",
         "Acquisition of Assets",
         "2021/2022",
         "1137124700",
         "1581610480",
         "-444485780",
         "-39.08856961773849"
        ],
        [
         "7",
         "Acquisition of Land",
         "2022/2023",
         "1320960560",
         "1225609480",
         "95351080",
         "7.21831392149967"
        ],
        [
         "8",
         "Adjustment during the year",
         "2020/2021",
         "6262310",
         "4840628180",
         "-4834365870",
         "-77197.80512302968"
        ],
        [
         "9",
         "Agro-Chemical and Food",
         "2020/2021",
         "28468840000",
         "29418840000",
         "-950000000",
         "-3.336981766731627"

        ]
       ],
       "shape": {
        "columns": 6,
        "rows": 10
       }
      },
      "text/html": [
       "<div>\n",
       "<style scoped>\n",
       "    .dataframe tbody tr th:only-of-type {\n",
       "        vertical-align: middle;\n",
       "    }\n",
       "\n",
       "    .dataframe tbody tr th {\n",
       "        vertical-align: top;\n",
       "    }\n",
       "\n",
       "    .dataframe thead th {\n",
       "        text-align: right;\n",
       "    }\n",
       "</style>\n",
       "<table border=\"1\" class=\"dataframe\">\n",
       "  <thead>\n",
       "    <tr style=\"text-align: right;\">\n",
       "      <th></th>\n",
       "      <th>MDA_name</th>\n",
       "      <th>Financial Year</th>\n",
       "      <th>Approved Budget</th>\n",
       "      <th>Actual Expenditure</th>\n",
       "      <th>variance</th>\n",
       "      <th>pct_variance</th>\n",
       "    </tr>\n",
       "  </thead>\n",
       "  <tbody>\n",
       "    <tr>\n",
       "      <th>0</th>\n",
       "      <td>AIA</td>\n",
       "      <td>2020/2021</td>\n",
       "      <td>198535694030</td>\n",
       "      <td>155293985890</td>\n",
       "      <td>43241708140</td>\n",
       "      <td>21.780319</td>\n",
       "    </tr>\n",
       "    <tr>\n",
       "      <th>1</th>\n",
       "      <td>ASDSP II</td>\n",
       "      <td>2021/2022</td>\n",
       "      <td>8300000</td>\n",
       "      <td>2563200</td>\n",
       "      <td>5736800</td>\n",
       "      <td>69.118072</td>\n",
       "    </tr>\n",
       "    <tr>\n",
       "      <th>2</th>\n",
       "      <td>Account Payable - Deposits</td>\n",
       "      <td>2020/2021</td>\n",
       "      <td>4529100210</td>\n",
       "      <td>15488034310</td>\n",
       "      <td>-10958934100</td>\n",
       "      <td>-241.967137</td>\n",
       "    </tr>\n",
       "    <tr>\n",
       "      <th>3</th>\n",
       "      <td>Account Payables</td>\n",
       "      <td>2021/2022</td>\n",
       "      <td>1399977930</td>\n",
       "      <td>6107770090</td>\n",
       "      <td>-4707792160</td>\n",
       "      <td>-336.276170</td>\n",
       "    </tr>\n",
       "    <tr>\n",
       "      <th>4</th>\n",
       "      <td>Accounts</td>\n",
       "      <td>2020/2021</td>\n",
       "      <td>158689062850</td>\n",
       "      <td>4643433390</td>\n",
       "      <td>154045629460</td>\n",
       "      <td>97.073879</td>\n",
       "    </tr>\n",
       "    <tr>\n",
       "      <th>5</th>\n",
       "      <td>Acquisition of Assets</td>\n",
       "      <td>2020/2021</td>\n",
       "      <td>2603723680</td>\n",
       "      <td>1931824430</td>\n",
       "      <td>671899250</td>\n",
       "      <td>25.805321</td>\n",
       "    </tr>\n",
       "    <tr>\n",
       "      <th>6</th>\n",
       "      <td>Acquisition of Assets</td>\n",
       "      <td>2021/2022</td>\n",
       "      <td>1137124700</td>\n",
       "      <td>1581610480</td>\n",
       "      <td>-444485780</td>\n",
       "      <td>-39.088570</td>\n",
       "    </tr>\n",
       "    <tr>\n",
       "      <th>7</th>\n",
       "      <td>Acquisition of Land</td>\n",
       "      <td>2022/2023</td>\n",
       "      <td>1320960560</td>\n",
       "      <td>1225609480</td>\n",
       "      <td>95351080</td>\n",
       "      <td>7.218314</td>\n",
       "    </tr>\n",
       "    <tr>\n",
       "      <th>8</th>\n",
       "      <td>Adjustment during the year</td>\n",
       "      <td>2020/2021</td>\n",
       "      <td>6262310</td>\n",
       "      <td>4840628180</td>\n",
       "      <td>-4834365870</td>\n",
       "      <td>-77197.805123</td>\n",
       "    </tr>\n",
       "    <tr>\n",
       "      <th>9</th>\n",
       "      <td>Agro-Chemical and Food</td>\n",
       "      <td>2020/2021</td>\n",
       "      <td>28468840000</td>\n",
       "      <td>29418840000</td>\n",
       "      <td>-950000000</td>\n",
       "      <td>-3.336982</td>\n",
       "    </tr>\n",
       "  </tbody>\n",
       "</table>\n",
       "</div>"
      ],
      "text/plain": [
       "                     MDA_name Financial Year  Approved Budget  \\\n",
       "0                         AIA      2020/2021     198535694030   \n",
       "1                    ASDSP II      2021/2022          8300000   \n",
       "2  Account Payable - Deposits      2020/2021       4529100210   \n",
       "3            Account Payables      2021/2022       1399977930   \n",
       "4                    Accounts      2020/2021     158689062850   \n",
       "5       Acquisition of Assets      2020/2021       2603723680   \n",
       "6       Acquisition of Assets      2021/2022       1137124700   \n",
       "7         Acquisition of Land      2022/2023       1320960560   \n",
       "8  Adjustment during the year      2020/2021          6262310   \n",
       "9      Agro-Chemical and Food      2020/2021      28468840000   \n",
       "\n",
       "   Actual Expenditure      variance  pct_variance  \n",
       "0        155293985890   43241708140     21.780319  \n",
       "1             2563200       5736800     69.118072  \n",
       "2         15488034310  -10958934100   -241.967137  \n",
       "3          6107770090   -4707792160   -336.276170  \n",
       "4          4643433390  154045629460     97.073879  \n",
       "5          1931824430     671899250     25.805321  \n",
       "6          1581610480    -444485780    -39.088570  \n",
       "7          1225609480      95351080      7.218314  \n",
       "8          4840628180   -4834365870 -77197.805123  \n",
       "9         29418840000    -950000000     -3.336982  "
      ]
     },
     "execution_count": 11,
     "metadata": {},
     "output_type": "execute_result"
    }
   ],
   "source": [
    "df.head(10)"
   ]
  },
  {
   "cell_type": "markdown",
   "id": "4cc26607",
   "metadata": {},
   "source": [
    "## FEATURE ENGINEERING\n",
    "To improve our analysis, we derived additional features that help reveal inefficiencies, spending behaviors, and audit concerns more clearly. These engineered features make the data more interpretable and allow us to perform more meaningful comparisons across ministries, departments, and years.  \n",
    "\n",
    "### Features Added\n",
    "\n",
    "1. **Utilization Rate (%)**  \n",
    "   - Formula: `Actual Expenditure ÷ Approved Budget × 100`  \n",
    "   - Shows how much of the allocated funds were actually spent.  \n",
    "   - A rate close to 100% indicates good budget execution, while very low or very high rates suggest under-spending or overspending.\n",
    "\n",
    "2. **Spending Status**  \n",
    "   - Categories: **Overspent**, **Underspent**, **On Budget**  \n",
    "   - Provides a quick, categorical classification of each ministry’s spending behavior.  \n",
    "   - Helps us identify recurring patterns of overspending or underspending across different years.\n",
    "\n",
    "3. **Audit Flag**  \n",
    "   - Value: **1** if the variance exceeds ±10% of the approved budget, else **0**.  \n",
    "   - Highlights ministries that deviate significantly from their budgets.  \n",
    "   - This threshold-based flag makes it easy to detect potential inefficiencies or red flags that auditors should investigate further.\n",
    "\n",
    "---\n",
    "\n",
    "- These engineered features allow us to move from raw numbers to **actionable insights**.  \n",
    "- They enable comparisons between ministries of different budget sizes on a relative scale (e.g., Utilization Rate instead of just raw variance).  \n",
    "- They create the foundation for **hypothesis testing, trend analysis, clustering** later in the project.  \n",
    "- Ultimately, they help answer our core question:  \n",
    "  *Which ministries consistently manage their budgets effectively, and which ones show recurring inefficiencies or audit risks?*\n"
   ]
  },
  {
   "cell_type": "code",
   "execution_count": 12,
   "id": "86f2573e",
   "metadata": {},
   "outputs": [],
   "source": [
    "df = df.copy()\n",
    "\n",
    "# 1. Utilization Rate (%)\n",
    "df.loc[:, \"Utilization Rate (%)\"] = (df[\"Actual Expenditure\"] / df[\"Approved Budget\"]) * 100\n",
    "\n",
    "# 2. Spending Status\n",
    "# Create a function that categorizes MDA by how they used their budgets.\n",
    "def spending_status(row):\n",
    "    if pd.isna(row[\"Approved Budget\"]) or pd.isna(row[\"Actual Expenditure\"]):\n",
    "        return \"Unknown\"\n",
    "    if np.isclose(row[\"Approved Budget\"], row[\"Actual Expenditure\"], rtol=0.01):  # within 1%\n",
    "        return \"On Budget\"\n",
    "    elif row[\"Actual Expenditure\"] > row[\"Approved Budget\"]:\n",
    "        return \"Overspent\"\n",
    "    else:\n",
    "        return \"Underspent\"\n",
    "# Apply the function row by row\n",
    "df.loc[:, \"Spending Status\"] = df.apply(spending_status, axis=1)\n",
    "\n",
    "# 3. Audit Flag\n",
    "# Flag ministries that deviate significantly from their budgets.\n",
    "# Rule: If |Approved - Actual| > 10% of Approved → mark as 1 (needs audit), else 0\n",
    "df.loc[:, \"Audit Flag\"] = (\n",
    "    ((df[\"Approved Budget\"] - df[\"Actual Expenditure\"]).abs() > (0.10 * df[\"Approved Budget\"]))\n",
    ").astype(int)\n",
    "\n",
    "\n"
   ]
  },
  {
   "cell_type": "code",
   "execution_count": 13,
   "id": "d5555b34",
   "metadata": {},
   "outputs": [
    {
     "data": {
      "application/vnd.microsoft.datawrangler.viewer.v0+json": {
       "columns": [
        {
         "name": "index",
         "rawType": "int64",
         "type": "integer"
        },
        {
         "name": "MDA_name",
         "rawType": "object",
         "type": "string"
        },
        {
         "name": "Financial Year",
         "rawType": "object",
         "type": "string"
        },
        {
         "name": "Approved Budget",
         "rawType": "int64",
         "type": "integer"
        },
        {
         "name": "Actual Expenditure",
         "rawType": "int64",
         "type": "integer"
        },
        {
         "name": "variance",
         "rawType": "int64",
         "type": "integer"
        },
        {
         "name": "pct_variance",
         "rawType": "float64",
         "type": "float"
        },
        {
         "name": "Utilization Rate (%)",
         "rawType": "float64",
         "type": "float"
        },
        {
         "name": "Spending Status",
         "rawType": "object",
         "type": "string"
        },
        {
         "name": "Audit Flag",
         "rawType": "int32",
         "type": "integer"
        }
       ],
       "ref": "6c7fb27e-786a-46e6-bf6d-e90fa7c9b93e",
       "rows": [
        [
         "0",
         "AIA",
         "2020/2021",
         "198535694030",
         "155293985890",
         "43241708140",
         "21.78031932810324",
         "78.21968067189677",
         "Underspent",
         "1"
        ],
        [
         "1",
         "ASDSP II",
         "2021/2022",
         "8300000",
         "2563200",
         "5736800",
         "69.11807228915663",
         "30.88192771084337",
         "Underspent",
         "1"
        ],
        [
         "2",
         "Account Payable - Deposits",
         "2020/2021",
         "4529100210",
         "15488034310",
         "-10958934100",
         "-241.96713677925",
         "341.96713677925004",
         "Overspent",
         "1"
        ],
        [
         "3",
         "Account Payables",
         "2021/2022",
         "1399977930",
         "6107770090",
         "-4707792160",
         "-336.276169725047",
         "436.27616972504705",
         "Overspent",
         "1"
        ],
        [
         "4",
         "Accounts",
         "2020/2021",
         "158689062850",
         "4643433390",
         "154045629460",
         "97.07387937983528",
         "2.9261206201647187",
         "Underspent",
         "1"
        ],
        [
         "5",
         "Acquisition of Assets",
         "2020/2021",
         "2603723680",
         "1931824430",
         "671899250",
         "25.80532086261934",
         "74.19467913738066",
         "Underspent",
         "1"
        ],
        [
         "6",
         "Acquisition of Assets",
         "2021/2022",
         "1137124700",
         "1581610480",
         "-444485780",
         "-39.08856961773849",
         "139.0885696177385",
         "Overspent",
         "1"
        ],
        [
         "7",
         "Acquisition of Land",
         "2022/2023",
         "1320960560",
         "1225609480",
         "95351080",
         "7.21831392149967",
         "92.78168607850033",
         "Underspent",
         "0"
        ],
        [
         "8",
         "Adjustment during the year",
         "2020/2021",
         "6262310",
         "4840628180",
         "-4834365870",
         "-77197.80512302968",
         "77297.80512302968",
         "Overspent",
         "1"
        ],
        [
         "9",
         "Agro-Chemical and Food",
         "2020/2021",
         "28468840000",
         "29418840000",
         "-950000000",
         "-3.336981766731627",
         "103.33698176673163",
         "Overspent",
         "0"

        ],
        [
         "10",
         "Application Fees",
         "2022/2023",
         "55696400",
         "55816140",
         "-119740",

         "-0.21498696504621487",
         "100.21498696504621",
         "On Budget",
         "0"

        ],
        [
         "11",
         "Application for docking Facility USD",
         "2023/2024",
         "5020",
         "645860",
         "-640840",

         "-12765.737051792828",
         "12865.737051792828",
         "Overspent",
         "1"

        ],
        [
         "12",
         "April",
         "2020/2021",
         "20210",
         "6440240",
         "-6420030",

         "-31766.60069272637",
         "31866.60069272637",
         "Overspent",
         "1"

        ],
        [
         "13",
         "April",
         "2021/2022",
         "20210",
         "10632770",
         "-10612560",

         "-52511.42998515586",
         "52611.42998515586",
         "Overspent",
         "1"

        ],
        [
         "14",
         "April",
         "2022/2023",
         "369136920",
         "297447150",
         "71689770",

         "19.420915686244552",
         "80.57908431375544",
         "Underspent",
         "1"

        ],
        [
         "15",
         "Arror",
         "2023/2024",
         "918522670",
         "918522670",
         "0",

         "0.0",
         "100.0",
         "On Budget",
         "0"

        ],
        [
         "16",
         "Arror Dam",
         "2020/2021",
         "61595780",
         "61595780",
         "0",

         "0.0",
         "100.0",
         "On Budget",
         "0"

        ],
        [
         "17",
         "Arror Dam",
         "2021/2022",
         "918522670",
         "31965910",
         "886556760",

         "96.51985617295652",
         "3.4801438270434852",
         "Underspent",
         "1"

        ],
        [
         "18",
         "Arror Dam",
         "2022/2023",
         "918522670",
         "31965910",
         "886556760",

         "96.51985617295652",
         "3.4801438270434852",
         "Underspent",
         "1"

        ],
        [
         "19",
         "Athi Water Services Board",
         "2021/2022",
         "471816774430",
         "447803101720",
         "24013672710",

         "5.089618261031695",
         "94.91038173896831",
         "Underspent",
         "0"

        ],
        [
         "20",
         "August",
         "2022/2023",
         "375599770",
         "395497610",
         "-19897840",

         "-5.297617727508193",
         "105.29761772750818",
         "Overspent",
         "0"

        ],
        [
         "21",
         "Authentication of Certificate USD-",
         "2023/2024",
         "5050",
         "649740",
         "-644690",

         "-12766.138613861387",
         "12866.138613861387",
         "Overspent",
         "1"

        ],
        [
         "22",
         "B Frame",
         "2020/2021",
         "8540000",
         "20491000",
         "-11951000",

         "-139.94145199063232",
         "239.94145199063232",
         "Overspent",
         "1"

        ],
        [
         "23",
         "Basic Wages",
         "2020/2021",
         "4818860560",
         "3322773030",
         "1496087530",

         "31.046499714447016",
         "68.95350028555298",
         "Underspent",
         "1"

        ],
        [
         "24",
         "Berlin recurrent",
         "2023/2024",
         "1420",
         "41276490",
         "-41275070",

         "-2906695.0704225353",
         "2906795.0704225353",
         "Overspent",
         "1"

        ],
        [
         "25",
         "Betting Control and Licensing",
         "2023/2024",
         "1370525680",
         "1370517680",
         "8000",

         "0.0005837176286985006",
         "99.9994162823713",
         "On Budget",
         "0"

        ],
        [
         "26",
         "Bomet Mulot Water",
         "2022/2023",
         "20685825360",
         "3566521610",
         "17119303750",

         "82.75862070799191",
         "17.241379292008098",
         "Underspent",
         "1"

        ],
        [
         "27",
         "Bomet Mulot Water Supply",
         "2021/2022",
         "20685825360",
         "3566521610",
         "17119303750",

         "82.75862070799191",
         "17.241379292008098",
         "Underspent",
         "1"

        ],
        [
         "28",
         "Bunyala DCCs",
         "2023/2024",
         "470000000",
         "300000000",
         "170000000",

         "36.17021276595745",
         "63.829787234042556",
         "Underspent",
         "1"

        ],
        [
         "29",
         "Bunyonge",
         "2020/2021",
         "100000",
         "1500000",
         "-1400000",

         "-1400.0",
         "1500.0",
         "Overspent",
         "1"

        ],
        [
         "30",
         "Busia",
         "2023/2024",
         "645546550",
         "645446550",
         "100000",

         "0.015490749660113589",
         "99.98450925033988",
         "On Budget",
         "0"

        ],
        [
         "31",
         "Busia Sugar Company",
         "2022/2023",
         "14856750",
         "297135000",
         "-282278250",

         "-1900.0",
         "2000.0",
         "Overspent",
         "1"

        ],
        [
         "32",
         "Business Registration Services",
         "2022/2023",
         "11481010230",
         "11481009760",
         "470",

         "4.093716411574002e-06",
         "99.99999590628359",
         "On Budget",
         "0"

        ],
        [
         "33",
         "Business Registration Services",
         "2023/2024",
         "23552820920",
         "23557325420",
         "-4504500",

         "-0.01912509764881276",
         "100.01912509764881",
         "On Budget",
         "0"

        ],
        [
         "34",
         "CADREP",
         "2021/2022",
         "72058310",
         "99562630",
         "-27504320",

         "-38.169532424504546",
         "138.16953242450452",
         "Overspent",
         "1"

        ],
        [
         "35",
         "CBK-Deposits",
         "2020/2021",
         "1470659030",
         "1369963150",
         "100695880",

         "6.846990223151861",
         "93.15300977684814",
         "Underspent",
         "0"

        ],
        [
         "36",
         "CBK-Recurrent",
         "2020/2021",
         "2737105780",
         "15855200",
         "2721250580",

         "99.42073119293184",
         "0.5792688070681726",
         "Underspent",
         "1"

        ],
        [
         "37",
         "Capital Grants to Other",
         "2023/2024",
         "18274303780",
         "18365814160",
         "-91510380",

         "-0.5007598708091522",
         "100.50075987080915",
         "On Budget",
         "0"

        ],
        [
         "38",
         "Catering Levy TrusteeKenya",
         "2020/2021",
         "1220000000",
         "1221250280",
         "-1250280",

         "-0.10248196721311476",
         "100.10248196721312",
         "On Budget",
         "0"

        ],
        [
         "39",
         "Central Rift Valley Water Works",
         "2022/2023",
         "6708750000",
         "6497810940",
         "210939060",

         "3.144237898267188",
         "96.85576210173281",
         "Underspent",
         "0"

        ],
        [
         "40",
         "Cheparareira",
         "2022/2023",
         "2170962020",
         "1769276550",
         "401685470",

         "18.50264842495955",
         "81.49735157504045",
         "Underspent",
         "1"

        ],
        [
         "41",
         "Cheparareira Sewerage",
         "2021/2022",
         "2170962020",
         "1008828600",
         "1162133420",

         "53.53080382309038",
         "46.46919617690963",
         "Underspent",
         "1"

        ],
        [
         "42",
         "Civil Registration Department",
         "2022/2023",
         "398939070",
         "398939070",
         "0",

         "0.0",
         "100.0",
         "On Budget",
         "0"

        ],
        [
         "43",
         "Civil Registration Department",
         "2023/2024",
         "684222600",
         "720055260",
         "-35832660",

         "-5.236988664215417",
         "105.23698866421543",
         "Overspent",
         "0"

        ],
        [
         "44",
         "Co-operative State Department of",
         "2020/2021",
         "11416967315000",
         "501174790",
         "11416466140210",

         "99.99561026342485",
         "0.004389736575154591",
         "Underspent",
         "1"

        ],
        [
         "45",
         "Coast Water Service Board",
         "2020/2021",
         "262715892900",
         "126121065310",
         "136594827590",

         "51.993362899439575",
         "48.006637100560425",
         "Underspent",
         "1"

        ],
        [
         "46",
         "Coast Water Service Board",
         "2021/2022",
         "158395468040",
         "128659231450",
         "29736236590",

         "18.773413758587232",
         "81.22658624141278",
         "Underspent",
         "1"

        ],
        [
         "47",
         "Coast Water Works Development",
         "2022/2023",
         "6914779360",
         "5700194760",
         "1214584600",

         "17.56505214072369",
         "82.4349478592763",
         "Underspent",
         "1"

        ],
        [
         "48",
         "Construction of Roads",
         "2020/2021",
         "949499990",
         "906708500",
         "42791490",

         "4.506739383957234",
         "95.49326061604276",
         "Underspent",
         "0"

        ],
        [
         "49",
         "Conveyance Fees",
         "2020/2021",
         "88862860",
         "75707400",
         "13155460",

         "14.804227547931722",
         "85.19577245206827",
         "Underspent",
         "1"
        ]
       ],
       "shape": {
        "columns": 9,
        "rows": 281

       }
      },
      "text/html": [
       "<div>\n",
       "<style scoped>\n",
       "    .dataframe tbody tr th:only-of-type {\n",
       "        vertical-align: middle;\n",
       "    }\n",
       "\n",
       "    .dataframe tbody tr th {\n",
       "        vertical-align: top;\n",
       "    }\n",
       "\n",
       "    .dataframe thead th {\n",
       "        text-align: right;\n",
       "    }\n",
       "</style>\n",
       "<table border=\"1\" class=\"dataframe\">\n",
       "  <thead>\n",
       "    <tr style=\"text-align: right;\">\n",
       "      <th></th>\n",
       "      <th>MDA_name</th>\n",
       "      <th>Financial Year</th>\n",
       "      <th>Approved Budget</th>\n",
       "      <th>Actual Expenditure</th>\n",
       "      <th>variance</th>\n",
       "      <th>pct_variance</th>\n",

       "      <th>Utilization Rate (%)</th>\n",
       "      <th>Spending Status</th>\n",
       "      <th>Audit Flag</th>\n",

       "    </tr>\n",
       "  </thead>\n",
       "  <tbody>\n",
       "    <tr>\n",
       "      <th>0</th>\n",
       "      <td>AIA</td>\n",
       "      <td>2020/2021</td>\n",
       "      <td>198535694030</td>\n",
       "      <td>155293985890</td>\n",
       "      <td>43241708140</td>\n",
       "      <td>21.780319</td>\n",

       "      <td>78.219681</td>\n",
       "      <td>Underspent</td>\n",
       "      <td>1</td>\n",

       "    </tr>\n",
       "    <tr>\n",
       "      <th>1</th>\n",
       "      <td>ASDSP II</td>\n",
       "      <td>2021/2022</td>\n",
       "      <td>8300000</td>\n",
       "      <td>2563200</td>\n",
       "      <td>5736800</td>\n",
       "      <td>69.118072</td>\n",

       "      <td>30.881928</td>\n",
       "      <td>Underspent</td>\n",
       "      <td>1</td>\n",

       "    </tr>\n",
       "    <tr>\n",
       "      <th>2</th>\n",
       "      <td>Account Payable - Deposits</td>\n",
       "      <td>2020/2021</td>\n",
       "      <td>4529100210</td>\n",
       "      <td>15488034310</td>\n",
       "      <td>-10958934100</td>\n",
       "      <td>-241.967137</td>\n",

       "      <td>341.967137</td>\n",
       "      <td>Overspent</td>\n",
       "      <td>1</td>\n",

       "    </tr>\n",
       "    <tr>\n",
       "      <th>3</th>\n",
       "      <td>Account Payables</td>\n",
       "      <td>2021/2022</td>\n",
       "      <td>1399977930</td>\n",
       "      <td>6107770090</td>\n",
       "      <td>-4707792160</td>\n",
       "      <td>-336.276170</td>\n",

       "      <td>436.276170</td>\n",
       "      <td>Overspent</td>\n",
       "      <td>1</td>\n",

       "    </tr>\n",
       "    <tr>\n",
       "      <th>4</th>\n",
       "      <td>Accounts</td>\n",
       "      <td>2020/2021</td>\n",
       "      <td>158689062850</td>\n",
       "      <td>4643433390</td>\n",
       "      <td>154045629460</td>\n",
       "      <td>97.073879</td>\n",

       "      <td>2.926121</td>\n",
       "      <td>Underspent</td>\n",
       "      <td>1</td>\n",

       "    </tr>\n",
       "    <tr>\n",
       "      <th>...</th>\n",
       "      <td>...</td>\n",
       "      <td>...</td>\n",
       "      <td>...</td>\n",
       "      <td>...</td>\n",
       "      <td>...</td>\n",
       "      <td>...</td>\n",

       "      <td>...</td>\n",
       "      <td>...</td>\n",
       "      <td>...</td>\n",
       "    </tr>\n",
       "    <tr>\n",
       "      <th>276</th>\n",

       "      <td>Water Resource Management</td>\n",
       "      <td>2020/2021</td>\n",
       "      <td>13973412430</td>\n",
       "      <td>3626123000</td>\n",
       "      <td>10347289430</td>\n",
       "      <td>74.049839</td>\n",

       "      <td>25.950161</td>\n",
       "      <td>Underspent</td>\n",
       "      <td>1</td>\n",
       "    </tr>\n",
       "    <tr>\n",
       "      <th>277</th>\n",

       "      <td>Water Resource Management</td>\n",
       "      <td>2021/2022</td>\n",
       "      <td>13973412430</td>\n",
       "      <td>3626123000</td>\n",
       "      <td>10347289430</td>\n",
       "      <td>74.049839</td>\n",

       "      <td>25.950161</td>\n",
       "      <td>Underspent</td>\n",
       "      <td>1</td>\n",
       "    </tr>\n",
       "    <tr>\n",
       "      <th>278</th>\n",

       "      <td>Water Supply</td>\n",
       "      <td>2020/2021</td>\n",
       "      <td>40360</td>\n",
       "      <td>40380</td>\n",
       "      <td>-20</td>\n",
       "      <td>-0.049554</td>\n",

       "      <td>100.049554</td>\n",
       "      <td>On Budget</td>\n",
       "      <td>0</td>\n",
       "    </tr>\n",
       "    <tr>\n",
       "      <th>279</th>\n",

       "      <td>a vi Emergency payments made in</td>\n",
       "      <td>2023/2024</td>\n",
       "      <td>59488100</td>\n",
       "      <td>52000000</td>\n",
       "      <td>7488100</td>\n",
       "      <td>12.587560</td>\n",

       "      <td>87.412440</td>\n",
       "      <td>Underspent</td>\n",
       "      <td>1</td>\n",
       "    </tr>\n",
       "    <tr>\n",
       "      <th>280</th>\n",

       "      <td>bii Registration of Households in</td>\n",
       "      <td>2023/2024</td>\n",
       "      <td>5000000</td>\n",
       "      <td>43000000</td>\n",
       "      <td>-38000000</td>\n",
       "      <td>-760.000000</td>\n",

       "      <td>860.000000</td>\n",
       "      <td>Overspent</td>\n",
       "      <td>1</td>\n",
       "    </tr>\n",
       "  </tbody>\n",
       "</table>\n",
       "<p>281 rows × 9 columns</p>\n",

       "</div>"
      ],
      "text/plain": [
       "                              MDA_name Financial Year  Approved Budget  \\\n",
       "0                                  AIA      2020/2021     198535694030   \n",
       "1                             ASDSP II      2021/2022          8300000   \n",
       "2           Account Payable - Deposits      2020/2021       4529100210   \n",
       "3                     Account Payables      2021/2022       1399977930   \n",
       "4                             Accounts      2020/2021     158689062850   \n",
       "..                                 ...            ...              ...   \n",

       "276          Water Resource Management      2020/2021      13973412430   \n",
       "277          Water Resource Management      2021/2022      13973412430   \n",
       "278                       Water Supply      2020/2021            40360   \n",
       "279    a vi Emergency payments made in      2023/2024         59488100   \n",
       "280  bii Registration of Households in      2023/2024          5000000   \n",
       "\n",
       "     Actual Expenditure      variance  pct_variance  Utilization Rate (%)  \\\n",
       "0          155293985890   43241708140     21.780319             78.219681   \n",
       "1               2563200       5736800     69.118072             30.881928   \n",
       "2           15488034310  -10958934100   -241.967137            341.967137   \n",
       "3            6107770090   -4707792160   -336.276170            436.276170   \n",
       "4            4643433390  154045629460     97.073879              2.926121   \n",
       "..                  ...           ...           ...                   ...   \n",
       "276          3626123000   10347289430     74.049839             25.950161   \n",
       "277          3626123000   10347289430     74.049839             25.950161   \n",
       "278               40380           -20     -0.049554            100.049554   \n",
       "279            52000000       7488100     12.587560             87.412440   \n",
       "280            43000000     -38000000   -760.000000            860.000000   \n",
       "\n",
       "    Spending Status  Audit Flag  \n",
       "0        Underspent           1  \n",
       "1        Underspent           1  \n",
       "2         Overspent           1  \n",
       "3         Overspent           1  \n",
       "4        Underspent           1  \n",
       "..              ...         ...  \n",
       "276      Underspent           1  \n",
       "277      Underspent           1  \n",
       "278       On Budget           0  \n",
       "279      Underspent           1  \n",
       "280       Overspent           1  \n",
       "\n",
       "[281 rows x 9 columns]"
      ]
     },
     "execution_count": 13,


     "metadata": {},
     "output_type": "execute_result"
    }
   ],
   "source": [

    "df"
   ]
  },
  {
   "cell_type": "code",
   "execution_count": null,
   "id": "58df2013",
   "metadata": {},
   "outputs": [],
   "source": []

  }
 ],
 "metadata": {
  "kernelspec": {
   "display_name": "learn-env",
   "language": "python",
   "name": "python3"
  },
  "language_info": {
   "codemirror_mode": {
    "name": "ipython",
    "version": 3
   },
   "file_extension": ".py",
   "mimetype": "text/x-python",
   "name": "python",
   "nbconvert_exporter": "python",
   "pygments_lexer": "ipython3",
   "version": "3.8.5"
  }
 },
 "nbformat": 4,
 "nbformat_minor": 5
}
