{
 "cells": [
  {
   "cell_type": "markdown",
   "metadata": {},
   "source": [
    "# Analysis of National Government Ministries , Departments and Agencies Budget Data."
   ]
  },
  {
   "cell_type": "markdown",
   "metadata": {},
   "source": [
    "## Business Understanding\n",
    "\n",
    "### Business Problem:\n",
    "\n",
    "This project investigates how funds have been allocated and spent across Kenya’s national government ministries, departments, and agencies (MDAs) over the past four financial years (2020/2021, 2021/2022, 2022/2023, 2023/2024). The aim is to determine whether recurring discrepancies between approved budgets and actual expenditures exist, and if so, whether these discrepancies indicate inefficiencies, weak budget execution, or potential audit concerns.\n",
    "\n",
    "### Introduction — Real-world problem the project aims to solve:\n",
    "\n",
    "Kenya’s public funds must be allocated and utilized transparently to ensure accountability, efficiency, and value for money. While single-year audits provide snapshots, they often miss patterns such as persistent underspending, overspending, or repeated audit concerns. By consolidating data from three consecutive Auditor-General reports, this project will uncover long-term trends in budget allocation and execution, highlight systemic inefficiencies, and flag potential risks for audit and governance review.\n",
    "\n",
    "### Stakeholders:\n",
    "\n",
    "1. Auditor-General / Audit Offices: Prioritize follow-up audits on entities with repeated large variances or recurring findings.\n",
    "\n",
    "2. Controller of Budget: Identify ministries with poor budget execution or recurring irregularities to guide hearings and budget sanctions.\n",
    "\n",
    "3. Policy analysts & Ministry finance teams: Target reforms (procurement, budgeting discipline, capacity building) where execution gaps are persistent.\n",
    "\n",
    "4. NGOs & advocacy groups: Create evidence-based transparency reports and campaigns.\n",
    "\n",
    "5. Investigative journalists & researchers: Produce data-driven stories on spending patterns and accountability failures.\n",
    "\n",
    "### Implications for the real world and stakeholders:\n",
    "\n",
    "A structured, longitudinal analysis enables detection of recurring inefficiencies and systematic audit concerns that single-year reviews miss. Findings can guide targeted audits, improve budget discipline (by showing where approved budgets routinely diverge from expenditures), and inform policy reforms (e.g., strengthening procurement controls, rolling budget ceilings, or capacity support). For civil society and media, the dataset supplies evidence for public accountability campaigns. Overall, the project strengthens governance by turning Auditor-General PDFs into persistent, actionable intelligence."
   ]
  },
  {
   "cell_type": "markdown",
   "metadata": {},
   "source": [
    "## Data Understanding"
   ]
  },
  {
   "cell_type": "markdown",
   "metadata": {},
   "source": [
    "### Data sources and why they are suitable:\n",
    "This project draws on official Auditor-General reports, which provide the authoritative record of Kenya’s national government budgets, expenditures, and audit observations. \n",
    "\n",
    "### Core sources\n",
    "\n",
    "1. Auditor-General Reports (FY2020/21, FY2022/23, FY2023/24)- \n",
    "Authoritative, legally mandated audits with: (i) budget vs actuals, (ii) opinion types, (iii) control/governance findings, (iv) recurrent queries and pending bills. The 2023/24 MDAs report will anchor the latest year’s audited actuals and narrative risk signals (opinions; budget execution notes; control weaknesses). \n",
    "\n",
    "2. National Government Budget “Blue Book” (FY2021/22) - \n",
    "Official approved estimates at vote/program level—your baseline for “approved_budget” across MDAs.\n",
    "\n",
    "3. Kenya_National_Govt_Budget_2021_2024.csv - \n",
    "Your structured, machine-readable compilation for FY2021/22–FY2023/24 that accelerates descriptive stats, joins, and sanity checks across years (vote/MDA, approved vs actual, etc.).\n",
    "\n",
    "4. National-Government-MinistriesDepartments-And-Agencies-2023-2024.pdf - \n",
    "The latest Auditor-General MDAs report—brings detailed, vote-level audit opinions and “Statement of Comparison of Budget and Actual Amounts,” plus systemic issues (e.g., pending bills, late releases, control weaknesses) to contextualize execution gaps.\n",
    "These datasets are the official, publicly available reports that include approved budgets, actual expenditures, and audit observations for ministries, departments, and agencies (MDAs). They are suitable because they are government-issued, comprehensive, and structured around the exact problem of interest: budget allocation and execution.\n",
    "\n",
    "### Planned extraction and structuring of the data:\n",
    "\n",
    "Use Python PDF extraction tools (pdfplumber) to pull out the “Statement of Comparison of Budget and Actual Amounts,” “Summary Statement of Appropriation,” and “Budgetary Control and Performance” sections from the PDFs.\n",
    "\n",
    "Normalize MDA names across years (to account for mergers, renaming, or restructuring).\n",
    "\n",
    "Build a unified dataset with the following features:\n",
    "\n",
    "* MDA_name\n",
    "\n",
    "* financial_year\n",
    "\n",
    "* approved_budget\n",
    "\n",
    "* actual_expenditure\n",
    "\n",
    "* variance (approved – actual)\n",
    "\n",
    "* pct_variance (variance as % of approved)\n",
    "\n",
    "* audit_observations (structured tags or extracted text)\n",
    "\n",
    "* Dataset size: number of MDAs × 4 years (expected several hundred rows, depending on how many MDAs are listed per year).\n",
    "\n",
    "### Descriptive statistics to compute:\n",
    "\n",
    "* For approved and actual expenditures: count, total, mean, median, min, max, standard deviation.\n",
    "\n",
    "* For variances: total variance, average % under/overspending, distribution of % variances across MDAs.\n",
    "\n",
    "* Frequency of MDAs with significant underspending (>5%), overspending (>0%), or within tolerance (±5%).\n",
    "\n",
    "* Audit observations summarized by category (e.g., procurement irregularities, unsupported expenditures, late disbursements).\n",
    "\n",
    "### Justification for chosen features:\n",
    "\n",
    "* MDA_name and financial_year are necessary identifiers for longitudinal analysis.\n",
    "\n",
    "* Approved_budget and actual_expenditure form the basis of budget execution analysis.\n",
    "\n",
    "* Variance and pct_variance allow comparisons across MDAs regardless of size.\n",
    "\n",
    "* Audit_observations provide explanatory context for discrepancies and help flag recurring governance issues.\n",
    "\n",
    "### Limitations of the data and implications:\n",
    "\n",
    "* Format inconsistency: reports are published as PDFs with mixed tables and text, requiring a hybrid extraction strategy and some manual cleaning.\n",
    "\n",
    "* Naming inconsistencies: some MDAs change names or merge, which complicates longitudinal tracking.\n",
    "\n",
    "* Accounting basis differences: reporting conventions may differ slightly year to year, affecting comparability.\n",
    "\n",
    "* Granularity limits: Blue Books and Audit Reports provide institution-level data but not always project-level detail, limiting root-cause analysis.\n",
    "\n",
    "* Audit text variability: audit observations are qualitative and may require natural language processing or manual tagging to be comparable across years.\n",
    "\n",
    "### Mitigation strategies:\n",
    "\n",
    "* Combine automated extraction with manual review for problematic entries.\n",
    "\n",
    "* Maintain a canonical MDA name mapping across years.\n",
    "\n",
    "* Clearly document assumptions and cleaning steps in the notebook.\n",
    "\n",
    "* Include a confidence flag for parsed figures (high when numbers are extracted from tables, lower when parsed from narrative text)."
   ]
  },
  {
   "cell_type": "code",
   "execution_count": 72,
   "metadata": {},
   "outputs": [
    {
     "ename": "ModuleNotFoundError",
     "evalue": "No module named 'rapidfuzz'",
     "output_type": "error",
     "traceback": [
      "\u001b[1;31m---------------------------------------------------------------------------\u001b[0m",
      "\u001b[1;31mModuleNotFoundError\u001b[0m                       Traceback (most recent call last)",
      "\u001b[1;32m<ipython-input-40-8966de136726>\u001b[0m in \u001b[0;36m<module>\u001b[1;34m\u001b[0m\n\u001b[0;32m     11\u001b[0m \u001b[1;32mfrom\u001b[0m \u001b[0mnltk\u001b[0m\u001b[1;33m.\u001b[0m\u001b[0mstem\u001b[0m \u001b[1;32mimport\u001b[0m \u001b[0mWordNetLemmatizer\u001b[0m\u001b[1;33m\u001b[0m\u001b[1;33m\u001b[0m\u001b[0m\n\u001b[0;32m     12\u001b[0m \u001b[1;32mimport\u001b[0m \u001b[0mos\u001b[0m\u001b[1;33m\u001b[0m\u001b[1;33m\u001b[0m\u001b[0m\n\u001b[1;32m---> 13\u001b[1;33m \u001b[1;32mfrom\u001b[0m \u001b[0mrapidfuzz\u001b[0m \u001b[1;32mimport\u001b[0m \u001b[0mprocess\u001b[0m\u001b[1;33m,\u001b[0m \u001b[0mfuzz\u001b[0m\u001b[1;33m\u001b[0m\u001b[1;33m\u001b[0m\u001b[0m\n\u001b[0m\u001b[0;32m     14\u001b[0m \u001b[1;32mfrom\u001b[0m \u001b[0mcollections\u001b[0m \u001b[1;32mimport\u001b[0m \u001b[0mdefaultdict\u001b[0m\u001b[1;33m\u001b[0m\u001b[1;33m\u001b[0m\u001b[0m\n\u001b[0;32m     15\u001b[0m \u001b[1;32mimport\u001b[0m \u001b[0mmatplotlib\u001b[0m\u001b[1;33m.\u001b[0m\u001b[0mpyplot\u001b[0m \u001b[1;32mas\u001b[0m \u001b[0mplt\u001b[0m\u001b[1;33m\u001b[0m\u001b[1;33m\u001b[0m\u001b[0m\n",
      "\u001b[1;31mModuleNotFoundError\u001b[0m: No module named 'rapidfuzz'"
     ]
    }
   ],
   "source": [
    "#IMPORT NECESSARY LIBRARIES\n",
    "import pandas as pd\n",
    "import numpy as np\n",
    "import re\n",
    "import matplotlib.pyplot as plt\n",
    "import seaborn as sns\n",
    "import scipy.stats as stats\n",
    "from collections import Counter\n",
    "import nltk\n",
    "from nltk.corpus import stopwords\n",
    "from nltk.stem import WordNetLemmatizer\n",
    "import os\n",
    "from rapidfuzz import process, fuzz\n",
    "from collections import defaultdict\n",
    "import matplotlib.pyplot as plt\n",
    "from sklearn.preprocessing import StandardScaler\n",
    "from sklearn.cluster import KMeans\n",
    "from sklearn.metrics import silhouette_score\n",
    "from sklearn.decomposition import PCA\n",
    "from sklearn.model_selection import train_test_split\n",
    "from sklearn.metrics import mean_squared_error, r2_score\n",
    "from sklearn.linear_model import LinearRegression\n",
    "import xgboost as xgb\n",
    "from sklearn.feature_extraction.text import TfidfVectorizer\n",
    "from sklearn.preprocessing import OneHotEncoder\n",
    "from sklearn.compose import ColumnTransformer\n",
    "from sklearn.pipeline import Pipeline\n",
    "import warnings \n",
    "warnings.filterwarnings('ignore')\n",
    "\n"
   ]
  },
  {
   "cell_type": "markdown",
   "metadata": {},
   "source": [
    "## Data Cleaning\n",
    "\n",
    "Step 1: Load and Inspect the Raw Data"
   ]
  },
  {
   "cell_type": "code",
   "execution_count": 73,
   "metadata": {},
   "outputs": [
    {
     "name": "stdout",
     "output_type": "stream",
     "text": [
      "<class 'pandas.core.frame.DataFrame'>\n",
      "RangeIndex: 561 entries, 0 to 560\n",
      "Data columns (total 5 columns):\n",
      " #   Column                      Non-Null Count  Dtype  \n",
      "---  ------                      --------------  -----  \n",
      " 0   Ministry/Department/Agency  561 non-null    object \n",
      " 1   Financial Year              561 non-null    object \n",
      " 2   Approved Budget             561 non-null    float64\n",
      " 3   Actual Expenditure          561 non-null    float64\n",
      " 4   Variance                    561 non-null    float64\n",
      "dtypes: float64(3), object(2)\n",
      "memory usage: 22.0+ KB\n"
     ]
    }
   ],
   "source": [
    "\n",
    "# Load the compiled CSV\n",
    "df = pd.read_csv(\"Data\\Kenya_National_Govt_Budget_2021_2024.csv\")\n",
    "\n",
    "df.head()\n",
    "df.info()\n"
   ]
  },
  {
   "cell_type": "code",


   "execution_count": 808,

   "metadata": {},
   "outputs": [
    {
     "name": "stdout",
     "output_type": "stream",
     "text": [
      "Index(['MDA_name', 'Financial Year', 'Approved Budget', 'Actual Expenditure',\n",
      "       'Variance'],\n",
      "      dtype='object')\n"
     ]
    }
   ],
   "source": [
    "# renaming MDA column\n",
    "df = df.rename(columns={\"Ministry/Department/Agency\": \"MDA_name\"})\n",
    "print(df.columns)\n"
   ]
  },
  {
   "cell_type": "markdown",
   "metadata": {},
   "source": [
    "Step 2. Clean Ministry Names\n",
    "\n",
    "Issues: leading numbers, trailing digits/fragments, generic \"noise\" rows."
   ]
  },
  {
   "cell_type": "code",
   "execution_count": 75,
   "metadata": {},
   "outputs": [],
   "source": [
    "# Ministry name cleaning\n",
    "\n",
    "def clean_mda_name(name):\n",
    "    \"\"\"Clean a single MDA name string.\"\"\"\n",
    "    if pd.isna(name):\n",
    "        return None\n",
    "    \n",
    "    name = str(name).strip()\n",
    "\n",
    "    # Remove leading numbers and dots (\"4 Coast Water…\" → \"Coast Water…\")\n",
    "    name = re.sub(r'^\\d+\\s*', '', name)\n",
    "\n",
    "    # Remove trailing digits / fragments (\"Arror Dam 91,852,267 -\" → \"Arror Dam\")\n",
    "    name = re.sub(r'\\d.*$', '', name).strip()\n",
    "\n",
    "    # Remove unwanted tokens\n",
    "    noise_words = [\n",
    "        \"TOTAL\", \"REFERENCE\", \"COMPENSATION OF\", \"COMPENSATION\",\n",
    "        \"GRAND TOTAL\", \"BALANCE\", \"BANK\", \"CASH\", \"EQUIVALENT\",\n",
    "        \"NOTE\", \"RECEIVED\", \"CORPORATION\", \"SETTLEMENT\", \"BURNER\"\n",
    "    ]\n",
    "    for word in noise_words:\n",
    "        if word in name.upper():\n",
    "            return None\n",
    "\n",
    "    # Final cleanup: remove stray characters\n",
    "    name = re.sub(r\"[^A-Za-z0-9\\s&\\-]\", \"\", name).strip()\n",
    "\n",
    "    # Return None if still too short\n",
    "    if not name or (len(name) < 4 and not name.isupper()):\n",
    "        return None\n",
    "    \n",
    "    return name\n",
    "\n",
    "\n",
    "# ---- Apply to DataFrame ----\n",
    "# Drop empty or blank values first\n",
    "df = df.dropna(subset=[\"MDA_name\"])\n",
    "df = df[df[\"MDA_name\"].str.strip() != \"\"]\n",
    "\n",
    "# Apply cleaning function\n",
    "df[\"MDA_name\"] = df[\"MDA_name\"].apply(clean_mda_name)\n",
    "\n",
    "# Drop rows where cleaning returned None\n",
    "df = df.dropna(subset=[\"MDA_name\"])\n",
    "\n",
    "# Remove rows that look like fragments (extra filter pass)\n",
    "bad_patterns = r\"disclosed|statement of|financial assets|in october|of kshs|prescribed|regulations|treatment\"\n",
    "df = df[~df[\"MDA_name\"].str.lower().str.contains(bad_patterns, na=False)]\n",
    "\n",
    "# Strip whitespace again just in case\n",
    "df[\"MDA_name\"] = df[\"MDA_name\"].str.strip()\n"
   ]
  },
  {
   "cell_type": "markdown",
   "metadata": {},
   "source": [
    "Step 3. Clean Numeric Columns\n",
    "\n",
    "Budgets often come with spaces, commas, or text."
   ]
  },
  {
   "cell_type": "code",
   "execution_count": 76,
   "metadata": {},
   "outputs": [],
   "source": [
    "def clean_budget(value):\n",
    "    if pd.isna(value):\n",
    "        return None\n",
    "    # Remove commas and spaces inside numbers\n",
    "    value = str(value).replace(\",\", \"\").replace(\" \", \"\")\n",
    "    # Keep only digits\n",
    "    value = re.sub(r\"[^\\d]\", \"\", value)\n",
    "    return int(value) if value.isdigit() else None\n",
    "\n",
    "for col in [\"Approved Budget\", \"Actual Expenditure\"]:\n",
    "     df.loc[:, col] = df[col].apply(clean_budget)\n",
    "\n",
    "     \n",
    "\n"
   ]
  },
  {
   "cell_type": "markdown",
   "metadata": {},
   "source": [
    "Step 4. Handle Impossible Budgets\n",
    "\n",
    "Drop rows with budgets that are small (<1000 unless verified)."
   ]
  },
  {
   "cell_type": "code",
   "execution_count": 77,
   "metadata": {},
   "outputs": [],
   "source": [
    "df = df[(df[\"Approved Budget\"] >= 1000) & (df[\"Actual Expenditure\"] >= 1000)]\n"
   ]
  },
  {
   "cell_type": "markdown",
   "metadata": {},
   "source": [
    "Step 5. Aggregate duplicates instead of dropping\n",
    "\n",
    "If a ministry appears multiple times in one year, you’ll get one row per ministry/year with aggregated totals — no data lost."
   ]
  },
  {
   "cell_type": "code",
   "execution_count": 78,
   "metadata": {},
   "outputs": [
    {
     "data": {
      "application/vnd.microsoft.datawrangler.viewer.v0+json": {
       "columns": [
        {
         "name": "Financial Year",
         "rawType": "object",
         "type": "string"
        },
        {
         "name": "Approved Budget",
         "rawType": "int64",
         "type": "integer"
        }
       ],
       "ref": "da358b94-bc8f-4ac0-9f21-17ec381c0614",
       "rows": [
        [
         "2020/2021",
         "3057409410010"
        ],
        [
         "2021/2022",
         "1970396736970"
        ],
        [
         "2022/2023",
         "617420118430"
        ],
        [
         "2023/2024",
         "2617856362750"
        ]
       ],
       "shape": {
        "columns": 1,
        "rows": 4
       }
      },
      "text/html": [
       "<div>\n",
       "<style scoped>\n",
       "    .dataframe tbody tr th:only-of-type {\n",
       "        vertical-align: middle;\n",
       "    }\n",
       "\n",
       "    .dataframe tbody tr th {\n",
       "        vertical-align: top;\n",
       "    }\n",
       "\n",
       "    .dataframe thead th {\n",
       "        text-align: right;\n",
       "    }\n",
       "</style>\n",
       "<table border=\"1\" class=\"dataframe\">\n",
       "  <thead>\n",
       "    <tr style=\"text-align: right;\">\n",
       "      <th></th>\n",
       "      <th>Approved Budget</th>\n",
       "    </tr>\n",
       "    <tr>\n",
       "      <th>Financial Year</th>\n",
       "      <th></th>\n",
       "    </tr>\n",
       "  </thead>\n",
       "  <tbody>\n",
       "    <tr>\n",
       "      <th>2020/2021</th>\n",
       "      <td>3057409410010</td>\n",
       "    </tr>\n",
       "    <tr>\n",
       "      <th>2021/2022</th>\n",
       "      <td>1970396736970</td>\n",
       "    </tr>\n",
       "    <tr>\n",
       "      <th>2022/2023</th>\n",
       "      <td>617420118430</td>\n",
       "    </tr>\n",
       "    <tr>\n",
       "      <th>2023/2024</th>\n",
       "      <td>2617856362750</td>\n",
       "    </tr>\n",
       "  </tbody>\n",
       "</table>\n",
       "</div>"
      ],
      "text/plain": [
       "                Approved Budget\n",
       "Financial Year                 \n",
       "2020/2021         3057409410010\n",
       "2021/2022         1970396736970\n",
       "2022/2023          617420118430\n",
       "2023/2024         2617856362750"
      ]
     },
     "execution_count": 78,
     "metadata": {},
     "output_type": "execute_result"
    }
   ],
   "source": [
    "df = df.groupby([\"MDA_name\", \"Financial Year\"], as_index=False).agg({\n",
    "    \"Approved Budget\": \"sum\",\n",
    "    \"Actual Expenditure\": \"sum\"\n",
    "})\n",
    "irrelevant_mdas = ['Co-operative State Department of', 'Kenya Post Inua Jamii Project','Kenya Electricity Generating','Grant Units of']\n",
    "df = df[~df['MDA_name'].isin(irrelevant_mdas)] \n",
    "df.groupby([\"Financial Year\"]).agg({\n",
    "    \"Approved Budget\": \"sum\"})\n",
    "# df[\"Approved Budget\"] = df[\"Approved Budget\"].map(\"{:,}\".format)\n",
    "# df.sort_values(by=[\"Approved Budget\"], ascending=False)"
   ]
  },
  {
   "cell_type": "code",
   "execution_count": 79,
   "metadata": {},
   "outputs": [],
   "source": [
    "# output_path = r\"C:\\Users\\SYDNEY\\Documents\\moringa\\phase5\\Analysis-of-National-Government-Ministries-Departments-and-Agencies-Budget-Data\\Data\\financial.csv\"\n",
    "# df.to_csv(output_path, index=False, encoding=\"utf-8\")"
   ]
  },
  {
   "cell_type": "markdown",
   "metadata": {},
   "source": [
    "Step 6. Create Variance Features\n",
    "\n"
   ]
  },
  {
   "cell_type": "code",
   "execution_count": 80,
   "metadata": {},
   "outputs": [],
   "source": [
    "df[\"variance\"] = df[\"Approved Budget\"] - df[\"Actual Expenditure\"]\n",
    "df[\"pct_variance\"] = (df[\"variance\"] / df[\"Approved Budget\"]) * 100\n"
   ]
  },
  {
   "cell_type": "code",
   "execution_count": 815,

   "metadata": {},
   "outputs": [
    {
     "data": {
      "application/vnd.microsoft.datawrangler.viewer.v0+json": {
       "columns": [
        {
         "name": "index",
         "rawType": "int64",
         "type": "integer"
        },
        {
         "name": "MDA_name",
         "rawType": "object",
         "type": "string"
        },
        {
         "name": "Financial Year",
         "rawType": "object",
         "type": "string"
        },
        {
         "name": "Approved Budget",
         "rawType": "int64",
         "type": "integer"
        },
        {
         "name": "Actual Expenditure",
         "rawType": "int64",
         "type": "integer"
        },
        {
         "name": "variance",
         "rawType": "int64",
         "type": "integer"
        },
        {
         "name": "pct_variance",
         "rawType": "float64",
         "type": "float"
        }
       ],
       "ref": "0c9d31a8-60d7-481a-a3a9-179a57d89ec4",
       "rows": [
        [
         "263",
         "Turkana",
         "2023/2024",
         "375008960",
         "353695950",
         "21313010",
         "5.683333539550628"
        ],
        [
         "264",
         "Ukwala -",
         "2020/2021",
         "20190",
         "20190",
         "0",
         "0.0"
        ],
        [
         "265",
         "UngunjaSega Ukwala",
         "2022/2023",
         "10530184450",
         "7944676170",
         "2585508280",
         "24.553304761912315"
        ],
        [
         "266",
         "Unique project",
         "2021/2022",
         "800000",
         "1670000",
         "-870000",
         "-108.74999999999999"
        ],
        [
         "267",
         "Upper Tana Catchment Natural",
         "2022/2023",
         "5094826880",
         "4694826880",
         "400000000",
         "7.8511009190561545"
        ],
        [
         "268",
         "Use of Goods and",
         "2020/2021",
         "4542008250",
         "4543313780",
         "-1305530",
         "-0.028743452854802717"
        ],
        [
         "269",
         "Use of Goods and Services",
         "2020/2021",
         "6492379220",
         "6122848540",
         "369530680",
         "5.691760562316629"
        ],
        [
         "270",
         "Use of Goods and Services",
         "2021/2022",
         "34527000",
         "11246003830",
         "-11211476830",
         "-32471.621716337937"
        ],
        [
         "271",
         "Utilities Supplies and Services",
         "2020/2021",
         "61352550",
         "4489080",
         "56863470",
         "92.68314030957148"
        ],
        [
         "272",
         "Vehicles and Other Transport",
         "2020/2021",
         "869430390",
         "776200000",
         "93230390",
         "10.723157491653817"
        ],
        [
         "273",
         "Wajir",
         "2021/2022",
         "400000000",
         "342758610",
         "57241390",
         "14.3103475"
        ],
        [
         "274",
         "Wajir",
         "2022/2023",
         "400000000",
         "342758610",
         "57241390",
         "14.3103475"
        ],
        [
         "275",
         "Washington",
         "2020/2021",
         "449080",
         "33537100",
         "-33088020",
         "-7367.956711499065"
        ],
        [
         "276",
         "Water Resource Management",
         "2020/2021",
         "13973412430",
         "3626123000",
         "10347289430",
         "74.04983916301681"
        ],
        [
         "277",
         "Water Resource Management",
         "2021/2022",
         "13973412430",
         "3626123000",
         "10347289430",
         "74.04983916301681"
        ],
        [
         "278",
         "Water Supply",
         "2020/2021",
         "40360",
         "40380",
         "-20",
         "-0.049554013875123884"
        ],
        [
         "279",
         "a vi Emergency payments made in",
         "2023/2024",
         "59488100",
         "52000000",
         "7488100",
         "12.587559528712466"
        ],
        [
         "280",
         "bii Registration of Households in",
         "2023/2024",
         "5000000",
         "43000000",
         "-38000000",
         "-760.0"
        ],
        [
         "281",
         "previously forfeited for the years",
         "2023/2024",
         "20110",
         "20120",
         "-10",
         "-0.04972650422675286"
        ],
        [
         "282",
         "since the financial years ended",
         "2022/2023",
         "20170",
         "20180",
         "-10",
         "-0.04957858205255329"
        ]
       ],
       "shape": {
        "columns": 6,
        "rows": 20
       }
      },
      "text/html": [
       "<div>\n",
       "<style scoped>\n",
       "    .dataframe tbody tr th:only-of-type {\n",
       "        vertical-align: middle;\n",
       "    }\n",
       "\n",
       "    .dataframe tbody tr th {\n",
       "        vertical-align: top;\n",
       "    }\n",
       "\n",
       "    .dataframe thead th {\n",
       "        text-align: right;\n",
       "    }\n",
       "</style>\n",
       "<table border=\"1\" class=\"dataframe\">\n",
       "  <thead>\n",
       "    <tr style=\"text-align: right;\">\n",
       "      <th></th>\n",
       "      <th>MDA_name</th>\n",
       "      <th>Financial Year</th>\n",
       "      <th>Approved Budget</th>\n",
       "      <th>Actual Expenditure</th>\n",
       "      <th>variance</th>\n",
       "      <th>pct_variance</th>\n",
       "    </tr>\n",
       "  </thead>\n",
       "  <tbody>\n",
       "    <tr>\n",
       "      <th>263</th>\n",
       "      <td>Turkana</td>\n",
       "      <td>2023/2024</td>\n",
       "      <td>375008960</td>\n",
       "      <td>353695950</td>\n",
       "      <td>21313010</td>\n",
       "      <td>5.683334</td>\n",
       "    </tr>\n",
       "    <tr>\n",
       "      <th>264</th>\n",
       "      <td>Ukwala -</td>\n",
       "      <td>2020/2021</td>\n",
       "      <td>20190</td>\n",
       "      <td>20190</td>\n",
       "      <td>0</td>\n",
       "      <td>0.000000</td>\n",
       "    </tr>\n",
       "    <tr>\n",
       "      <th>265</th>\n",
       "      <td>UngunjaSega Ukwala</td>\n",
       "      <td>2022/2023</td>\n",
       "      <td>10530184450</td>\n",
       "      <td>7944676170</td>\n",
       "      <td>2585508280</td>\n",
       "      <td>24.553305</td>\n",
       "    </tr>\n",
       "    <tr>\n",
       "      <th>266</th>\n",
       "      <td>Unique project</td>\n",
       "      <td>2021/2022</td>\n",
       "      <td>800000</td>\n",
       "      <td>1670000</td>\n",
       "      <td>-870000</td>\n",
       "      <td>-108.750000</td>\n",
       "    </tr>\n",
       "    <tr>\n",
       "      <th>267</th>\n",
       "      <td>Upper Tana Catchment Natural</td>\n",
       "      <td>2022/2023</td>\n",
       "      <td>5094826880</td>\n",
       "      <td>4694826880</td>\n",
       "      <td>400000000</td>\n",
       "      <td>7.851101</td>\n",
       "    </tr>\n",
       "    <tr>\n",
       "      <th>268</th>\n",
       "      <td>Use of Goods and</td>\n",
       "      <td>2020/2021</td>\n",
       "      <td>4542008250</td>\n",
       "      <td>4543313780</td>\n",
       "      <td>-1305530</td>\n",
       "      <td>-0.028743</td>\n",
       "    </tr>\n",
       "    <tr>\n",
       "      <th>269</th>\n",
       "      <td>Use of Goods and Services</td>\n",
       "      <td>2020/2021</td>\n",
       "      <td>6492379220</td>\n",
       "      <td>6122848540</td>\n",
       "      <td>369530680</td>\n",
       "      <td>5.691761</td>\n",
       "    </tr>\n",
       "    <tr>\n",
       "      <th>270</th>\n",
       "      <td>Use of Goods and Services</td>\n",
       "      <td>2021/2022</td>\n",
       "      <td>34527000</td>\n",
       "      <td>11246003830</td>\n",
       "      <td>-11211476830</td>\n",
       "      <td>-32471.621716</td>\n",
       "    </tr>\n",
       "    <tr>\n",
       "      <th>271</th>\n",
       "      <td>Utilities Supplies and Services</td>\n",
       "      <td>2020/2021</td>\n",
       "      <td>61352550</td>\n",
       "      <td>4489080</td>\n",
       "      <td>56863470</td>\n",
       "      <td>92.683140</td>\n",
       "    </tr>\n",
       "    <tr>\n",
       "      <th>272</th>\n",
       "      <td>Vehicles and Other Transport</td>\n",
       "      <td>2020/2021</td>\n",
       "      <td>869430390</td>\n",
       "      <td>776200000</td>\n",
       "      <td>93230390</td>\n",
       "      <td>10.723157</td>\n",
       "    </tr>\n",
       "    <tr>\n",
       "      <th>273</th>\n",
       "      <td>Wajir</td>\n",
       "      <td>2021/2022</td>\n",
       "      <td>400000000</td>\n",
       "      <td>342758610</td>\n",
       "      <td>57241390</td>\n",
       "      <td>14.310348</td>\n",
       "    </tr>\n",
       "    <tr>\n",
       "      <th>274</th>\n",
       "      <td>Wajir</td>\n",
       "      <td>2022/2023</td>\n",
       "      <td>400000000</td>\n",
       "      <td>342758610</td>\n",
       "      <td>57241390</td>\n",
       "      <td>14.310348</td>\n",
       "    </tr>\n",
       "    <tr>\n",
       "      <th>275</th>\n",
       "      <td>Washington</td>\n",
       "      <td>2020/2021</td>\n",
       "      <td>449080</td>\n",
       "      <td>33537100</td>\n",
       "      <td>-33088020</td>\n",
       "      <td>-7367.956711</td>\n",
       "    </tr>\n",
       "    <tr>\n",
       "      <th>276</th>\n",
       "      <td>Water Resource Management</td>\n",
       "      <td>2020/2021</td>\n",
       "      <td>13973412430</td>\n",
       "      <td>3626123000</td>\n",
       "      <td>10347289430</td>\n",
       "      <td>74.049839</td>\n",
       "    </tr>\n",
       "    <tr>\n",
       "      <th>277</th>\n",
       "      <td>Water Resource Management</td>\n",
       "      <td>2021/2022</td>\n",
       "      <td>13973412430</td>\n",
       "      <td>3626123000</td>\n",
       "      <td>10347289430</td>\n",
       "      <td>74.049839</td>\n",
       "    </tr>\n",
       "    <tr>\n",
       "      <th>278</th>\n",
       "      <td>Water Supply</td>\n",
       "      <td>2020/2021</td>\n",
       "      <td>40360</td>\n",
       "      <td>40380</td>\n",
       "      <td>-20</td>\n",
       "      <td>-0.049554</td>\n",
       "    </tr>\n",
       "    <tr>\n",
       "      <th>279</th>\n",
       "      <td>a vi Emergency payments made in</td>\n",
       "      <td>2023/2024</td>\n",
       "      <td>59488100</td>\n",
       "      <td>52000000</td>\n",
       "      <td>7488100</td>\n",
       "      <td>12.587560</td>\n",
       "    </tr>\n",
       "    <tr>\n",
       "      <th>280</th>\n",
       "      <td>bii Registration of Households in</td>\n",
       "      <td>2023/2024</td>\n",
       "      <td>5000000</td>\n",
       "      <td>43000000</td>\n",
       "      <td>-38000000</td>\n",
       "      <td>-760.000000</td>\n",
       "    </tr>\n",
       "    <tr>\n",
       "      <th>281</th>\n",
       "      <td>previously forfeited for the years</td>\n",
       "      <td>2023/2024</td>\n",
       "      <td>20110</td>\n",
       "      <td>20120</td>\n",
       "      <td>-10</td>\n",
       "      <td>-0.049727</td>\n",
       "    </tr>\n",
       "    <tr>\n",
       "      <th>282</th>\n",
       "      <td>since the financial years ended</td>\n",
       "      <td>2022/2023</td>\n",
       "      <td>20170</td>\n",
       "      <td>20180</td>\n",
       "      <td>-10</td>\n",
       "      <td>-0.049579</td>\n",
       "    </tr>\n",
       "  </tbody>\n",
       "</table>\n",
       "</div>"
      ],
      "text/plain": [
       "                               MDA_name Financial Year  Approved Budget  \\\n",
       "263                             Turkana      2023/2024        375008960   \n",
       "264                            Ukwala -      2020/2021            20190   \n",
       "265                  UngunjaSega Ukwala      2022/2023      10530184450   \n",
       "266                      Unique project      2021/2022           800000   \n",
       "267        Upper Tana Catchment Natural      2022/2023       5094826880   \n",
       "268                    Use of Goods and      2020/2021       4542008250   \n",
       "269           Use of Goods and Services      2020/2021       6492379220   \n",
       "270           Use of Goods and Services      2021/2022         34527000   \n",
       "271     Utilities Supplies and Services      2020/2021         61352550   \n",
       "272        Vehicles and Other Transport      2020/2021        869430390   \n",
       "273                               Wajir      2021/2022        400000000   \n",
       "274                               Wajir      2022/2023        400000000   \n",
       "275                          Washington      2020/2021           449080   \n",
       "276           Water Resource Management      2020/2021      13973412430   \n",
       "277           Water Resource Management      2021/2022      13973412430   \n",
       "278                        Water Supply      2020/2021            40360   \n",
       "279     a vi Emergency payments made in      2023/2024         59488100   \n",
       "280   bii Registration of Households in      2023/2024          5000000   \n",
       "281  previously forfeited for the years      2023/2024            20110   \n",
       "282     since the financial years ended      2022/2023            20170   \n",
       "\n",
       "     Actual Expenditure     variance  pct_variance  \n",
       "263           353695950     21313010      5.683334  \n",
       "264               20190            0      0.000000  \n",
       "265          7944676170   2585508280     24.553305  \n",
       "266             1670000      -870000   -108.750000  \n",
       "267          4694826880    400000000      7.851101  \n",
       "268          4543313780     -1305530     -0.028743  \n",
       "269          6122848540    369530680      5.691761  \n",
       "270         11246003830 -11211476830 -32471.621716  \n",
       "271             4489080     56863470     92.683140  \n",
       "272           776200000     93230390     10.723157  \n",
       "273           342758610     57241390     14.310348  \n",
       "274           342758610     57241390     14.310348  \n",
       "275            33537100    -33088020  -7367.956711  \n",
       "276          3626123000  10347289430     74.049839  \n",
       "277          3626123000  10347289430     74.049839  \n",
       "278               40380          -20     -0.049554  \n",
       "279            52000000      7488100     12.587560  \n",
       "280            43000000    -38000000   -760.000000  \n",
       "281               20120          -10     -0.049727  \n",
       "282               20180          -10     -0.049579  "
      ]
     },
     "execution_count": 81,
     "metadata": {},
     "output_type": "execute_result"
    }
   ],
   "source": [
    "df.tail(20)"
   ]
  },
  {
   "cell_type": "markdown",
   "metadata": {},
   "source": [
    "7. Deal with noice that was missed"
   ]
  },
  {
   "cell_type": "code",
   "execution_count": 82,
   "metadata": {},
   "outputs": [],
   "source": [
    "more_noise = r\"forfeited|reported|representatives|since the|some$\"\n",
    "df = df[~df[\"MDA_name\"].str.lower().str.contains(more_noise, na=False)]\n"
   ]
  },
  {
   "cell_type": "code",
   "execution_count": 83,
   "metadata": {},
   "outputs": [
    {
     "data": {
      "application/vnd.microsoft.datawrangler.viewer.v0+json": {
       "columns": [
        {
         "name": "index",
         "rawType": "int64",
         "type": "integer"
        },
        {
         "name": "MDA_name",
         "rawType": "object",
         "type": "string"
        },
        {
         "name": "Financial Year",
         "rawType": "object",
         "type": "string"
        },
        {
         "name": "Approved Budget",
         "rawType": "int64",
         "type": "integer"
        },
        {
         "name": "Actual Expenditure",
         "rawType": "int64",
         "type": "integer"
        },
        {
         "name": "variance",
         "rawType": "int64",
         "type": "integer"
        },
        {
         "name": "pct_variance",
         "rawType": "float64",
         "type": "float"
        }
       ],
       "ref": "6cba9059-ac43-4a8d-952b-bf81fd2d2e16",
       "rows": [
        [
         "0",
         "AIA",
         "2020/2021",
         "198535694030",
         "155293985890",
         "43241708140",
         "21.78031932810324"
        ],
        [
         "1",
         "ASDSP II",
         "2021/2022",
         "8300000",
         "2563200",
         "5736800",
         "69.11807228915663"
        ],
        [
         "2",
         "Account Payable - Deposits",
         "2020/2021",
         "4529100210",
         "15488034310",
         "-10958934100",
         "-241.96713677925"
        ],
        [
         "3",
         "Account Payables",
         "2021/2022",
         "1399977930",
         "6107770090",
         "-4707792160",
         "-336.276169725047"
        ],
        [
         "4",
         "Accounts",
         "2020/2021",
         "158689062850",
         "4643433390",
         "154045629460",
         "97.07387937983528"
        ],
        [
         "5",
         "Acquisition of Assets",
         "2020/2021",
         "2603723680",
         "1931824430",
         "671899250",
         "25.80532086261934"
        ],
        [
         "6",
         "Acquisition of Assets",
         "2021/2022",
         "1137124700",
         "1581610480",
         "-444485780",
         "-39.08856961773849"
        ],
        [
         "7",
         "Acquisition of Land",
         "2022/2023",
         "1320960560",
         "1225609480",
         "95351080",
         "7.21831392149967"
        ],
        [
         "8",
         "Adjustment during the year",
         "2020/2021",
         "6262310",
         "4840628180",
         "-4834365870",
         "-77197.80512302968"
        ],
        [
         "9",
         "Agro-Chemical and Food",
         "2020/2021",
         "28468840000",
         "29418840000",
         "-950000000",
         "-3.336981766731627"
        ]
       ],
       "shape": {
        "columns": 6,
        "rows": 10
       }
      },
      "text/html": [
       "<div>\n",
       "<style scoped>\n",
       "    .dataframe tbody tr th:only-of-type {\n",
       "        vertical-align: middle;\n",
       "    }\n",
       "\n",
       "    .dataframe tbody tr th {\n",
       "        vertical-align: top;\n",
       "    }\n",
       "\n",
       "    .dataframe thead th {\n",
       "        text-align: right;\n",
       "    }\n",
       "</style>\n",
       "<table border=\"1\" class=\"dataframe\">\n",
       "  <thead>\n",
       "    <tr style=\"text-align: right;\">\n",
       "      <th></th>\n",
       "      <th>MDA_name</th>\n",
       "      <th>Financial Year</th>\n",
       "      <th>Approved Budget</th>\n",
       "      <th>Actual Expenditure</th>\n",
       "      <th>variance</th>\n",
       "      <th>pct_variance</th>\n",
       "    </tr>\n",
       "  </thead>\n",
       "  <tbody>\n",
       "    <tr>\n",
       "      <th>0</th>\n",
       "      <td>AIA</td>\n",
       "      <td>2020/2021</td>\n",
       "      <td>198535694030</td>\n",
       "      <td>155293985890</td>\n",
       "      <td>43241708140</td>\n",
       "      <td>21.780319</td>\n",
       "    </tr>\n",
       "    <tr>\n",
       "      <th>1</th>\n",
       "      <td>ASDSP II</td>\n",
       "      <td>2021/2022</td>\n",
       "      <td>8300000</td>\n",
       "      <td>2563200</td>\n",
       "      <td>5736800</td>\n",
       "      <td>69.118072</td>\n",
       "    </tr>\n",
       "    <tr>\n",
       "      <th>2</th>\n",
       "      <td>Account Payable - Deposits</td>\n",
       "      <td>2020/2021</td>\n",
       "      <td>4529100210</td>\n",
       "      <td>15488034310</td>\n",
       "      <td>-10958934100</td>\n",
       "      <td>-241.967137</td>\n",
       "    </tr>\n",
       "    <tr>\n",
       "      <th>3</th>\n",
       "      <td>Account Payables</td>\n",
       "      <td>2021/2022</td>\n",
       "      <td>1399977930</td>\n",
       "      <td>6107770090</td>\n",
       "      <td>-4707792160</td>\n",
       "      <td>-336.276170</td>\n",
       "    </tr>\n",
       "    <tr>\n",
       "      <th>4</th>\n",
       "      <td>Accounts</td>\n",
       "      <td>2020/2021</td>\n",
       "      <td>158689062850</td>\n",
       "      <td>4643433390</td>\n",
       "      <td>154045629460</td>\n",
       "      <td>97.073879</td>\n",
       "    </tr>\n",
       "    <tr>\n",
       "      <th>5</th>\n",
       "      <td>Acquisition of Assets</td>\n",
       "      <td>2020/2021</td>\n",
       "      <td>2603723680</td>\n",
       "      <td>1931824430</td>\n",
       "      <td>671899250</td>\n",
       "      <td>25.805321</td>\n",
       "    </tr>\n",
       "    <tr>\n",
       "      <th>6</th>\n",
       "      <td>Acquisition of Assets</td>\n",
       "      <td>2021/2022</td>\n",
       "      <td>1137124700</td>\n",
       "      <td>1581610480</td>\n",
       "      <td>-444485780</td>\n",
       "      <td>-39.088570</td>\n",
       "    </tr>\n",
       "    <tr>\n",
       "      <th>7</th>\n",
       "      <td>Acquisition of Land</td>\n",
       "      <td>2022/2023</td>\n",
       "      <td>1320960560</td>\n",
       "      <td>1225609480</td>\n",
       "      <td>95351080</td>\n",
       "      <td>7.218314</td>\n",
       "    </tr>\n",
       "    <tr>\n",
       "      <th>8</th>\n",
       "      <td>Adjustment during the year</td>\n",
       "      <td>2020/2021</td>\n",
       "      <td>6262310</td>\n",
       "      <td>4840628180</td>\n",
       "      <td>-4834365870</td>\n",
       "      <td>-77197.805123</td>\n",
       "    </tr>\n",
       "    <tr>\n",
       "      <th>9</th>\n",
       "      <td>Agro-Chemical and Food</td>\n",
       "      <td>2020/2021</td>\n",
       "      <td>28468840000</td>\n",
       "      <td>29418840000</td>\n",
       "      <td>-950000000</td>\n",
       "      <td>-3.336982</td>\n",
       "    </tr>\n",
       "  </tbody>\n",
       "</table>\n",
       "</div>"
      ],
      "text/plain": [
       "                     MDA_name Financial Year  Approved Budget  \\\n",
       "0                         AIA      2020/2021     198535694030   \n",
       "1                    ASDSP II      2021/2022          8300000   \n",
       "2  Account Payable - Deposits      2020/2021       4529100210   \n",
       "3            Account Payables      2021/2022       1399977930   \n",
       "4                    Accounts      2020/2021     158689062850   \n",
       "5       Acquisition of Assets      2020/2021       2603723680   \n",
       "6       Acquisition of Assets      2021/2022       1137124700   \n",
       "7         Acquisition of Land      2022/2023       1320960560   \n",
       "8  Adjustment during the year      2020/2021          6262310   \n",
       "9      Agro-Chemical and Food      2020/2021      28468840000   \n",
       "\n",
       "   Actual Expenditure      variance  pct_variance  \n",
       "0        155293985890   43241708140     21.780319  \n",
       "1             2563200       5736800     69.118072  \n",
       "2         15488034310  -10958934100   -241.967137  \n",
       "3          6107770090   -4707792160   -336.276170  \n",
       "4          4643433390  154045629460     97.073879  \n",
       "5          1931824430     671899250     25.805321  \n",
       "6          1581610480    -444485780    -39.088570  \n",
       "7          1225609480      95351080      7.218314  \n",
       "8          4840628180   -4834365870 -77197.805123  \n",
       "9         29418840000    -950000000     -3.336982  "
      ]
     },
     "execution_count": 83,
     "metadata": {},
     "output_type": "execute_result"
    }
   ],
   "source": [
    "df.head(10)"
   ]
  },
  {
   "cell_type": "markdown",
   "metadata": {},
   "source": [
    "## Feature Engineering\n",
    "To improve our analysis, we derived additional features that help reveal inefficiencies, spending behaviors, and audit concerns more clearly. These engineered features make the data more interpretable and allow us to perform more meaningful comparisons across ministries, departments, and years.  \n",
    "\n",
    "### Features Added\n",
    "\n",
    "1. **Utilization Rate (%)**  \n",
    "   - Formula: `Actual Expenditure ÷ Approved Budget × 100`  \n",
    "   - Shows how much of the allocated funds were actually spent.  \n",
    "   - A rate close to 100% indicates good budget execution, while very low or very high rates suggest under-spending or overspending.\n",
    "\n",
    "2. **Spending Status**  \n",
    "   - Categories: **Overspent**, **Underspent**, **On Budget**  \n",
    "   - Provides a quick, categorical classification of each ministry’s spending behavior.  \n",
    "   - Helps us identify recurring patterns of overspending or underspending across different years.\n",
    "\n",
    "3. **Audit Flag**  \n",
    "   - Value: **1** if the variance exceeds ±10% of the approved budget, else **0**.  \n",
    "   - Highlights ministries that deviate significantly from their budgets.  \n",
    "   - This threshold-based flag makes it easy to detect potential inefficiencies or red flags that auditors should investigate further.\n",
    "\n",
    "---\n",
    "\n",
    "- These engineered features allow us to move from raw numbers to **actionable insights**.  \n",
    "- They enable comparisons between ministries of different budget sizes on a relative scale (e.g., Utilization Rate instead of just raw variance).  \n",
    "- They create the foundation for **hypothesis testing, trend analysis, clustering** later in the project.  \n",
    "- Ultimately, they help answer our core question:  \n",
    "  *Which ministries consistently manage their budgets effectively, and which ones show recurring inefficiencies or audit risks?*\n"
   ]
  },
  {
   "cell_type": "code",
   "execution_count": 84,
   "metadata": {},
   "outputs": [],
   "source": [
    "df = df.copy()\n",
    "\n",
    "# 1. Utilization Rate (%)\n",
    "df.loc[:, \"Utilization Rate (%)\"] = (df[\"Actual Expenditure\"] / df[\"Approved Budget\"]) * 100\n",
    "\n",
    "# 2. Spending Status\n",
    "# Create a function that categorizes MDA by how they used their budgets.\n",
    "def spending_status(row):\n",
    "    if pd.isna(row[\"Approved Budget\"]) or pd.isna(row[\"Actual Expenditure\"]):\n",
    "        return \"Unknown\"\n",
    "    if np.isclose(row[\"Approved Budget\"], row[\"Actual Expenditure\"], rtol=0.01):  # within 1%\n",
    "        return \"On Budget\"\n",
    "    elif row[\"Actual Expenditure\"] > row[\"Approved Budget\"]:\n",
    "        return \"Overspent\"\n",
    "    else:\n",
    "        return \"Underspent\"\n",
    "# Apply the function row by row\n",
    "df.loc[:, \"Spending Status\"] = df.apply(spending_status, axis=1)\n",
    "\n",
    "# 3. Audit Flag\n",
    "# Flag ministries that deviate significantly from their budgets.\n",
    "# Rule: If |Approved - Actual| > 10% of Approved → mark as 1 (needs audit), else 0\n",
    "df.loc[:, \"Audit Flag\"] = (\n",
    "    ((df[\"Approved Budget\"] - df[\"Actual Expenditure\"]).abs() > (0.10 * df[\"Approved Budget\"]))\n",
    ").astype(int)\n",
    "\n",
    "\n"
   ]
  },
  {
   "cell_type": "code",
   "execution_count": 85,
   "metadata": {},
   "outputs": [
    {
     "data": {
      "text/html": [
       "<div>\n",
       "<style scoped>\n",
       "    .dataframe tbody tr th:only-of-type {\n",
       "        vertical-align: middle;\n",
       "    }\n",
       "\n",
       "    .dataframe tbody tr th {\n",
       "        vertical-align: top;\n",
       "    }\n",
       "\n",
       "    .dataframe thead th {\n",
       "        text-align: right;\n",
       "    }\n",
       "</style>\n",
       "<table border=\"1\" class=\"dataframe\">\n",
       "  <thead>\n",
       "    <tr style=\"text-align: right;\">\n",
       "      <th></th>\n",
       "      <th>MDA_name</th>\n",
       "      <th>Financial Year</th>\n",
       "      <th>Approved Budget</th>\n",
       "      <th>Actual Expenditure</th>\n",
       "      <th>variance</th>\n",
       "      <th>pct_variance</th>\n",
       "      <th>Utilization Rate (%)</th>\n",
       "      <th>Spending Status</th>\n",
       "      <th>Audit Flag</th>\n",
       "    </tr>\n",
       "  </thead>\n",
       "  <tbody>\n",
       "    <tr>\n",
       "      <th>0</th>\n",
       "      <td>AIA</td>\n",
       "      <td>2020/2021</td>\n",
       "      <td>198535694030</td>\n",
       "      <td>155293985890</td>\n",
       "      <td>43241708140</td>\n",
       "      <td>21.780319</td>\n",
       "      <td>78.219681</td>\n",
       "      <td>Underspent</td>\n",
       "      <td>1</td>\n",
       "    </tr>\n",
       "    <tr>\n",
       "      <th>1</th>\n",
       "      <td>ASDSP II</td>\n",
       "      <td>2021/2022</td>\n",
       "      <td>8300000</td>\n",
       "      <td>2563200</td>\n",
       "      <td>5736800</td>\n",
       "      <td>69.118072</td>\n",
       "      <td>30.881928</td>\n",
       "      <td>Underspent</td>\n",
       "      <td>1</td>\n",
       "    </tr>\n",
       "    <tr>\n",
       "      <th>2</th>\n",
       "      <td>Account Payable - Deposits</td>\n",
       "      <td>2020/2021</td>\n",
       "      <td>4529100210</td>\n",
       "      <td>15488034310</td>\n",
       "      <td>-10958934100</td>\n",
       "      <td>-241.967137</td>\n",
       "      <td>341.967137</td>\n",
       "      <td>Overspent</td>\n",
       "      <td>1</td>\n",
       "    </tr>\n",
       "    <tr>\n",
       "      <th>3</th>\n",
       "      <td>Account Payables</td>\n",
       "      <td>2021/2022</td>\n",
       "      <td>1399977930</td>\n",
       "      <td>6107770090</td>\n",
       "      <td>-4707792160</td>\n",
       "      <td>-336.276170</td>\n",
       "      <td>436.276170</td>\n",
       "      <td>Overspent</td>\n",
       "      <td>1</td>\n",
       "    </tr>\n",
       "    <tr>\n",
       "      <th>4</th>\n",
       "      <td>Accounts</td>\n",
       "      <td>2020/2021</td>\n",
       "      <td>158689062850</td>\n",
       "      <td>4643433390</td>\n",
       "      <td>154045629460</td>\n",
       "      <td>97.073879</td>\n",
       "      <td>2.926121</td>\n",
       "      <td>Underspent</td>\n",
       "      <td>1</td>\n",
       "    </tr>\n",
       "    <tr>\n",
       "      <th>...</th>\n",
       "      <td>...</td>\n",
       "      <td>...</td>\n",
       "      <td>...</td>\n",
       "      <td>...</td>\n",
       "      <td>...</td>\n",
       "      <td>...</td>\n",
       "      <td>...</td>\n",
       "      <td>...</td>\n",
       "      <td>...</td>\n",
       "    </tr>\n",
       "    <tr>\n",
       "      <th>276</th>\n",
       "      <td>Water Resource Management</td>\n",
       "      <td>2020/2021</td>\n",
       "      <td>13973412430</td>\n",
       "      <td>3626123000</td>\n",
       "      <td>10347289430</td>\n",
       "      <td>74.049839</td>\n",
       "      <td>25.950161</td>\n",
       "      <td>Underspent</td>\n",
       "      <td>1</td>\n",
       "    </tr>\n",
       "    <tr>\n",
       "      <th>277</th>\n",
       "      <td>Water Resource Management</td>\n",
       "      <td>2021/2022</td>\n",
       "      <td>13973412430</td>\n",
       "      <td>3626123000</td>\n",
       "      <td>10347289430</td>\n",
       "      <td>74.049839</td>\n",
       "      <td>25.950161</td>\n",
       "      <td>Underspent</td>\n",
       "      <td>1</td>\n",
       "    </tr>\n",
       "    <tr>\n",
       "      <th>278</th>\n",
       "      <td>Water Supply</td>\n",
       "      <td>2020/2021</td>\n",
       "      <td>40360</td>\n",
       "      <td>40380</td>\n",
       "      <td>-20</td>\n",
       "      <td>-0.049554</td>\n",
       "      <td>100.049554</td>\n",
       "      <td>On Budget</td>\n",
       "      <td>0</td>\n",
       "    </tr>\n",
       "    <tr>\n",
       "      <th>279</th>\n",
       "      <td>a vi Emergency payments made in</td>\n",
       "      <td>2023/2024</td>\n",
       "      <td>59488100</td>\n",
       "      <td>52000000</td>\n",
       "      <td>7488100</td>\n",
       "      <td>12.587560</td>\n",
       "      <td>87.412440</td>\n",
       "      <td>Underspent</td>\n",
       "      <td>1</td>\n",
       "    </tr>\n",
       "    <tr>\n",
       "      <th>280</th>\n",
       "      <td>bii Registration of Households in</td>\n",
       "      <td>2023/2024</td>\n",
       "      <td>5000000</td>\n",
       "      <td>43000000</td>\n",
       "      <td>-38000000</td>\n",
       "      <td>-760.000000</td>\n",
       "      <td>860.000000</td>\n",
       "      <td>Overspent</td>\n",
       "      <td>1</td>\n",
       "    </tr>\n",
       "  </tbody>\n",
       "</table>\n",
       "<p>276 rows × 9 columns</p>\n",
       "</div>"
      ],
      "text/plain": [
       "                              MDA_name Financial Year  Approved Budget  \\\n",
       "0                                  AIA      2020/2021     198535694030   \n",
       "1                             ASDSP II      2021/2022          8300000   \n",
       "2           Account Payable - Deposits      2020/2021       4529100210   \n",
       "3                     Account Payables      2021/2022       1399977930   \n",
       "4                             Accounts      2020/2021     158689062850   \n",
       "..                                 ...            ...              ...   \n",
       "276          Water Resource Management      2020/2021      13973412430   \n",
       "277          Water Resource Management      2021/2022      13973412430   \n",
       "278                       Water Supply      2020/2021            40360   \n",
       "279    a vi Emergency payments made in      2023/2024         59488100   \n",
       "280  bii Registration of Households in      2023/2024          5000000   \n",
       "\n",
       "     Actual Expenditure      variance  pct_variance  Utilization Rate (%)  \\\n",
       "0          155293985890   43241708140     21.780319             78.219681   \n",
       "1               2563200       5736800     69.118072             30.881928   \n",
       "2           15488034310  -10958934100   -241.967137            341.967137   \n",
       "3            6107770090   -4707792160   -336.276170            436.276170   \n",
       "4            4643433390  154045629460     97.073879              2.926121   \n",
       "..                  ...           ...           ...                   ...   \n",
       "276          3626123000   10347289430     74.049839             25.950161   \n",
       "277          3626123000   10347289430     74.049839             25.950161   \n",
       "278               40380           -20     -0.049554            100.049554   \n",
       "279            52000000       7488100     12.587560             87.412440   \n",
       "280            43000000     -38000000   -760.000000            860.000000   \n",
       "\n",
       "    Spending Status  Audit Flag  \n",
       "0        Underspent           1  \n",
       "1        Underspent           1  \n",
       "2         Overspent           1  \n",
       "3         Overspent           1  \n",
       "4        Underspent           1  \n",
       "..              ...         ...  \n",
       "276      Underspent           1  \n",
       "277      Underspent           1  \n",
       "278       On Budget           0  \n",
       "279      Underspent           1  \n",
       "280       Overspent           1  \n",
       "\n",
       "[276 rows x 9 columns]"
      ]
     },
     "execution_count": 85,
     "metadata": {},
     "output_type": "execute_result"
    }
   ],
   "source": [
    "# # Save Cleaned File\n",
    "# output_path = r\"C:\\Users\\SYDNEY\\Documents\\moringa\\phase5\\Analysis-of-National-Government-Ministries-Departments-and-Agencies-Budget-Data\\Data\\cleaned_financial.csv\"\n",
    "# df.to_csv(output_path, index=False, encoding=\"utf-8\")\n",
    "\n",
    "df\n"
   ]
  },
  {
   "cell_type": "markdown",
   "metadata": {},
   "source": [
    "## Exploratory Data Analysis (EDA) "
   ]
  },
  {
   "cell_type": "code",
   "execution_count": 86,
   "metadata": {},
   "outputs": [
    {
     "data": {
      "image/png": "[encoded data removed]",
      "text/plain": [
       "<Figure size 720x432 with 1 Axes>"
      ]
     },
     "metadata": {},
     "output_type": "display_data"
    }
   ],
   "source": [
    "# i. Spending Status Distribution\n",
    "\n",
    "plt.figure(figsize=(10, 6))\n",
    "spending_counts = df['Spending Status'].value_counts()\n",
    "colors = ['#ff9999', '#66b3ff', '#99ff99']\n",
    "plt.pie(spending_counts.values, labels=spending_counts.index, autopct='%1.1f%%', \n",
    "        colors=colors, startangle=90)\n",
    "plt.title('Distribution of MDAs by Spending Status')\n",
    "plt.axis('equal')\n",
    "plt.tight_layout()\n",
    "plt.show()"
   ]
  },
  {
   "cell_type": "markdown",
   "metadata": {},
   "source": [
    "The majority of government entities are not effectively executing their budgets as planned. The significant underspending (50.4%) suggests potential inefficiencies in budget implementation, delayed projects, or poor financial planning. Overspending (33%) indicates possible budget miscalculations or unexpected expenditures."
   ]
  },
  {
   "cell_type": "code",
   "execution_count": 87,
   "metadata": {},
   "outputs": [
    {
     "data": {
      "text/plain": [
       "<Figure size 864x432 with 0 Axes>"
      ]
     },
     "metadata": {},
     "output_type": "display_data"
    },
    {
     "data": {
      "image/png": "[encoded data removed]",
      "text/plain": [
       "<Figure size 432x288 with 1 Axes>"
      ]
     },
     "metadata": {
      "needs_background": "light"
     },
     "output_type": "display_data"
    }
   ],
   "source": [
    "# ii. Yearly Budget Performance\n",
    "\n",
    "plt.figure(figsize=(12, 6))\n",
    "yearly_stats = df.groupby('Financial Year').agg({\n",
    "    'Approved Budget': 'sum',\n",
    "    'Actual Expenditure': 'sum'\n",
    "})/1e9  # Convert to billions\n",
    "\n",
    "ax = yearly_stats.plot(kind='bar', color=['#1f77b4', \"#ff0e0e\"])\n",
    "plt.title('Yearly Budget Performance (in Billions KES)')\n",
    "plt.xlabel('Financial Year')\n",
    "plt.ylabel('Amount (Billions KES)')\n",
    "plt.xticks(rotation=45)\n",
    "plt.legend(['Approved Budget', 'Actual Expenditure'])\n",
    "plt.tight_layout()\n",
    "\n",
    "# Add value labels on bars\n",
    "\n",
    "for p in ax.patches:\n",
    "    ax.annotate(f'{p.get_height():.0f}B', \n",
    "                (p.get_x() + p.get_width() / 2., p.get_height()), \n",
    "                ha='center', va='center', xytext=(0, 5), \n",
    "                textcoords='offset points', fontsize=8, rotation=30)\n",
    "plt.show()"
   ]
  },
  {
   "cell_type": "markdown",
   "metadata": {},
   "source": [
    "The variance between approved and actual spending across the categories suggests inconsistent financial management practices, where some MDAs (ministries/departments/agencies) overspend while others underspend. This points to the need for more evidence-based budget allocations and capacity building in implementation."
   ]
  },
  {
   "cell_type": "code",
   "execution_count": 88,
   "metadata": {},
   "outputs": [
    {
     "data": {
      "image/png": "[encoded data removed]",
      "text/plain": [
       "<Figure size 720x576 with 2 Axes>"
      ]
     },
     "metadata": {
      "needs_background": "light"
     },
     "output_type": "display_data"
    },
    {
     "name": "stdout",
     "output_type": "stream",
     "text": [
      "KEY INSIGHTS:\n",
      "1. Approved vs Actual Expenditure: 0.78\n",
      "2. Budget size vs % Variance: 0.04\n",
      "3. Utilization vs Actual Expenditure: -0.02\n"
     ]
    }
   ],
   "source": [
    "# iii. Correlation Heatmap\n",
    "\n",
    "plt.figure(figsize=(10, 8))\n",
    "numeric_cols = ['Approved Budget', 'Actual Expenditure', 'variance', 'pct_variance', 'Utilization Rate (%)']\n",
    "correlation_matrix = df[numeric_cols].corr()\n",
    "\n",
    "mask = np.triu(np.ones_like(correlation_matrix, dtype=bool))\n",
    "sns.heatmap(correlation_matrix, annot=True, cmap='coolwarm', center=0, \n",
    "            square=True, mask=mask, fmt='.2f')\n",
    "plt.title('Correlation Matrix of Budget Variables')\n",
    "plt.tight_layout()\n",
    "plt.show()\n",
    "\n",
    "# P# Print key insights\n",
    "print(\"KEY INSIGHTS:\")\n",
    "print(f\"1. Approved vs Actual Expenditure: {correlation_matrix.loc['Approved Budget', 'Actual Expenditure']:.2f}\")\n",
    "print(f\"2. Budget size vs % Variance: {correlation_matrix.loc['Approved Budget', 'pct_variance']:.2f}\")\n",
    "print(f\"3. Utilization vs Actual Expenditure: {correlation_matrix.loc['Utilization Rate (%)', 'Actual Expenditure']:.2f}\")"
   ]
  },
  {
   "cell_type": "markdown",
   "metadata": {},
   "source": [
    "- Approved vs Actual Expenditure: 0.78 (Strong Positive Correlation)\n",
    "\n",
    "  There is a strong alignment between what was approved and what was actually spent.\n",
    "\n",
    "  This suggests that, in general, MDAs are spending in line with their approved budgets, which reflects positively on budget adherence and financial discipline.\n",
    "\n",
    "  However, while correlation is strong, it's still not perfect — further analysis should assess outliers or specific MDAs with large deviations.\n",
    "\n",
    "- Budget Size vs % Variance: 0.04 (Very Weak Positive Correlation)\n",
    "\n",
    "  The size of the budget has almost no relationship with how accurately it is executed.\n",
    "\n",
    "  This implies that both large and small budgets are equally prone to overspending or underspending.\n",
    "\n",
    "  Budget execution issues are not limited to a particular scale of funding, indicating systemic challenges across MDAs.\n",
    "\n",
    "- Utilization vs Actual Expenditure: -0.02 (Negative Correlation)\n",
    "\n",
    "  Surprisingly, there's virtually no correlation between utilization rate and actual expenditure.\n",
    "  This is unexpected, as utilization is typically derived from actual expenditure. A weak negative correlation may suggest a wide variability in approved budgets that distorts the relationship.\n"
   ]
  },
  {
   "cell_type": "code",
   "execution_count": 89,
   "metadata": {},
   "outputs": [
    {
     "data": {
      "image/png": "[encoded data removed]",
      "text/plain": [
       "<Figure size 864x576 with 1 Axes>"
      ]
     },
     "metadata": {
      "needs_background": "light"
     },
     "output_type": "display_data"
    },
    {
     "name": "stdout",
     "output_type": "stream",
     "text": [
      "VARIANCE ANALYSIS SUMMARY (Filtered, Trillions):\n",
      "Total underspending: +1.79T\n",
      "Total overspending: -1.98T\n",
      "Largest underspending: 0.33T\n",
      "Largest overspending: -1.17T\n"
     ]
    }
   ],
   "source": [
    "\n",
    "df_filtered = df[\n",
    "    (df[\"Approved Budget\"] < 5e12) &\n",
    "    (df[\"Actual Expenditure\"] < 5e12)\n",
    "].copy()\n",
    "\n",
    "# ------------------------------\n",
    "# 2. Get top 10 MDAs by absolute variance\n",
    "# ------------------------------\n",
    "top_variances = df_filtered.reindex(\n",
    "    df_filtered['variance'].abs().sort_values(ascending=False).index\n",
    ").head(10)[['MDA_name', 'variance', 'Financial Year']]\n",
    "\n",
    "# Convert variance to trillions\n",
    "top_variances['variance_trillions'] = top_variances['variance'] / 1e12\n",
    "\n",
    "# ------------------------------\n",
    "# 3. Create bar plot\n",
    "# ------------------------------\n",
    "plt.figure(figsize=(12, 8))\n",
    "bars = plt.barh(\n",
    "    range(len(top_variances)),\n",
    "    top_variances['variance_trillions'],\n",
    "    color=['#e74c3c' if x < 0 else '#3498db' for x in top_variances['variance_trillions']]\n",
    ")\n",
    "\n",
    "plt.yticks(range(len(top_variances)), top_variances['MDA_name'], fontsize=10)\n",
    "plt.xlabel('Variance (Trillions KES)', fontsize=12)\n",
    "plt.title('Top 10 MDAs by Budget Variance (Absolute Value)', fontsize=14, pad=20)\n",
    "\n",
    "# Add value labels and year info\n",
    "for i, (value, year) in enumerate(zip(top_variances['variance_trillions'], top_variances['Financial Year'])):\n",
    "    plt.text(value + (0.01 * abs(value)), i,\n",
    "             f'{value:+.2f}T\\n({year})',\n",
    "             va='center', fontsize=9,\n",
    "             color='darkred' if value < 0 else 'darkblue')\n",
    "\n",
    "plt.gca().invert_yaxis()\n",
    "plt.grid(axis='x', alpha=0.3)\n",
    "plt.tight_layout()\n",
    "plt.show()\n",
    "\n",
    "# ------------------------------\n",
    "# 4. Print summary statistics\n",
    "# ------------------------------\n",
    "print(\"VARIANCE ANALYSIS SUMMARY (Filtered, Trillions):\")\n",
    "print(f\"Total underspending: {df_filtered[df_filtered['variance'] > 0]['variance'].sum()/1e12:+.2f}T\")\n",
    "print(f\"Total overspending: {df_filtered[df_filtered['variance'] < 0]['variance'].sum()/1e12:+.2f}T\")\n",
    "print(f\"Largest underspending: {df_filtered['variance'].max()/1e12:.2f}T\")\n",
    "print(f\"Largest overspending: {df_filtered['variance'].min()/1e12:.2f}T\")\n"
   ]
  },
  {
   "cell_type": "markdown",
   "metadata": {},
   "source": [
    "##### From our variance analysis summary:\n",
    "Total underspending: +1.79T\n",
    "- Across all MDAs, ~KSh 1.79 trillion of allocated funds went unused.\n",
    "- Points to inefficiencies in budget absorption (projects not implemented, delayed, or over-allocated).\n",
    "\n",
    "Total overspending: -1.98T\n",
    "- About ~KSh 1.98 trillion overspent beyond approved budgets.\n",
    "- Indicates reliance on supplementary budgets or weak financial discipline.\n",
    "\n",
    "Largest underspending: 0.33T (≈ 330B)\n",
    "- The single biggest unutilized allocation by an MDA.\n",
    "- Likely a flagship ministry/project that stalled.\n",
    "\n",
    "Largest overspending: -1.17T (≈ 1.2T)\n",
    "- A single MDA overspent by almost one-third of Kenya’s entire annual budget.\n",
    "- This is an extreme outlier → a must-flag for audit review.\n",
    "\n",
    "# Policy Implication\n",
    "Kenya has a systemic problem:\n",
    "Almost equal under- and overspending, but both at the trillion-shilling scale.\n",
    "Very few MDAs hit their budget exactly."
   ]
  },
  {
   "cell_type": "code",
   "execution_count": 90,
   "metadata": {},
   "outputs": [
    {
     "name": "stdout",
     "output_type": "stream",
     "text": [
      "Key Statistics:\n",
      "Total MDAs: 276\n",
      "Years covered: 4\n",
      "Average utilization rate: 51979.87%\n",
      "MDAs requiring audit: 190 (68.8%)\n"
     ]
    }
   ],
   "source": [
    "# Key statistics\n",
    "\n",
    "print(\"Key Statistics:\")\n",
    "print(f\"Total MDAs: {len(df)}\")\n",
    "print(f\"Years covered: {df['Financial Year'].nunique()}\")\n",
    "print(f\"Average utilization rate: {df['Utilization Rate (%)'].mean():.2f}%\")\n",
    "print(f\"MDAs requiring audit: {df['Audit Flag'].sum()} ({df['Audit Flag'].mean()*100:.1f}%)\")"
   ]
  },
  {
   "cell_type": "markdown",
   "metadata": {},
   "source": [
    "# Hypothesis Testing\n",
    "# Overspending vs Underspending Distribution\n",
    "\n",
    "Question: Are MDAS more likely to underspend than overspend?\n",
    "Test: Chi-square goodness-of-fit test."
   ]
  },
  {
   "cell_type": "code",
   "execution_count": 91,
   "metadata": {},
   "outputs": [
    {
     "name": "stdout",
     "output_type": "stream",
     "text": [
      "Chi-square Test for Spending Status Distribution (All MDAs)\n",
      "Observed (Overspent, Underspent, On Budget): [91, 139, 46]\n",
      "Expected (equal dist): [92.0, 92.0, 92.0]\n",
      "Chi-square statistic: 47.02173913043478\n",
      "p-value: 6.156857231834227e-11\n",
      "Reject H0: MDAs are not equally distributed across spending categories.\n"
     ]
    }
   ],
   "source": [
    "# Count spending status across all MDAs\n",
    "counts = Counter(df[\"Spending Status\"])\n",
    "\n",
    "#Creates a list of observed frequencies in the order (Overspent, Underspent, On Budget).\n",
    "#If a category doesn’t exist, it defaults to 0.\n",
    "observed = [\n",
    "    counts.get(\"Overspent\", 0),\n",
    "    counts.get(\"Underspent\", 0),\n",
    "    counts.get(\"On Budget\", 0)\n",
    "]\n",
    "# Define expected frequencies assuming equal distribution\n",
    "total = sum(observed)\n",
    "expected = [total/3, total/3, total/3]\n",
    "\n",
    "# Run Chi-square test\n",
    "# Tests whether the observed distribution differs significantly from the expected equal distribution.\n",
    "chi2_stat, p_val = stats.chisquare(f_obs=observed, f_exp=expected)\n",
    "\n",
    "print(\"Chi-square Test for Spending Status Distribution (All MDAs)\")\n",
    "print(\"Observed (Overspent, Underspent, On Budget):\", observed)\n",
    "print(\"Expected (equal dist):\", expected)\n",
    "print(\"Chi-square statistic:\", chi2_stat)\n",
    "print(\"p-value:\", p_val)\n",
    "\n",
    "if p_val < 0.05:\n",
    "    print(\"Reject H0: MDAs are not equally distributed across spending categories.\")\n",
    "else:\n",
    "    print(\"Fail to reject H0: No significant bias detected.\")"
   ]
  },
  {
   "cell_type": "markdown",
   "metadata": {},
   "source": [
    "# Interpretation(Hypothesis Testing)\n",
    "\n",
    "Since p-value ≪ 0.05, we reject H₀.\n",
    "This means the distribution of MDAs across Overspent / Underspent / On Budget is not equal.\n",
    "In other words, there’s a systematic bias:\n",
    "- Most MDAs are underspending (139 vs expected ~92).\n",
    "- Very few MDAs are On Budget (46 vs expected ~92).\n",
    "- Overspent MDAs (91) are close to expected but still part of the imbalance.\n",
    "\n",
    "# Policy / Audit Implication(Hypothesis Testing)\n",
    "The bias toward underspending may indicate:\n",
    "- Delayed fund disbursement,\n",
    "- Poor absorption capacity,\n",
    "- Overestimation during budget approval.\n",
    "\n",
    "The fact that \"on budget\" performance is rare might indicate:\n",
    "- Lack of accurate forecasting\n",
    "- Weak budget execution controls\n",
    "\n",
    "This result supports the need for:\n",
    "- Budget execution reforms\n",
    "- Capacity building\n",
    "- Better monitoring and evaluation\n",
    "\n",
    "This result strengthens our project because it gives statistical evidence (not just descriptive stats) that spending patterns are systematically flawed."
   ]
  },
  {
   "cell_type": "markdown",
   "metadata": {},
   "source": [
    "# Clustering Analysis\n",
    "\n",
    "This section applies K-Means clustering to group Ministries, Departments, and Agencies (MDAs) according to their budget execution behavior.\n",
    "By clustering MDAs based on:\n",
    "\n",
    "- Approved Budget\n",
    "\n",
    "- Utilization Rate (%)\n",
    "\n",
    "- Variance (Approved − Actual)\n",
    "\n",
    "we can identify distinct fiscal behavior patterns such as:\n",
    "\n",
    "- Efficient Executors — MDAs that use most of their allocations effectively.\n",
    "\n",
    "- Chronic Underspenders — entities that persistently underutilize budgets.\n",
    "\n",
    "- Overspending Risks — those that exceed approved limits, posing fiscal risks."
   ]
  },
  {
   "cell_type": "markdown",
   "metadata": {},
   "source": [
    "##  Sanity Checks\n",
    "\n",
    "Before clustering, we confirm that all required variables are present and recompute key metrics for consistency."
   ]
  },
  {
   "cell_type": "code",
   "execution_count": 60,
   "metadata": {},
   "outputs": [
    {
     "name": "stdout",
     "output_type": "stream",
     "text": [
      " All required columns present.\n"
     ]
    }
   ],
   "source": [
    "required = ['MDA_name', 'Financial Year', 'Approved Budget', 'Actual Expenditure',\n",
    "            'variance', 'pct_variance', 'Utilization Rate (%)', 'Spending Status', 'Audit Flag']\n",
    "\n",
    "missing = [c for c in required if c not in df.columns]\n",
    "if missing:\n",
    "    raise KeyError(f\"Missing required columns: {missing}\")\n",
    "else:\n",
    "    print(\" All required columns present.\")\n",
    "\n",
    "df = df.copy()\n",
    "df[\"variance\"] = df[\"Approved Budget\"] - df[\"Actual Expenditure\"]\n",
    "df[\"pct_variance\"] = (df[\"variance\"] / df[\"Approved Budget\"]) * 100\n",
    "df[\"Utilization Rate (%)\"] = (df[\"Actual Expenditure\"] / df[\"Approved Budget\"]) * 100\n",
    "df[\"Audit Flag\"] = (df[\"variance\"].abs() > 0.10 * df[\"Approved Budget\"]).astype(int)"
   ]
  },
  {
   "cell_type": "markdown",
   "metadata": {},
   "source": [
    "All values are cleaned and numeric to ensure stability during clustering."
   ]
  },
  {
   "cell_type": "markdown",
   "metadata": {},
   "source": [
    "## Recompute core features\n",
    "\n",
    "We recompute variance, % variance, and utilization to ensure consistency in this section."
   ]
  },
  {
   "cell_type": "code",
   "execution_count": 61,
   "metadata": {},
   "outputs": [
    {
     "name": "stdout",
     "output_type": "stream",
     "text": [
      "Saved artifacts/df_pre_clustering.csv\n"
     ]
    }
   ],
   "source": [
    "df = df.copy()\n",
    "df[\"Approved Budget\"] = pd.to_numeric(df[\"Approved Budget\"], errors=\"coerce\")\n",
    "df[\"Actual Expenditure\"] = pd.to_numeric(df[\"Actual Expenditure\"], errors=\"coerce\")\n",
    "\n",
    "df[\"variance\"] = df[\"Approved Budget\"] - df[\"Actual Expenditure\"]\n",
    "df[\"pct_variance\"] = (df[\"variance\"] / df[\"Approved Budget\"]) * 100\n",
    "df[\"Utilization Rate (%)\"] = (df[\"Actual Expenditure\"] / df[\"Approved Budget\"]) * 100\n",
    "df[\"Audit Flag\"] = (df[\"variance\"].abs() > 0.10 * df[\"Approved Budget\"]).astype(int)\n",
    "\n",
    "os.makedirs(\"artifacts\", exist_ok=True)\n",
    "df.to_csv(\"artifacts/df_pre_clustering.csv\", index=False)\n",
    "print(\"Saved artifacts/df_pre_clustering.csv\")"
   ]
  },
  {
   "cell_type": "markdown",
   "metadata": {},
   "source": [
    "## Feature Scaling and Optimal Cluster Selection\n",
    "\n",
    "Since budgets vary drastically in magnitude, we standardize numeric features to prevent large-budget MDAs from dominating the model."
   ]
  },
  {
   "cell_type": "code",
   "execution_count": 62,
   "metadata": {},
   "outputs": [
    {
     "data": {
      "image/png": "[encoded data removed]",
      "text/plain": [
       "<Figure size 864x288 with 2 Axes>"
      ]
     },
     "metadata": {
      "needs_background": "light"
     },
     "output_type": "display_data"
    }
   ],
   "source": [
    "from sklearn.preprocessing import StandardScaler\n",
    "from sklearn.cluster import KMeans\n",
    "from sklearn.metrics import silhouette_score\n",
    "\n",
    "features = df[['Approved Budget', 'Utilization Rate (%)', 'variance']].fillna(0)\n",
    "scaler = StandardScaler()\n",
    "X_scaled = scaler.fit_transform(features)\n",
    "\n",
    "# Determine optimal k\n",
    "inertia, sil_scores, K = [], [], range(2, 8)\n",
    "for k in K:\n",
    "    km = KMeans(n_clusters=k, random_state=42, n_init=10)\n",
    "    labels = km.fit_predict(X_scaled)\n",
    "    inertia.append(km.inertia_)\n",
    "    sil_scores.append(silhouette_score(X_scaled, labels))\n",
    "\n",
    "plt.figure(figsize=(12,4))\n",
    "plt.subplot(1,2,1)\n",
    "plt.plot(K, inertia, marker='o')\n",
    "plt.title(\"Elbow Method\"); plt.xlabel(\"k\"); plt.ylabel(\"Inertia\")\n",
    "\n",
    "plt.subplot(1,2,2)\n",
    "plt.plot(K, sil_scores, marker='o', color='orange')\n",
    "plt.title(\"Silhouette Scores\"); plt.xlabel(\"k\"); plt.ylabel(\"Score\")\n",
    "plt.tight_layout(); plt.show()"
   ]
  },
  {
   "cell_type": "markdown",
   "metadata": {},
   "source": [
    "### Observation:\n",
    "- Both plots suggest k = 3 as the optimal number of clusters — balancing compactness and clear separation."
   ]
  },
  {
   "cell_type": "markdown",
   "metadata": {},
   "source": [
    "## Fit Final Model and Profile Clusters\n",
    "\n",
    "We fit K-Means (k=3) and summarize the average profile for each cluster."
   ]
  },
  {
   "cell_type": "code",
   "execution_count": 97,
   "metadata": {},
   "outputs": [
    {
     "data": {
      "text/html": [
       "<div>\n",
       "<style scoped>\n",
       "    .dataframe tbody tr th:only-of-type {\n",
       "        vertical-align: middle;\n",
       "    }\n",
       "\n",
       "    .dataframe tbody tr th {\n",
       "        vertical-align: top;\n",
       "    }\n",
       "\n",
       "    .dataframe thead th {\n",
       "        text-align: right;\n",
       "    }\n",
       "</style>\n",
       "<table border=\"1\" class=\"dataframe\">\n",
       "  <thead>\n",
       "    <tr style=\"text-align: right;\">\n",
       "      <th></th>\n",
       "      <th>Cluster</th>\n",
       "      <th>Count</th>\n",
       "      <th>Avg_Budget</th>\n",
       "      <th>Avg_Utilization</th>\n",
       "      <th>Avg_Variance</th>\n",
       "      <th>Audit_Flag_Rate</th>\n",
       "    </tr>\n",
       "  </thead>\n",
       "  <tbody>\n",
       "    <tr>\n",
       "      <th>0</th>\n",
       "      <td>0</td>\n",
       "      <td>7</td>\n",
       "      <td>5.425743e+11</td>\n",
       "      <td>1.569218e+02</td>\n",
       "      <td>-1.605741e+11</td>\n",
       "      <td>0.571429</td>\n",
       "    </tr>\n",
       "    <tr>\n",
       "      <th>1</th>\n",
       "      <td>1</td>\n",
       "      <td>266</td>\n",
       "      <td>1.678595e+10</td>\n",
       "      <td>8.791530e+03</td>\n",
       "      <td>3.542390e+09</td>\n",
       "      <td>0.687970</td>\n",
       "    </tr>\n",
       "    <tr>\n",
       "      <th>2</th>\n",
       "      <td>2</td>\n",
       "      <td>3</td>\n",
       "      <td>8.175000e+04</td>\n",
       "      <td>4.002266e+06</td>\n",
       "      <td>-4.370562e+09</td>\n",
       "      <td>1.000000</td>\n",
       "    </tr>\n",
       "  </tbody>\n",
       "</table>\n",
       "</div>"
      ],
      "text/plain": [
       "   Cluster  Count    Avg_Budget  Avg_Utilization  Avg_Variance  \\\n",
       "0        0      7  5.425743e+11     1.569218e+02 -1.605741e+11   \n",
       "1        1    266  1.678595e+10     8.791530e+03  3.542390e+09   \n",
       "2        2      3  8.175000e+04     4.002266e+06 -4.370562e+09   \n",
       "\n",
       "   Audit_Flag_Rate  \n",
       "0         0.571429  \n",
       "1         0.687970  \n",
       "2         1.000000  "
      ]
     },
     "execution_count": 63,
     "metadata": {},
     "output_type": "execute_result"
    }
   ],
   "source": [
    "k_final = 3\n",
    "kmeans = KMeans(n_clusters=k_final, random_state=42, n_init=20)\n",
    "df['Cluster'] = kmeans.fit_predict(X_scaled)\n",
    "\n",
    "cluster_summary = df.groupby('Cluster').agg(\n",
    "    Count=('MDA_name', 'count'),\n",
    "    Avg_Budget=('Approved Budget', 'mean'),\n",
    "    Avg_Utilization=('Utilization Rate (%)', 'mean'),\n",
    "    Avg_Variance=('variance', 'mean'),\n",
    "    Audit_Flag_Rate=('Audit Flag', 'mean')\n",
    ").reset_index()\n",
    "cluster_summary"
   ]
  },
  {
   "cell_type": "markdown",
   "metadata": {},
   "source": [
    "### Interpretation:\n",
    "Each row represents an average \"type\" of MDA within that cluster:\n",
    "\n",
    "- Avg_Budget — mean annual allocation\n",
    "\n",
    "- Avg_Utilization — efficiency of fund absorption\n",
    "\n",
    "- Audit_Flag_Rate — proportion of MDAs that significantly deviated (>10%) from budget"
   ]
  },
  {
   "cell_type": "markdown",
   "metadata": {},
   "source": [
    "## Cluster Labelling and Visualization"
   ]
  },
  {
   "cell_type": "markdown",
   "metadata": {},
   "source": [
    "We translate numeric clusters into clear fiscal behavior categories and visualize them."
   ]
  },
  {
   "cell_type": "code",
   "execution_count": 64,
   "metadata": {},
   "outputs": [
    {
     "data": {
      "image/png": "[encoded data removed]",
      "text/plain": [
       "<Figure size 432x288 with 1 Axes>"
      ]
     },
     "metadata": {
      "needs_background": "light"
     },
     "output_type": "display_data"
    }
   ],
   "source": [
    "def cluster_label(row):\n",
    "    if row['Avg_Utilization'] > 95 and abs(row['Avg_Variance']) < 0.05 * row['Avg_Budget']:\n",
    "        return \"Efficient Executors\"\n",
    "    elif row['Avg_Variance'] > 0:\n",
    "        return \"Chronic Underspenders\"\n",
    "    else:\n",
    "        return \"Overspending Risks\"\n",
    "\n",
    "cluster_summary['Category'] = cluster_summary.apply(cluster_label, axis=1)\n",
    "\n",
    "sns.barplot(data=cluster_summary, x='Category', y='Avg_Utilization', palette='coolwarm')\n",
    "plt.title(\"Average Utilization by Cluster Category\")\n",
    "plt.ylabel(\"Utilization Rate (%)\")\n",
    "plt.xlabel(\"Cluster Category\")\n",
    "plt.grid(alpha=0.3)\n",
    "plt.tight_layout()\n",
    "plt.show()"
   ]
  },
  {
   "cell_type": "markdown",
   "metadata": {},
   "source": [
    "| Category                  | Meaning                                             | Implication                          |\n",
    "| ------------------------- | --------------------------------------------------- | ------------------------------------ |\n",
    "| **Efficient Executors**   | Execute their budgets effectively with low variance | Model ministries with best practices |\n",
    "| **Chronic Underspenders** | Persistently fail to utilize allocations            | May face delays or poor planning     |\n",
    "| **Overspending Risks**    | Spend beyond approved allocations                   | Require tighter financial controls   |\n"
   ]
  },
  {
   "cell_type": "markdown",
   "metadata": {},
   "source": [
    "### Interpretation:\n",
    "\n",
    "- Efficient Executors: High utilization, minimal variance. Model MDAs for fiscal discipline.\n",
    "\n",
    "- Chronic Underspenders: Consistent underuse of funds. Possible planning or disbursement delays.\n",
    "\n",
    "- Overspending Risks: Exceed budgets. High audit concern."
   ]
  },
  {
   "cell_type": "markdown",
   "metadata": {},
   "source": [
    "## Principal Component Analysis & Cluster Trend Visualization\n",
    "\n",
    "To visualize separation between groups and observe changes across years:"
   ]
  },
  {
   "cell_type": "code",
   "execution_count": 65,
   "metadata": {},
   "outputs": [
    {
     "data": {
      "image/png": "[encoded data removed]",
      "text/plain": [
       "<Figure size 432x288 with 1 Axes>"
      ]
     },
     "metadata": {
      "needs_background": "light"
     },
     "output_type": "display_data"
    },
    {
     "data": {
      "image/png": "[encoded data removed]",
      "text/plain": [
       "<Figure size 432x288 with 1 Axes>"
      ]
     },
     "metadata": {
      "needs_background": "light"
     },
     "output_type": "display_data"
    }
   ],
   "source": [
    "from sklearn.decomposition import PCA\n",
    "\n",
    "pca = PCA(n_components=2, random_state=42)\n",
    "X_pca = pca.fit_transform(X_scaled)\n",
    "df['_PCA1'], df['_PCA2'] = X_pca[:,0], X_pca[:,1]\n",
    "\n",
    "sns.scatterplot(data=df, x='_PCA1', y='_PCA2', hue='Cluster', palette='tab10', alpha=0.8)\n",
    "plt.title(\"PCA Projection — Cluster Separation\")\n",
    "plt.show()\n",
    "\n",
    "sns.countplot(data=df, x='Financial Year', hue='Cluster', palette='tab10')\n",
    "plt.title(\"Cluster Composition Across Years\")\n",
    "plt.show()"
   ]
  },
  {
   "cell_type": "markdown",
   "metadata": {},
   "source": [
    "### Insight:\n",
    "Efficient clusters grew gradually, while overspending clusters declined post - 2022 indicating stronger fiscal oversight in recent years."
   ]
  },
  {
   "cell_type": "markdown",
   "metadata": {},
   "source": [
    "## Export results\n",
    "\n",
    "We save cluster assignments for reference and downstream use."
   ]
  },
  {
   "cell_type": "code",
   "execution_count": 66,
   "metadata": {},
   "outputs": [
    {
     "name": "stdout",
     "output_type": "stream",
     "text": [
      "Saved artifacts/clustering_results.csv\n"
     ]
    }
   ],
   "source": [
    "out = df[['MDA_name','Financial Year','Approved Budget','Actual Expenditure',\n",
    "          'Utilization Rate (%)','variance','pct_variance','Audit Flag','Cluster']]\n",
    "\n",
    "out.to_csv(\"artifacts/clustering_results.csv\", index=False)\n",
    "print(\"Saved artifacts/clustering_results.csv\")"
   ]
  },
  {
   "cell_type": "markdown",
   "metadata": {},
   "source": [
    "## Cluster interpretation\n",
    "\n",
    "- **Cluster 0:** Efficient spenders — high utilization, low variance.  \n",
    "- **Cluster 1:** Underspenders — low utilization, large positive variance.  \n",
    "- **Cluster 2:** Overspenders — negative variance (spent more than allocated).  \n",
    "\n",
    "Next steps:\n",
    "- Prioritize audits for high-budget MDAs in risky clusters.\n",
    "- Use cluster membership in dashboards to flag anomalies."
   ]
  },
  {
   "cell_type": "markdown",
   "metadata": {},
   "source": [
    "# Trend Analysis of MDAs\n",
    "\n",
    "In this section, we analyze **budget allocation and expenditure trends** across MDAs over multiple financial years.  \n",
    "\n",
    "The goal is to identify spending patterns, growth, and anomalies in public sector budgeting."
   ]
  },
  {
   "cell_type": "markdown",
   "metadata": {},
   "source": [
    "## Aggregate and Visualize Trends\n",
    "\n",
    "We calculate yearly totals for:\n",
    "- **Approved Budget**\n",
    "- **Actual Expenditure**\n",
    "- **variance**\n",
    "\n",
    "This allows us to visualize trends across financial years.\n"
   ]
  },
  {
   "cell_type": "code",
   "execution_count": 101,
   "metadata": {},
   "outputs": [
    {
     "data": {
      "text/html": [
       "<div>\n",
       "<style scoped>\n",
       "    .dataframe tbody tr th:only-of-type {\n",
       "        vertical-align: middle;\n",
       "    }\n",
       "\n",
       "    .dataframe tbody tr th {\n",
       "        vertical-align: top;\n",
       "    }\n",
       "\n",
       "    .dataframe thead th {\n",
       "        text-align: right;\n",
       "    }\n",
       "</style>\n",
       "<table border=\"1\" class=\"dataframe\">\n",
       "  <thead>\n",
       "    <tr style=\"text-align: right;\">\n",
       "      <th></th>\n",
       "      <th>Financial Year</th>\n",
       "      <th>Cluster</th>\n",
       "      <th>Approved Budget</th>\n",
       "      <th>Actual Expenditure</th>\n",
       "      <th>variance</th>\n",
       "      <th>Utilization Rate (%)</th>\n",
       "    </tr>\n",
       "  </thead>\n",
       "  <tbody>\n",
       "    <tr>\n",
       "      <th>0</th>\n",
       "      <td>2020/2021</td>\n",
       "      <td>0</td>\n",
       "      <td>1469945370730</td>\n",
       "      <td>2253663040600</td>\n",
       "      <td>-783717669870</td>\n",
       "      <td>1.533161e+02</td>\n",
       "    </tr>\n",
       "    <tr>\n",
       "      <th>1</th>\n",
       "      <td>2020/2021</td>\n",
       "      <td>1</td>\n",
       "      <td>1587463796760</td>\n",
       "      <td>1237355180830</td>\n",
       "      <td>350108615930</td>\n",
       "      <td>7.794541e+01</td>\n",
       "    </tr>\n",
       "    <tr>\n",
       "      <th>2</th>\n",
       "      <td>2020/2021</td>\n",
       "      <td>2</td>\n",
       "      <td>242520</td>\n",
       "      <td>13021783890</td>\n",
       "      <td>-13021541370</td>\n",
       "      <td>5.369365e+06</td>\n",
       "    </tr>\n",
       "    <tr>\n",
       "      <th>3</th>\n",
       "      <td>2021/2022</td>\n",
       "      <td>0</td>\n",
       "      <td>1033291464800</td>\n",
       "      <td>1011210524960</td>\n",
       "      <td>22080939840</td>\n",
       "      <td>9.786305e+01</td>\n",
       "    </tr>\n",
       "    <tr>\n",
       "      <th>4</th>\n",
       "      <td>2021/2022</td>\n",
       "      <td>1</td>\n",
       "      <td>937105272170</td>\n",
       "      <td>862916182460</td>\n",
       "      <td>74189089710</td>\n",
       "      <td>9.208316e+01</td>\n",
       "    </tr>\n",
       "  </tbody>\n",
       "</table>\n",
       "</div>"
      ],
      "text/plain": [
       "  Financial Year  Cluster  Approved Budget  Actual Expenditure      variance  \\\n",
       "0      2020/2021        0    1469945370730       2253663040600 -783717669870   \n",
       "1      2020/2021        1    1587463796760       1237355180830  350108615930   \n",
       "2      2020/2021        2           242520         13021783890  -13021541370   \n",
       "3      2021/2022        0    1033291464800       1011210524960   22080939840   \n",
       "4      2021/2022        1     937105272170        862916182460   74189089710   \n",
       "\n",
       "   Utilization Rate (%)  \n",
       "0          1.533161e+02  \n",
       "1          7.794541e+01  \n",
       "2          5.369365e+06  \n",
       "3          9.786305e+01  \n",
       "4          9.208316e+01  "
      ]
     },
     "execution_count": 101,
     "metadata": {},
     "output_type": "display_data"
    }
   ],
   "source": [
    "# Combine aggregation and utilization computation in one clean cell\n",
    "yearly_trends = (\n",
    "    df.groupby(['Financial Year', 'Cluster'])\n",
    "      .agg({\n",
    "          'Approved Budget': 'sum',\n",
    "          'Actual Expenditure': 'sum',\n",
    "          'variance': 'sum'\n",
    "      })\n",
    "      .reset_index()\n",
    ")\n",
    "\n",
    "yearly_trends['Utilization Rate (%)'] = (\n",
    "    yearly_trends['Actual Expenditure'] / yearly_trends['Approved Budget']\n",
    ") * 100\n",
    "\n",
    "# Preview the resulting dataframe\n",
    "display(yearly_trends.head())"
   ]
  },
  {
   "cell_type": "markdown",
   "metadata": {},
   "source": [
    "### Budget Utilization Trends per Cluster"
   ]
  },
  {
   "cell_type": "code",
   "execution_count": 102,
   "metadata": {},
   "outputs": [
    {
     "data": {
      "image/png": "[encoded data removed]",
      "text/plain": [
       "<Figure size 432x288 with 1 Axes>"
      ]
     },
     "metadata": {
      "needs_background": "light"
     },
     "output_type": "display_data"
    }
   ],
   "source": [
    "sns.lineplot(data=yearly_trends, x='Financial Year', y='Utilization Rate (%)',\n",
    "             hue='Cluster', marker='o', palette='tab10')\n",
    "plt.title(\"Budget Utilization Trends per Cluster (2020/21–2023/24)\")\n",
    "plt.ylabel(\"Utilization Rate (%)\")\n",
    "plt.grid(alpha=0.3)\n",
    "plt.show()"
   ]
  },
  {
   "cell_type": "markdown",
   "metadata": {},
   "source": [
    "### Variance Patterns Over Time"
   ]
  },
  {
   "cell_type": "code",
   "execution_count": 103,
   "metadata": {},
   "outputs": [
    {
     "data": {
      "image/png": "[encoded data removed]",
      "text/plain": [
       "<Figure size 432x288 with 1 Axes>"
      ]
     },
     "metadata": {
      "needs_background": "light"
     },
     "output_type": "display_data"
    }
   ],
   "source": [
    "sns.barplot(data=yearly_trends, x='Financial Year', y='variance',\n",
    "            hue='Cluster', palette='coolwarm')\n",
    "plt.title(\"Variance Trends Across Clusters\")\n",
    "plt.ylabel(\"Variance (KES)\")\n",
    "plt.tight_layout()\n",
    "plt.show()"
   ]
  },
  {
   "cell_type": "markdown",
   "metadata": {},
   "source": [
    "### Interpretation:\n",
    "\n",
    "- Overall utilization improved post-2021, with fewer large underspending gaps.\n",
    "\n",
    "- Variance spikes in early years signal inefficiencies and weak controls.\n",
    "\n",
    "- The steadying trend in recent years suggests gradual fiscal discipline."
   ]
  },
  {
   "cell_type": "markdown",
   "metadata": {},
   "source": [
    "## Plot budget vs expenditure over time\n",
    "\n",
    "We compare how **Approved Budgets** and **Actual Expenditures** evolve across years.  \n",
    "This shows whether expenditures keep pace with allocations.\n"
   ]
  },
  {
   "cell_type": "code",
   "execution_count": null,
   "metadata": {},
   "outputs": [],
   "source": [
    "plt.figure(figsize=(10,6))\n",
    "sns.lineplot(data=yearly_trends, x=\"Financial Year\", y=\"Approved Budget\", marker=\"o\", label=\"Approved Budget\")\n",
    "sns.lineplot(data=yearly_trends, x=\"Financial Year\", y=\"Actual Expenditure\", marker=\"o\", label=\"Actual Expenditure\")\n",
    "\n",
    "plt.title(\"Approved Budget vs Actual Expenditure Over Time\")\n",
    "plt.ylabel(\"Amount\")\n",
    "plt.xlabel(\"Financial Year\")\n",
    "plt.legend()\n",
    "plt.show()"
   ]
  },
  {
   "cell_type": "markdown",
   "metadata": {},
   "source": [
    "## Variance trends\n",
    "\n",
    "We analyze how the **variance** (difference between approved budget and expenditure)  \n",
    "has evolved across financial years."
   ]
  },
  {
   "cell_type": "code",
   "execution_count": null,
   "metadata": {},
   "outputs": [],
   "source": [
    "plt.figure(figsize=(10,6))\n",
    "sns.barplot(data=yearly_trends, x=\"Financial Year\", y=\"variance\", palette=\"coolwarm\")\n",
    "\n",
    "plt.title(\"Variance in Budgets Over Time\")\n",
    "plt.ylabel(\"Variance\")\n",
    "plt.xlabel(\"Financial Year\")\n",
    "plt.show()"
   ]
  },
  {
   "cell_type": "markdown",
   "metadata": {},
   "source": [
    "## Insights from Trend Analysis\n",
    "\n",
    "- **Budget Growth:** Approved budgets have generally increased across years.  \n",
    "- **Expenditure Gaps:** In some years, expenditures lag behind allocations, creating under-utilization.  \n",
    "- **Variance Trends:** Variance spikes in certain years suggest inefficiencies or unspent funds.  \n",
    "\n",
    "These findings can guide fiscal policy and highlight years where budget execution needs scrutiny."
   ]
  },
  {
   "cell_type": "markdown",
   "metadata": {},
   "source": [
    "## Natural Language Processing"
   ]
  },
  {
   "cell_type": "markdown",
   "metadata": {},
   "source": [
    "#### Why NLP?? \n",
    "We are using NLP because the Auditor General’s reports and budget documents are mostly in unstructured text and tables, making it difficult to analyze with traditional methods. NLP allows us to clean, tokenize, and extract key entities like ministries, years, and budget amounts directly from the text. By applying NLP, we can normalize naming inconsistencies, link narrative descriptions with financial figures, and ensure accurate search and retrieval. Ultimately, NLP transforms raw reports into structured, analyzable data that supports comparisons, anomaly detection, and budget performance insights."
   ]
  },
  {
   "cell_type": "markdown",
   "metadata": {},
   "source": [
    "### Step 0–2: Setup and Load Data\n",
    "We import libraries, set up NLTK, and load the CSV file.  \n",
    "We also remove headers, footers, and table-of-contents noise from the raw text.\n"
   ]
  },
  {
   "cell_type": "code",
   "execution_count": 104,
   "metadata": {},
   "outputs": [],
   "source": [
    "# ---------------------------\n",
    "# 0. Setup\n",
    "# ---------------------------\n",
    "nltk.download(\"punkt\")\n",
    "nltk.download(\"stopwords\")\n",
    "nltk.download(\"wordnet\")\n",
    "try:\n",
    "    nltk.data.find(\"tokenizers/punkt\")\n",
    "except LookupError:\n",
    "    nltk.download(\"punkt\")\n",
    "try:\n",
    "    nltk.data.find(\"corpora/stopwords\")\n",
    "except LookupError:\n",
    "    nltk.download(\"stopwords\")\n",
    "try:\n",
    "    nltk.data.find(\"corpora/wordnet\")\n",
    "except LookupError:\n",
    "    nltk.download(\"wordnet\")\n",
    "\n",
    "stop_words = set(stopwords.words(\"english\"))\n",
    "lemmatizer = WordNetLemmatizer()\n",
    "\n",
    "# ---------------------------\n",
    "# 1. Load Data\n",
    "# ---------------------------\n",
    "csv_path = r\"Data\\NLP_FullPages_All_Years.csv\"\n",
    "df = pd.read_csv(csv_path)\n",
    "\n",
    "# ---------------------------\n",
    "# 2. Remove headers, footers & table of contents\n",
    "# ---------------------------\n",
    "def remove_headers_footers(text):\n",
    "    if pd.isna(text):\n",
    "        return \"\"\n",
    "    # Remove lines like \"OFFICE OF THE AUDITOR-GENERAL – PAGE X\"\n",
    "    text = re.sub(r'office of the auditor[- ]general.*page \\d+', '', text, flags=re.IGNORECASE)\n",
    "    # Remove table of contents style lines (very short lines with dots or only numbers)\n",
    "    text = re.sub(r'^\\s*chapter\\s+\\d+.*$', '', text, flags=re.IGNORECASE | re.MULTILINE)\n",
    "    text = re.sub(r'^\\s*[0-9]+\\s*\\.*\\s*$', '', text, flags=re.MULTILINE)\n",
    "    text = re.sub(r'\\n+', '\\n', text)  # collapse multiple newlines\n",
    "    return text\n",
    "\n",
    "df[\"Full_Page_Text\"] = df[\"Full_Page_Text\"].apply(remove_headers_footers)"
   ]
  },
  {
   "cell_type": "markdown",
   "metadata": {},
   "source": [
    "### Step 3–4: Clean Text and Standardize Ministry Names\n",
    "lowercase, remove noise, and normalize spacing in text.  \n",
    "We also mapped ministry names to consistent standard forms for analysis.\n"
   ]
  },
  {
   "cell_type": "code",
   "execution_count": 105,
   "metadata": {},
   "outputs": [],
   "source": [
    "# ---------------------------\n",
    "# 3. Basic Text Cleaning\n",
    "# ---------------------------\n",
    "def clean_text_basic(text):\n",
    "    if pd.isna(text):\n",
    "        return \"\"\n",
    "    text = text.lower()\n",
    "    text = re.sub(r\"\\s+\", \" \", text)  # collapse spaces\n",
    "    text = re.sub(r\"[^a-z0-9\\s\\.,:/-]\", \" \", text)  # keep alphanum + punctuation\n",
    "    return text.strip()\n",
    "\n",
    "df[\"Clean_Text\"] = df[\"Full_Page_Text\"].apply(clean_text_basic)\n",
    "\n",
    "# ---------------------------\n",
    "# 4. Standardize Ministry Names\n",
    "# ---------------------------\n",
    "def normalize_ministry(name):\n",
    "    if pd.isna(name):\n",
    "        return \"Unknown\"\n",
    "    name = name.lower().strip()\n",
    "    replacements = {\n",
    "        \"min. of health\": \"ministry of health\",\n",
    "        \"health ministry\": \"ministry of health\",\n",
    "        \"state dept\": \"state department\",\n",
    "        \"treasury\": \"national treasury\",\n",
    "    }\n",
    "    for k, v in replacements.items():\n",
    "        if k in name:\n",
    "            return v.title()\n",
    "    return name.title()\n",
    "\n",
    "df[\"Ministry_Clean\"] = df[\"Ministry\"].apply(normalize_ministry)\n"
   ]
  },
  {
   "cell_type": "markdown",
   "metadata": {},
   "source": [
    "### Step 5–6: Extract and Map Entities\n",
    "We used regex to extract ministries, agencies, commissions, etc. from text.\n",
    "Entities are then mapped to standardized names for consistency.\n"
   ]
  },
  {
   "cell_type": "code",
   "execution_count": 106,
   "metadata": {},
   "outputs": [],
   "source": [
    "# ---------------------------\n",
    "# 1) entity extractor\n",
    "# - Many raw text blocks contain ministry/department names mixed with noise (\"entered into...\", etc).\n",
    "# - We strip trailing clauses like \"entered into a lease with\" so entities stay clean and short.\n",
    "# - Regex patterns detect headings like \"Ministry of ...\" or \"State Department for ...\".\n",
    "# - We skip irrelevant matches (table of contents, report headers, short noise).\n",
    "# ---------------------------\n",
    "TRAILING_CUT_PHRASES = [\n",
    "    \"entered into\", \"entered\", \"entered into a lease\", \"entered into a lease with\",\n",
    "    \"in partnership with\", \"in partnership\", \"contract with\", \"agreement between\",\n",
    "    \"between\", \"signed\", \"for the\", \"under\", \"in respect of\", \"in relation to\",\n",
    "    \"regarding\", \"entered into an agreement with\", \"in collaboration with\"\n",
    "]\n",
    "\n",
    "HEADING_KEYWORDS = [\n",
    "    \"Ministry\", \"State Department\", \"Department\", \"Office\", \"Commission\",\n",
    "    \"Authority\", \"Board\", \"Agency\", \"University\", \"Corporation\", \"Council\",\n",
    "    \"Service\", \"Fund\"\n",
    "]\n",
    "\n",
    "def _strip_trailing_clause(name):\n",
    "    low = name.lower()\n",
    "    for phrase in TRAILING_CUT_PHRASES:\n",
    "        if phrase in low:\n",
    "            return name.lower().split(phrase, 1)[0].strip().title()\n",
    "    return name.strip().title()\n",
    "\n",
    "def extract_entities(text):\n",
    "    \"\"\"\n",
    "    Extract candidate entities from a text blob.\n",
    "    Returns a list of cleaned entity strings (or ['Unknown'] if none).\n",
    "    \"\"\"\n",
    "    if pd.isna(text) or not str(text).strip():\n",
    "        return [\"Unknown\"]\n",
    "    t = re.sub(r'\\s+', ' ', str(text)).strip()  # collapse newlines/spaces\n",
    "\n",
    "    #  Look for explicit headings starting with common words like \"Ministry\" ,\"State Department\" etc\n",
    "    patterns = [\n",
    "        r'\\b(Ministry\\s+Of\\s+[A-Za-z&\\-\\(\\)\\s]{2,80}?)(?=(?:,|\\.|\\n|$|\\s(?:entered|between|with|for|in|to)))',\n",
    "        r'\\b(State\\s+Department\\s+For\\s+[A-Za-z&\\-\\(\\)\\s]{2,80}?)(?=(?:,|\\.|\\n|$|\\s(?:entered|between|with|for|in|to)))',\n",
    "        r'\\b([A-Z][A-Za-z&\\-\\s]{2,60}?(?:Authority|Commission|Board|Agency|University|Corporation|Council|Service|Fund))(?=(?:,|\\.|\\n|$))'\n",
    "    ]\n",
    "\n",
    "    entities = []\n",
    "    for pat in patterns:\n",
    "        for m in re.findall(pat, t, flags=re.IGNORECASE):\n",
    "            clean = _strip_trailing_clause(m)\n",
    "            # skip obvious noise lines\n",
    "            if len(clean.split()) < 2:\n",
    "                continue\n",
    "            if \"table of contents\" in clean.lower() or \"report of the auditor\" in clean.lower():\n",
    "                continue\n",
    "            if clean not in entities:\n",
    "                entities.append(clean)\n",
    "\n",
    "    # detect lines that start with a heading-like phrase \n",
    "    if not entities:\n",
    "        # try line-based heuristics: any line that starts with a heading keyword\n",
    "        for line in str(text).splitlines():\n",
    "            line = line.strip()\n",
    "            for kw in HEADING_KEYWORDS:\n",
    "                if line.lower().startswith(kw.lower()):\n",
    "                    candidate = re.sub(r'\\s+', ' ', line)\n",
    "                    candidate = _strip_trailing_clause(candidate)\n",
    "                    if candidate not in entities:\n",
    "                        entities.append(candidate)\n",
    "                    break\n",
    "\n",
    "    return entities if entities else [\"Unknown\"]"
   ]
  },
  {
   "cell_type": "markdown",
   "metadata": {},
   "source": [
    "### Step 6-7 Mapping to canonical names\n",
    "- Entities often appear under slightly different names (\"moh\", \"ministry of health\", \"health ministry\").\n",
    "- We define a dictionary of known variations mapped to one canonical form."
   ]
  },
  {
   "cell_type": "code",
   "execution_count": 107,
   "metadata": {},
   "outputs": [],
   "source": [
    "\n",
    "# Fuzzy matching catches near matches when exact mapping fails.\n",
    "# This ensures consistent grouping across years and documents.\n",
    "\n",
    "entity_mapping = {\n",
    "    # Ministries (lowered keys)\n",
    "    \"moh\": \"Ministry Of Health\",\n",
    "    \"ministry of health\": \"Ministry Of Health\",\n",
    "    \"health ministry\": \"Ministry Of Health\",\n",
    "\n",
    "    \"moe\": \"Ministry Of Education\",\n",
    "    \"ministry of education\": \"Ministry Of Education\",\n",
    "\n",
    "    \"mod\": \"Ministry Of Defence\",\n",
    "    \"ministry of defence\": \"Ministry Of Defence\",\n",
    "\n",
    "    \"ministry of interior\": \"Ministry Of Interior And National Administration\",\n",
    "    \"interior ministry\": \"Ministry Of Interior And National Administration\",\n",
    "    \"moia\": \"Ministry Of Interior And National Administration\",\n",
    "\n",
    "    \"moa\": \"Ministry Of Agriculture And Livestock Development\",\n",
    "    \"ministry of agriculture\": \"Ministry Of Agriculture And Livestock Development\",\n",
    "\n",
    "    \"ministry of transport\": \"Ministry Of Roads And Transport\",\n",
    "    \"transport ministry\": \"Ministry Of Roads And Transport\",\n",
    "\n",
    "    \"ministry of energy\": \"Ministry Of Energy\",\n",
    "    \"energy ministry\": \"Ministry Of Energy\",\n",
    "\n",
    "    \"moict\": \"Ministry Of Information, Communications And The Digital Economy\",\n",
    "    \"ministry of ict\": \"Ministry Of Information, Communications And The Digital Economy\",\n",
    "    \"ict ministry\": \"Ministry Of Information, Communications And The Digital Economy\",\n",
    "\n",
    "    \"treasury\": \"National Treasury And Planning\",\n",
    "    \"national treasury\": \"National Treasury And Planning\",\n",
    "\n",
    "    \"ministry of mining\": \"Ministry Of Mining, Blue Economy And Maritime Affairs\",\n",
    "    \"mining ministry\": \"Ministry Of Mining, Blue Economy And Maritime Affairs\",\n",
    "    \"mom\": \"Ministry Of Mining, Blue Economy And Maritime Affairs\",\n",
    "    \"ministry of mining and blue economy\": \"Ministry Of Mining, Blue Economy And Maritime Affairs\",\n",
    "    \"ministry of mining blue economy and maritime affairs\": \"Ministry Of Mining, Blue Economy And Maritime Affairs\",\n",
    "\n",
    "    \"ministry of foreign affairs\": \"Ministry Of Foreign And Diaspora Affairs\",\n",
    "    \"foreign affairs\": \"Ministry Of Foreign And Diaspora Affairs\",\n",
    "\n",
    "    \"ministry of environment\": \"Ministry Of Environment, Climate Change And Forestry\",\n",
    "    \"environment ministry\": \"Ministry Of Environment, Climate Change And Forestry\",\n",
    "\n",
    "    \"ministry of water\": \"Ministry Of Water, Sanitation And Irrigation\",\n",
    "    \"water ministry\": \"Ministry Of Water, Sanitation And Irrigation\",\n",
    "    \"ministry of water and sanitation\": \"Ministry Of Water, Sanitation And Irrigation\",\n",
    "\n",
    "    \"ministry of lands\": \"Ministry Of Lands, Public Works, Housing And Urban Development\",\n",
    "    \"lands ministry\": \"Ministry Of Lands, Public Works, Housing And Urban Development\",\n",
    "\n",
    "    \"ministry of labour\": \"Ministry Of Labour And Social Protection\",\n",
    "    \"labour ministry\": \"Ministry Of Labour And Social Protection\",\n",
    "\n",
    "    \"ministry of tourism\": \"Ministry Of Tourism And Wildlife\",\n",
    "    \"tourism ministry\": \"Ministry Of Tourism And Wildlife\",\n",
    "\n",
    "    \"ministry of sports\": \"Ministry Of Youth Affairs, The Arts And Sports\",\n",
    "    \"sports ministry\": \"Ministry Of Youth Affairs, The Arts And Sports\",\n",
    "\n",
    "    \"ministry of public service\": \"Ministry Of Public Service, Gender And Affirmative Action\",\n",
    "    \"public service ministry\": \"Ministry Of Public Service, Gender And Affirmative Action\",\n",
    "\n",
    "    \n",
    "    #State Departments\n",
    "    \"state department for planning\": \"State Department For Planning\",\n",
    "    \"state department for livestock\": \"State Department For Livestock\",\n",
    "    \"state department for interior\": \"State Department For Interior And Citizen Services\",\n",
    "    \"state department for correctional services\": \"State Department For Correctional Services\",\n",
    "    \"state department for devolution\": \"State Department For Devolution\",\n",
    "    \"state department for arid\": \"State Department For Development Of The Arid And Semi-Arid Lands\",\n",
    "\n",
    "\n",
    "    # Authorities & others\n",
    "    \"knbs\": \"Kenya National Bureau Of Statistics\",\n",
    "    \"kenya national bureau of statistics\": \"Kenya National Bureau Of Statistics\",\n",
    "    \"nea\": \"National Environment Authority\",\n",
    "    \"ndma\": \"National Drought Management Authority\",\n",
    "    \"nssf\": \"National Social Security Fund\",\n",
    "    \"kra\": \"Kenya Revenue Authority\",\n",
    "    \"kenya revenue authority\": \"Kenya Revenue Authority\",\n",
    "    \"kura\": \"Kenya Urban Roads Authority\",\n",
    "    \"kenha\": \"Kenya National Highways Authority\",\n",
    "    \"kerra\": \"Kenya Rural Roads Authority\",\n",
    "    \"ntsa\": \"National Transport And Safety Authority\",\n",
    "    \"nema\": \"National Environment Management Authority\",\n",
    "    \"kefri\": \"Kenya Forestry Research Institute\",\n",
    "    \"kcaa\": \"Kenya Civil Aviation Authority\",\n",
    "    \"cak\": \"Communications Authority Of Kenya\",\n",
    "    \"epra\": \"Energy And Petroleum Regulatory Authority\",\n",
    "    \"kemri\": \"Kenya Medical Research Institute\",\n",
    "    \"kpa\": \"Kenya Ports Authority\",\n",
    "    \"kaa\": \"Kenya Airports Authority\",\n",
    "    \"kephis\": \"Kenya Plant Health Inspectorate Service\",\n",
    "\n",
    "    #state departments\n",
    "    \"state department for crop development\": \"State Department For Crop Development\",\n",
    "    \"state department for cooperatives\": \"State Department For Cooperatives\",\n",
    "    \"state department for blue economy and fisheries\": \"State Department For Blue Economy And Fisheries\",\n",
    "\n",
    "\n",
    "    # Corporations\n",
    "    \"kplc\": \"Kenya Power And Lighting Company\",\n",
    "    \"kenya power\": \"Kenya Power And Lighting Company\",\n",
    "    \"kengen\": \"Kenya Electricity Generating Company\",\n",
    "    \"kpc\": \"Kenya Pipeline Company\",\n",
    "\n",
    "    # Commissions\n",
    "    \"src\": \"Salaries And Remuneration Commission\",\n",
    "    \"psc\": \"Public Service Commission\",\n",
    "    \"iebc\": \"Independent Electoral And Boundaries Commission\",\n",
    "    \"cra\": \"Commission On Revenue Allocation\",\n",
    "    \"eacc\": \"Ethics And Anti-Corruption Commission\",\n",
    "    \"ncic\": \"National Cohesion And Integration Commission\",\n",
    "    \"tsc\": \"Teachers Service Commission\",\n",
    "    \"jsc\": \"Judicial Service Commission\",\n",
    "\n",
    "    # Universities\n",
    "    \"uon\": \"University Of Nairobi\",\n",
    "    \"university of nairobi\": \"University Of Nairobi\",\n",
    "    \"ku\": \"Kenyatta University\",\n",
    "    \"kenyatta university\": \"Kenyatta University\",\n",
    "    \"jkuat\": \"Jomo Kenyatta University Of Agriculture And Technology\",\n",
    "    \"jomo kenyatta university of agriculture and technology\": \"Jomo Kenyatta University Of Agriculture And Technology\",\n",
    "    \"egerton university\": \"Egerton University\",\n",
    "    \"maseno university\": \"Maseno University\",\n",
    "    \"moi university\": \"Moi University\",\n",
    "\n",
    "}\n",
    "\n",
    "# prepare lower-keys list for fast matching\n",
    "ENTITY_KEYS = list(entity_mapping.keys())\n",
    "\n",
    "\n",
    "def map_entity_to_canonical(name, accept_score=85):\n",
    "    \"\"\"\n",
    "    Map a candidate entity string to a canonical name if possible.\n",
    "    Attempts exact match (lower), then fuzzy match against mapping keys.\n",
    "    If no good mapping found, returns cleaned title-case name.\n",
    "    \"\"\"\n",
    "    if not name or name.strip().lower() == \"unknown\":\n",
    "        return \"Unknown\"\n",
    "\n",
    "    name_lower = name.strip().lower()\n",
    "\n",
    "    if name_lower in entity_mapping:\n",
    "        return entity_mapping[name_lower]\n",
    "\n",
    "    # fuzzy match against mapping keys\n",
    "    best = process.extractOne(name_lower, ENTITY_KEYS, scorer=fuzz.WRatio)\n",
    "    if best and best[1] >= accept_score:\n",
    "        return entity_mapping[best[0]]\n",
    "\n",
    "    # if no mapping, simplify long noisy strings: cut off after 8 words (heuristic)\n",
    "    cleaned = re.sub(r'\\s+', ' ', name).strip()\n",
    "    if len(cleaned.split()) > 8:\n",
    "        cleaned = \" \".join(cleaned.split()[:7])\n",
    "    return cleaned.title()"
   ]
  },
  {
   "cell_type": "markdown",
   "metadata": {},
   "source": [
    "### Step 7-8 Fill unknowns within each Year by Page order\n",
    "- Some pages are marked \"Unknown\" if entity wasn’t detected.\n",
    "- But usually, nearby pages belong to the same ministry/department."
   ]
  },
  {
   "cell_type": "code",
   "execution_count": 108,
   "metadata": {},
   "outputs": [],
   "source": [
    "\n",
    "# - We fill missing rows with the last valid entity seen within the same year.\n",
    "# - This reduces fragmentation and keeps continuity in page order.\n",
    "\n",
    "def fill_missing_entities(df_in):\n",
    "    df = df_in.sort_values([\"Year\", \"Page\"]).reset_index(drop=True)\n",
    "    # Ensure Entity_Clean_List exists\n",
    "    if \"Entity_Clean_List\" not in df.columns:\n",
    "        return df\n",
    "    for year, group in df.groupby(\"Year\"):\n",
    "        last = None\n",
    "        idxs = group.index.tolist()\n",
    "        for i in idxs:\n",
    "            ent_list = df.at[i, \"Entity_Clean_List\"]\n",
    "            # if it's list e.g. ['Unknown']\n",
    "            if isinstance(ent_list, list) and (len(ent_list) == 0 or ent_list == [\"Unknown\"]):\n",
    "                if last:\n",
    "                    df.at[i, \"Entity_Clean_List\"] = [last]\n",
    "            else:\n",
    "                # set last to first element \n",
    "                candidate = ent_list[0] if isinstance(ent_list, list) else ent_list\n",
    "                last = candidate\n",
    "    return df"
   ]
  },
  {
   "cell_type": "markdown",
   "metadata": {},
   "source": [
    "### Tep 9-10 Budget extraction \n",
    "- We pull out budget/expenditure figures (Ksh, billion, million).\n",
    "- Normalize into integers so they’re consistent across pages."
   ]
  },
  {
   "cell_type": "code",
   "execution_count": 109,
   "metadata": {},
   "outputs": [],
   "source": [
    "#  Capture both \"KES 2 billion\" and raw large numbers (≥5 digits).\n",
    "#  Deduplicate and sort descending (largest first per page).\n",
    "def extract_amounts(text):\n",
    "    \"\"\"\n",
    "    Pull out currency mentions and big numbers (>= 5 digits)\n",
    "    and normalize million/billion to integers.\n",
    "    \"\"\"\n",
    "    if pd.isna(text) or not str(text).strip():\n",
    "        return []\n",
    "\n",
    "    t = str(text)\n",
    "    t = t.replace(\"\\u2013\", \"-\").replace(\"\\u2014\", \"-\")  # dashes\n",
    "    t = t.replace(\",\", \"\")  # remove commas for parsing\n",
    "\n",
    "    patterns = [\n",
    "        # Kshs / Ksh / Kes etc with optional million/billion\n",
    "        r'(?:kshs|ksh|kes|ksh\\.|kshs\\.)\\s*([0-9]+(?:\\.[0-9]+)?)\\s*(billion|million|bn|m)?',\n",
    "        # numbers with million/billion words without Kshs\n",
    "        r'([0-9]+(?:\\.[0-9]+)?)\\s*(billion|million|bn|m)',\n",
    "        # plain large integers (5+ digits)\n",
    "        r'\\b([0-9]{5,})\\b'\n",
    "    ]\n",
    "\n",
    "    found = []\n",
    "    for pat in patterns:\n",
    "        for m in re.findall(pat, t, flags=re.IGNORECASE):\n",
    "            # m may be tuple or string; normalize:\n",
    "            if isinstance(m, tuple):\n",
    "                num_str = m[0]\n",
    "                suffix = m[1] if len(m) > 1 else \"\"\n",
    "            else:\n",
    "                num_str = m\n",
    "                suffix = \"\"\n",
    "            try:\n",
    "                num = float(num_str)\n",
    "            except:\n",
    "                continue\n",
    "            mult = 1\n",
    "            if isinstance(suffix, str) and suffix:\n",
    "                s = suffix.lower()\n",
    "                if \"billion\" in s or s == \"bn\":\n",
    "                    mult = 1e9\n",
    "                elif \"million\" in s or s == \"m\":\n",
    "                    mult = 1e6\n",
    "            val = int(num * mult)\n",
    "            found.append(val)\n",
    "\n",
    "    # deduplicate & sort descending (bigger numbers first)\n",
    "    found = sorted(set(found), reverse=True)\n",
    "    return found"
   ]
  },
  {
   "cell_type": "markdown",
   "metadata": {},
   "source": [
    "### Step 11–12: Tokenization and Deduplication\n",
    "We tokenize and lemmatize text while removing stopwords.  \n",
    "Finally, we drop duplicate rows and very short texts to clean the dataset.\n"
   ]
  },
  {
   "cell_type": "code",
   "execution_count": 110,
   "metadata": {},
   "outputs": [],
   "source": [
    "# We process text into tokens for later NLP/analysis.\n",
    "# Provides KeyTerms (first 10 tokens) for quick scanning.\n",
    "\n",
    "def tokenize_lemmatize(text):\n",
    "    if pd.isna(text) or not str(text).strip():\n",
    "        return []\n",
    "    toks = nltk.word_tokenize(str(text))\n",
    "    toks = [w.lower() for w in toks if w.isalpha()]\n",
    "    toks = [w for w in toks if w not in stop_words and len(w) > 2]\n",
    "    toks = [lemmatizer.lemmatize(w) for w in toks]\n",
    "    return toks\n"
   ]
  },
  {
   "cell_type": "markdown",
   "metadata": {},
   "source": [
    "### Step 12-13 Apply the pipeline to the df\n",
    "- Extract raw entities from page text.\n",
    "- Map them to canonical names for consistency.\n",
    "- Fill in unknowns by page order (continuity).\n",
    "- Explode into one row per entity per page.\n",
    "- Extract budget amounts, tokenize, deduplicate."
   ]
  },
  {
   "cell_type": "code",
   "execution_count": 111,
   "metadata": {},
   "outputs": [],
   "source": [
    "# 6.1 Extract entity candidates\n",
    "df[\"Entity_Clean_List\"] = df[\"Full_Page_Text\"].apply(extract_entities)\n",
    "\n",
    "# 6.2 Map to canonical names (apply mapping)\n",
    "df[\"Entity_Clean_List\"] = df[\"Entity_Clean_List\"].apply(\n",
    "    lambda lst: [map_entity_to_canonical(e) for e in lst] if isinstance(lst, list) else [map_entity_to_canonical(lst)]\n",
    ")\n",
    "\n",
    "# 6.3 Fill missing/Unknowns (carry last seen entity within same year)\n",
    "df = fill_missing_entities(df)\n",
    "\n",
    "# 6.4 Explode into one row per entity (like your original step 7)\n",
    "df_exploded = df.explode(\"Entity_Clean_List\").reset_index(drop=True)\n",
    "df_exploded.rename(columns={\"Entity_Clean_List\": \"Entity_Clean\"}, inplace=True)\n",
    "\n",
    "# 6.5 Budget extraction (step 8)\n",
    "df_exploded[\"Budget_Amounts\"] = df_exploded[\"Full_Page_Text\"].apply(extract_amounts)\n",
    "\n",
    "# 6.6 Tokens, KeyTerms (step 9)\n",
    "df_exploded[\"Tokens\"] = df_exploded[\"Clean_Text\"].apply(tokenize_lemmatize)\n",
    "df_exploded[\"KeyTerms\"] = df_exploded[\"Tokens\"].apply(lambda x: x[:10])\n",
    "\n",
    "# 6.7 Check for data duplication & filter short texts (step 10)\n",
    "df_exploded.drop_duplicates(subset=[\"Year\", \"Page\", \"Entity_Clean\", \"Clean_Text\"], inplace=True)\n",
    "df_exploded = df_exploded[df_exploded[\"Clean_Text\"].str.len() > 20]"
   ]
  },
  {
   "cell_type": "code",
   "execution_count": 112,
   "metadata": {},
   "outputs": [],
   "source": [
    "# ---------------------------\n",
    "#  Build entity lookup \n",
    "# Allows restricting fuzzy matches to only those entities present that year.\n",
    "# ---------------------------\n",
    "def build_entity_lookup(df):\n",
    "    lookup = defaultdict(set)\n",
    "    if \"Entity_Clean\" not in df.columns:\n",
    "        return lookup\n",
    "    for _, row in df.iterrows():\n",
    "        y = row.get(\"Year\")\n",
    "        ent = row.get(\"Entity_Clean\")\n",
    "        if pd.notna(y) and pd.notna(ent):\n",
    "            lookup[y].add(ent)\n",
    "    return lookup\n",
    "\n",
    "entity_lookup = build_entity_lookup(df_exploded)"
   ]
  },
  {
   "cell_type": "markdown",
   "metadata": {},
   "source": [
    "### Search Function\n",
    "We define `search_budget`, which filters text by entity, year, and budget-related keywords.  \n",
    "It also uses extracted budget amounts as a fallback when no direct match is found.\n"
   ]
  },
  {
   "cell_type": "code",
   "execution_count": 113,
   "metadata": {},
   "outputs": [],
   "source": [
    "def search_budget(df, entity=None, years=None, query=None,\n",
    "                  entity_lookup=None, strict_cutoff=90, suggest_cutoff=70,\n",
    "                  return_suggestions=False):\n",
    "    \"\"\"\n",
    "    - entity: human query string (e.g. \"ministry of mining\")\n",
    "    - years: single year string, list of years, or None => all years\n",
    "    - entity_lookup: prebuilt lookup from build_entity_lookup\n",
    "    - strict_cutoff: cutoff for accepting a fuzzy match as a true match (0-100)\n",
    "    - suggest_cutoff: lower cutoff used to offer 'did you mean' suggestions\n",
    "    - return_suggestions: if True, return (results_df, suggestions_dict)\n",
    "    \"\"\"\n",
    "    if years is None:\n",
    "        years_to_search = sorted(df[\"Year\"].unique())\n",
    "    elif isinstance(years, list):\n",
    "        years_to_search = years\n",
    "    else:\n",
    "        years_to_search = [years]\n",
    "\n",
    "    all_results = []\n",
    "    suggestions = {}\n",
    "\n",
    "    for yr in years_to_search:\n",
    "        subset = df[df[\"Year\"] == yr].copy()\n",
    "        if subset.empty:\n",
    "            continue\n",
    "\n",
    "        if entity and entity_lookup:\n",
    "            choices = sorted(list(entity_lookup.get(yr, [])))\n",
    "            # First try exact containment (fast)\n",
    "            mask_exact = subset[\"Entity_Clean\"].str.contains(entity, case=False, na=False)\n",
    "            if mask_exact.any():\n",
    "                matched = subset[mask_exact]\n",
    "                all_results.append(matched)\n",
    "                continue\n",
    "\n",
    "            # strict fuzzy\n",
    "            best = process.extractOne(entity, choices, scorer=fuzz.WRatio)\n",
    "            if best and best[1] >= strict_cutoff:\n",
    "                matched_name = best[0]\n",
    "                matched = subset[subset[\"Entity_Clean\"].str.contains(re.escape(matched_name), case=False, na=False)]\n",
    "                if not matched.empty:\n",
    "                    all_results.append(matched)\n",
    "                    continue\n",
    "\n",
    "            # if not strict match, provide suggestions using lower suggest_cutoff\n",
    "            # Use top-3 suggestions\n",
    "            sug = process.extract(entity, choices, limit=3, scorer=fuzz.WRatio)\n",
    "            sug_filtered = [s for s in sug if s[1] >= suggest_cutoff]\n",
    "            if sug_filtered:\n",
    "                suggestions[yr] = sug_filtered\n",
    "            # do not add incorrect rows in absence of strict match\n",
    "            continue\n",
    "\n",
    "        # if no entity provided, filter by query keywords if any\n",
    "        if query:\n",
    "            keywords = [\"budget\", \"allocation\", \"expenditure\", \"funds\", \"appropriation\", \"vote\", \"surrender\"]\n",
    "            mask_q = subset[\"Clean_Text\"].str.contains(\"|\".join(keywords), case=False, na=False)\n",
    "            subset = subset[mask_q]\n",
    "\n",
    "        if not subset.empty:\n",
    "            all_results.append(subset)\n",
    "\n",
    "    final = pd.concat(all_results, ignore_index=True) if all_results else pd.DataFrame()\n",
    "    if return_suggestions:\n",
    "        return final, suggestions\n",
    "    return final"
   ]
  },
  {
   "cell_type": "code",
   "execution_count": 114,
   "metadata": {},
   "outputs": [],
   "source": [
    "# ---------------------------\n",
    "# This shows which known entities per year haven't been returned\n",
    "# Helps you know if some ministries/departments were missed.\n",
    "# ---------------------------\n",
    "def missing_entities_report(df, results_df, year):\n",
    "    \"\"\"Compare all known entities for a year vs entities in results_df\"\"\"\n",
    "    all_entities = set(df[df[\"Year\"] == year][\"Entity_Clean\"].unique())\n",
    "    found = set(results_df[results_df[\"Year\"] == year][\"Entity_Clean\"].unique())\n",
    "    missing = sorted(list(all_entities - found))\n",
    "    return {\"year\": year, \"total_entities\": len(all_entities), \"found\": len(found), \"missing_count\": len(missing), \"missing_examples\": missing[:20]}"
   ]
  },
  {
   "cell_type": "markdown",
   "metadata": {},
   "source": [
    "### Running the Search\n",
    "- We run `search_budget` on the cleaned dataset and print entity, year, page, budget amounts, and excerpted text for inspection.\n",
    "- Example search for \"Ministry of Mining\" across multiple years.\n",
    "- Prints clean results, skips TOC/appendix pages."
   ]
  },
  {
   "cell_type": "code",
   "execution_count": null,
   "metadata": {},
   "outputs": [],
   "source": [
    "# strict search (will skip years where the entity does not exist)\n",
    "results, suggestions = search_budget(\n",
    "    df=df_exploded,\n",
    "    entity=\"jomo kenyatta university of agriculture and technology\",\n",
    "    years=[\"2020/2021\"],\n",
    "    query=\"budget\",\n",
    "    entity_lookup=entity_lookup,\n",
    "    strict_cutoff=90,\n",
    "    suggest_cutoff=70,\n",
    "    return_suggestions=True\n",
    ")\n",
    "\n",
    "\n",
    "if results.empty:\n",
    "    print(\"No strict matches returned. Suggestions by year (if any):\")\n",
    "    print(suggestions)\n",
    "\n",
    "else:\n",
    "    for _, row in results.iterrows():\n",
    "        text = row['Full_Page_Text']\n",
    "\n",
    "        #Skip appendix, annex, table of contents, and contents-like pages\n",
    "        if re.search(r\"\\b(appendix|annex|table of contents|contents)\\b\", text, flags=re.IGNORECASE):\n",
    "            continue\n",
    "\n",
    "        # Skip if page looks like TOC (lots of dots and page numbers)\n",
    "        if len(re.findall(r\"\\.{5,}\\s*\\d+\", text)) > 5:  \n",
    "            continue\n",
    "\n",
    "        print(f\"📄 Entity: {row['Entity_Clean']}\")\n",
    "        print(f\"📅 Year: {row['Year']}\")\n",
    "        print(f\"📑 Page: {row['Page']}\")\n",
    "        print(f\"💰 Budgets Extracted: {row['Budget_Amounts']}\")\n",
    "        print(f\"📝 Full Page Text:\\n{text}\\n\")\n",
    "        print(\"-\" * 80)\n",
    "\n"
   ]
  },
  {
   "cell_type": "code",
   "execution_count": 116,
   "metadata": {},
   "outputs": [],
   "source": [
    "\n",
    "# Save your processed dataframe\n",
    "df_exploded.to_pickle(\"deployment/processed_budget.pkl\")\n"
   ]
  },
  {
   "cell_type": "markdown",
   "metadata": {},
   "source": [
    "## Feature Engineering"
   ]
  },
  {
   "cell_type": "code",
   "execution_count": 117,
   "metadata": {},
   "outputs": [],
   "source": [
    "df_modeling = df_exploded.copy()\n",
    "# Example: Assume Budget_Amounts contains [Approved, Actual]\n",
    "def extract_budget_info(row):\n",
    "    if isinstance(row, list) and len(row) >= 2:\n",
    "        return row[0], row[1]  # approved, actual\n",
    "    return np.nan, np.nan\n",
    "\n",
    "df_modeling[[\"Approved_Budget\", \"Actual_Expenditure\"]] = df_modeling[\"Budget_Amounts\"].apply(\n",
    "    lambda x: pd.Series(extract_budget_info(x))\n",
    ")\n",
    "\n",
    "# Target variable: classify budget performance\n",
    "def classify_performance(row, threshold=0.05):\n",
    "    if pd.isna(row[\"Approved_Budget\"]) or pd.isna(row[\"Actual_Expenditure\"]):\n",
    "        return None\n",
    "    ratio = (row[\"Actual_Expenditure\"] - row[\"Approved_Budget\"]) / row[\"Approved_Budget\"]\n",
    "    if ratio > threshold:\n",
    "        return \"Overspend\"\n",
    "    elif ratio < -threshold:\n",
    "        return \"Underspend\"\n",
    "    else:\n",
    "        return \"Balanced\"\n",
    "\n",
    "df_modeling[\"Budget_Performance\"] = df_modeling.apply(classify_performance, axis=1)\n"
   ]
  },
  {
   "cell_type": "code",
   "execution_count": 118,
   "metadata": {},
   "outputs": [],
   "source": [
    "# Flatten budget amounts\n",
    "# The code checks:\n",
    "# If the cell is a list, it calculates the sum of the values.\n",
    "# If not (NaN, empty, or just a single number), it returns 0.\n",
    "df_modeling[\"Budget_Total\"] = df_modeling[\"Budget_Amounts\"].apply(\n",
    "    lambda x: sum(x) if isinstance(x, list) else 0\n",
    ")\n",
    "df_modeling[\"Budget_Count\"] = df_modeling[\"Budget_Amounts\"].apply(\n",
    "    lambda x: len(x) if isinstance(x, list) else 0\n",
    ")\n"
   ]
  },
  {
   "cell_type": "code",
   "execution_count": 119,
   "metadata": {},
   "outputs": [],
   "source": [
    "# classify if budget mentions exceed 1 billion(target variable)\n",
    "df_modeling[\"High_Budget_Flag\"] = df_modeling[\"Budget_Total\"].apply(lambda x: 1 if x > 1e9 else 0)\n",
    "\n",
    "# Feature set\n",
    "X = df_modeling[[\n",
    "    \"Year\", \"Ministry_Clean\", \"Entity_Clean\", \"SentimentScore\", \n",
    "    \"Budget_Total\", \"Budget_Count\", \"Clean_Text\"\n",
    "]]\n",
    "y = df_modeling[\"High_Budget_Flag\"]\n"
   ]
  },
  {
   "cell_type": "code",
   "execution_count": null,
   "metadata": {},
   "outputs": [],
   "source": [
    "df_modeling.head()"
   ]
  },
  {
   "cell_type": "code",
   "execution_count": 121,
   "metadata": {},
   "outputs": [],
   "source": [
    "# Dropping unwanted columns and null rows\n",
    "df_modeling.dropna(subset=[\"Approved_Budget\", \"Actual_Expenditure\"], inplace=True)\n",
    "df_modeling= df_modeling.drop(\"Budget_Amounts\", axis=1)\n"
   ]
  },
  {
   "cell_type": "code",
   "execution_count": 122,
   "metadata": {},
   "outputs": [
    {
     "name": "stdout",
     "output_type": "stream",
     "text": [
      "<class 'pandas.core.frame.DataFrame'>\n",
      "Int64Index: 2680 entries, 2 to 3475\n",
      "Data columns (total 16 columns):\n",
      " #   Column              Non-Null Count  Dtype  \n",
      "---  ------              --------------  -----  \n",
      " 0   Year                2680 non-null   object \n",
      " 1   Page                2680 non-null   int64  \n",
      " 2   Ministry            2680 non-null   object \n",
      " 3   Full_Page_Text      2680 non-null   object \n",
      " 4   Tokens              2680 non-null   object \n",
      " 5   KeyTerms            2680 non-null   object \n",
      " 6   SentimentScore      2680 non-null   int64  \n",
      " 7   Clean_Text          2680 non-null   object \n",
      " 8   Ministry_Clean      2680 non-null   object \n",
      " 9   Entity_Clean        2680 non-null   object \n",
      " 10  Approved_Budget     2680 non-null   float64\n",
      " 11  Actual_Expenditure  2680 non-null   float64\n",
      " 12  Budget_Performance  2680 non-null   object \n",
      " 13  Budget_Total        2680 non-null   uint64 \n",
      " 14  Budget_Count        2680 non-null   int64  \n",
      " 15  High_Budget_Flag    2680 non-null   int64  \n",
      "dtypes: float64(2), int64(4), object(9), uint64(1)\n",
      "memory usage: 355.9+ KB\n"
     ]
    }
   ],
   "source": [
    "df_modeling.info()"
   ]
  },
  {
   "cell_type": "code",
   "execution_count": 123,
   "metadata": {},
   "outputs": [],
   "source": [
    "# Filter extreme outliers in target (top 1%) to improve model stability\n",
    "cutoff = df_modeling[\"Approved_Budget\"].quantile(0.99)\n",
    "df_modeling = df_modeling[df_modeling[\"Approved_Budget\"] < cutoff].copy()"
   ]
  },
  {
   "cell_type": "code",
   "execution_count": 124,
   "metadata": {},
   "outputs": [],
   "source": [
    "# Ensure text and categorical columns are non-null\n",
    "df_modeling[\"Clean_Text\"] = df_modeling[\"Clean_Text\"].fillna(\"\").astype(str)\n",
    "df_modeling[\"Full_Page_Text\"] = df_modeling[\"Full_Page_Text\"].fillna(\"\").astype(str)\n",
    "df_modeling[\"Year\"] = df_modeling[\"Year\"].astype(str)\n",
    "df_modeling[\"Ministry_Clean\"] = df_modeling[\"Ministry_Clean\"].fillna(\"Unknown\")\n",
    "df_modeling[\"Entity_Clean\"] = df_modeling[\"Entity_Clean\"].fillna(\"Unknown\")"
   ]
  },
  {
   "cell_type": "code",
   "execution_count": 125,
   "metadata": {},
   "outputs": [],
   "source": [
    "# Numeric features\n",
    "df_modeling[\"Budget_Total\"] = pd.to_numeric(df_modeling[\"Budget_Total\"], errors=\"coerce\").fillna(0)\n",
    "df_modeling[\"Budget_Count\"] = pd.to_numeric(df_modeling[\"Budget_Count\"], errors=\"coerce\").fillna(0)\n"
   ]
  },
  {
   "cell_type": "code",
   "execution_count": 126,
   "metadata": {},
   "outputs": [],
   "source": [
    "# Define features & target, and split\n",
    "target = \"Approved_Budget\"\n",
    "\n",
    "numeric_features = [\"Budget_Total\", \"Budget_Count\"]\n",
    "categorical_features = [\"Year\", \"Ministry_Clean\", \"Entity_Clean\"]\n",
    "text_feature = \"Clean_Text\"  # we use this for text input\n",
    "\n",
    "X = df_modeling[numeric_features + categorical_features + [text_feature]]\n",
    "y = df_modeling[target].values\n",
    "\n",
    "X_train, X_test, y_train, y_test = train_test_split(X, y, test_size=0.2, random_state=42)"
   ]
  },
  {
   "cell_type": "code",
   "execution_count": 127,
   "metadata": {},
   "outputs": [],
   "source": [
    "# Set up preprocessing pipeline (numeric, categorical, text)\n",
    "preprocessor = ColumnTransformer([\n",
    "    (\"num\", \"passthrough\", numeric_features),\n",
    "    (\"cat\", OneHotEncoder(handle_unknown=\"ignore\"), categorical_features),\n",
    "    (\"text\", TfidfVectorizer(max_features=2000, ngram_range=(1,2), stop_words=\"english\"), text_feature)\n",
    "])"
   ]
  },
  {
   "cell_type": "code",
   "execution_count": 128,
   "metadata": {},
   "outputs": [],
   "source": [
    "#Baseline pipeline: TF-IDF + Linear Regression\n",
    "\n",
    "baseline = Pipeline([\n",
    "    (\"tfidf\", TfidfVectorizer(\n",
    "        max_features=5000,\n",
    "        ngram_range=(1,2),\n",
    "        stop_words=\"english\"\n",
    "    )),\n",
    "    (\"reg\", LinearRegression())\n",
    "])\n",
    "\n",
    "baseline.fit(X_train[\"Clean_Text\"], y_train)\n",
    "\n",
    "y_pred = baseline.predict(X_test[\"Clean_Text\"])\n"
   ]
  },
  {
   "cell_type": "code",
   "execution_count": 129,
   "metadata": {},
   "outputs": [
    {
     "name": "stdout",
     "output_type": "stream",
     "text": [
      "Baseline TF-IDF + Linear Regression\n",
      "RMSE: 10572303235851.764\n",
      "R²: 0.200451509032037\n"
     ]
    }
   ],
   "source": [
    "# Evaluate the baseline models ---\n",
    "\n",
    "rmse = np.sqrt(mean_squared_error(y_test, y_pred))\n",
    "r2 = r2_score(y_test, y_pred)\n",
    "print(\"Baseline TF-IDF + Linear Regression\")\n",
    "print(\"RMSE:\", rmse)\n",
    "print(\"R²:\", r2)"
   ]
  },
  {
   "cell_type": "markdown",
   "metadata": {},
   "source": [
    "These baseline results (RMSE ~ 1.1e11; R² ~ 0.20) show that the TF-IDF + Linear Regression model is doing worse than a trivial predictor (mean of Approved_Budget). A negative R² means the model’s errors are larger than simply predicting the mean for all samples"
   ]
  },
  {
   "cell_type": "code",
   "execution_count": 130,
   "metadata": {},
   "outputs": [
    {
     "name": "stdout",
     "output_type": "stream",
     "text": [
      "Tuned XGBoost RMSE: 368904739458.20844\n",
      "Tuned XGBoost R²: 0.9012735290562415\n"
     ]
    }
   ],
   "source": [
    "\n",
    "## Boost model (the \"best\" model, in this configure-only scenario)\n",
    "\n",
    "# Split into train + validation\n",
    "# filter out top 1% outliers in target\n",
    "cutoff = np.quantile(y, 0.99)\n",
    "mask = y < cutoff\n",
    "X_filtered = X[mask]\n",
    "y_filtered = y[mask]\n",
    "\n",
    "# Redo train-test split on filtered data\n",
    "X_train, X_test, y_train, y_test = train_test_split(\n",
    "    X_filtered, y_filtered, test_size=0.2, random_state=42\n",
    ")\n",
    "\n",
    "# Preprocessor: numeric passthrough, categorical one-hot, text-via TF-IDF\n",
    "preprocessor = ColumnTransformer([\n",
    "    (\"num\", \"passthrough\", numeric_features),\n",
    "    (\"cat\", OneHotEncoder(handle_unknown=\"ignore\", sparse_output=True), categorical_features),\n",
    "    (\"text\", TfidfVectorizer(max_features=2000, ngram_range=(1,2), stop_words=\"english\"), text_feature)\n",
    "])\n",
    "\n",
    "# Transform training and test sets\n",
    "X_train_trans = preprocessor.fit_transform(X_train)\n",
    "X_test_trans = preprocessor.transform(X_test)\n",
    "\n",
    "# Create the XGBoost regressor\n",
    "xgb_model = xgb.XGBRegressor(\n",
    "    n_estimators=100,\n",
    "    learning_rate=0.1,\n",
    "    max_depth=5,\n",
    "    subsample=0.8,\n",
    "    colsample_bytree=0.8,\n",
    "    gamma=1,\n",
    "    reg_lambda=1,\n",
    "    reg_alpha=0.5,\n",
    "    random_state=42,\n",
    "    n_jobs=-1\n",
    ")\n",
    "\n",
    "# Fit the model \n",
    "xgb_model.fit(\n",
    "    X_train_trans, y_train,\n",
    "    eval_set=[(X_test_trans, y_test)],\n",
    "    verbose=False\n",
    ")\n",
    "\n",
    "# Predictions & evaluation\n",
    "y_pred = xgb_model.predict(X_test_trans)\n",
    "rmse = np.sqrt(mean_squared_error(y_test, y_pred))\n",
    "r2 = r2_score(y_test, y_pred)\n",
    "print(\"Tuned XGBoost RMSE:\", rmse)\n",
    "print(\"Tuned XGBoost R²:\", r2)"
   ]
  },
  {
   "cell_type": "markdown",
   "metadata": {},
   "source": [
    "XGBoost (with numeric + categorical + text features):\n",
    "- RMSE ≈ 3.68 × 10^11\n",
    "- R² ≈ 0.90\n",
    "- Interpretation:\n",
    "RMSE dropped dramatically \n",
    "R² jumped from negative to 0.90, meaning the model now explains about 90% of the variance in Approved Budget.\n",
    "This is a substantial improvement — the model is capturing real patterns in the data.\n",
    "The fact that XGBoost can predict them reasonably well suggests consistent patterns across years, ministries, and text descriptions.\n",
    "\n",
    "******\n",
    "The baseline TF-IDF + Linear Regression model performed poorly, indicating that budget allocations cannot be captured using text alone in a linear framework. The tuned XGBoost model achieved an RMSE of ~3.68e11 and R² of ~0.90, showing a substantial improvement. This suggests that budget allocations follow systematic patterns tied to ministries, entities, and project descriptions. The model can provide valuable insights for predicting future allocations and identifying anomalies."
   ]
  },
  {
   "cell_type": "markdown",
   "metadata": {},
   "source": [
    "## Insights and recommendations \n",
    "Financial & Policy Recommendations\n",
    "1. Address Chronic Underspending.\n",
    "Several MDAs consistently underspend their approved budgets. This points to absorption challenges and inefficiencies in project execution.\n",
    "Action: Review procurement and implementation bottlenecks, and revise budget ceilings for recurrent underspenders to better align resources with capacity.\n",
    "2. Tighten Oversight on Overspending MDAs.\n",
    "Overspending cases pose significant financial risks.\n",
    "Action: Establish a red-flag threshold (e.g., >120% budget utilization) that automatically triggers audits or closer monitoring.\n",
    "3. Audit Prioritization Using Clusters.\n",
    "With nearly 70% of MDAs flagged, resources for auditing should be allocated strategically.\n",
    "Action: Prioritize overspenders and extreme underspenders, while maintaining light-touch monitoring of efficient MDAs.\n",
    "4. Improve Budget Forecasting & Planning.\n",
    "Persistent variance between approved budgets and actuals suggests weak forecasting mechanisms.\n",
    "Action: Require evidence-based justifications for allocations, and apply historical performance trends when setting future ceilings.\n",
    "5. Capacity Building for Low-Performing MDAs.\n",
    "Low utilization rates often reflect weak planning and reporting capacity.\n",
    "Action: Provide training and technical support, simplify fund disbursement procedures, and strengthen accountability frameworks.\n",
    "6. Strengthen Budget Formulation.\n",
    "Require MDAs to justify allocations with detailed implementation capacity assessments (staffing, procurement readiness, past absorption rates).\n",
    "Adopt evidence-based budgeting where future allocations are tied to past budget utilization trends.\n",
    "7. Introduce Performance Contracts.\n",
    "Tie senior management performance appraisals to budget absorption KPIs (e.g., ≥90% execution rate).\n",
    "Use dashboards to flag anomalies in real time (based on cluster membership).\n",
    "8. Capacity Building & Digitalization.\n",
    "Train MDA finance departments on planning, reporting, and monitoring.\n",
    "Enhance the Integrated Financial Management Information System (IFMIS) to automatically track variance and trigger alerts."
   ]
  }
 ],
 "metadata": {
  "kernelspec": {
   "display_name": "Python (learn-env)",
   "language": "python",
   "name": "learn-env"
  },
  "language_info": {
   "codemirror_mode": {
    "name": "ipython",
    "version": 3
   },
   "file_extension": ".py",
   "mimetype": "text/x-python",
   "name": "python",
   "nbconvert_exporter": "python",
   "pygments_lexer": "ipython3",
   "version": "3.8.5"
  }
 },
 "nbformat": 4,
 "nbformat_minor": 5
}
